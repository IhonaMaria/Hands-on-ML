{
 "cells": [
  {
   "cell_type": "markdown",
   "id": "4b96ae34",
   "metadata": {},
   "source": [
    "# FLIGHT DELAY PREDICTION"
   ]
  },
  {
   "cell_type": "markdown",
   "id": "3f9a6c5f",
   "metadata": {},
   "source": [
    "## 1. INTRODUCTION"
   ]
  },
  {
   "cell_type": "markdown",
   "id": "d6bfd2f5",
   "metadata": {},
   "source": [
    "## 1.1. Objectives and context"
   ]
  },
  {
   "cell_type": "markdown",
   "id": "7e0f977e",
   "metadata": {},
   "source": [
    "The objective of this project is to be able to predict if a flight will be delayed.\n",
    "The model has been obtained from a real dataset of a Spanish car rental company from Mallorca. They wanted to know which flights were more likely to be delayed in order to rearrange their services."
   ]
  },
  {
   "cell_type": "markdown",
   "id": "06ad5574",
   "metadata": {},
   "source": [
    "## 1.2. Variables of the dataset"
   ]
  },
  {
   "cell_type": "markdown",
   "id": "48fa3ecc",
   "metadata": {},
   "source": [
    "The variables that appear in the dataset are:\n",
    "\n",
    "- id: Flight identification\n",
    "- compania: It contains the initials of the flight company.\n",
    "- numvuelo: Flight number. It normally contains 4 or 3 numbers but it can also contain a letter.\n",
    "- iataaena: A code the airport uses, it is not relevant for our problem.\n",
    "- fecha: Date of the flight.\n",
    "- horaprogramada: Scheduled time of arrival of the flight.\n",
    "- fechaestimada: Estimated date.\n",
    "- horaestimada: Estimated arrival flight time.\n",
    "- iataotro: Irrelevant\n",
    "- estado: Irrelevant\n",
    "- tipovuelo: Irrelevant \n",
    "- codigoscompania: Irrelevant \n",
    "- terminal: Irrelevant \n",
    "- tipoaeronave: Aircraft type\n",
    "- cintaprimera: Irrelevant\n",
    "- cintasegunda: Null\n",
    "- salaprimera:Irrelevant\n",
    "- salasegunda: Null\n",
    "- ciudadiataotro:City of origin of the flight\n",
    "- iatacompania:Used to identify the company name (Iberia is IB, Ryanair is FR, etc)\n",
    "- oaciocompania: Similar to iatacompania\n",
    "- nombrecompania: Name of the flight company\n",
    "- iatascompaniasecundarios: Null\n",
    "- oaciscompaniasecundarios: Null\n",
    "- poicinta: Irrelevant\n",
    "- hora_llegada: Actual time of arrival of the flight.\n",
    "\n",
    "There are many irrelevant variables that we won't take into consideration.\n"
   ]
  },
  {
   "cell_type": "markdown",
   "id": "02221e5e",
   "metadata": {},
   "source": [
    "## 1.3. Limitations"
   ]
  },
  {
   "cell_type": "markdown",
   "id": "d7aeeb1e",
   "metadata": {},
   "source": [
    "There is only available data of 2 months and a half."
   ]
  },
  {
   "cell_type": "markdown",
   "id": "42c6bd86",
   "metadata": {},
   "source": [
    "# 2. DATASET"
   ]
  },
  {
   "cell_type": "code",
   "execution_count": 1,
   "id": "82f04137",
   "metadata": {},
   "outputs": [],
   "source": [
    "import numpy as np # linear algebra\n",
    "import pandas as pd\n",
    "import warnings\n",
    "warnings.filterwarnings(\"ignore\")\n",
    "\n",
    "import matplotlib.pyplot as plt\n",
    "import seaborn as sns\n",
    "import os"
   ]
  },
  {
   "cell_type": "code",
   "execution_count": 2,
   "id": "047a21ad",
   "metadata": {},
   "outputs": [
    {
     "data": {
      "text/html": [
       "<div>\n",
       "<style scoped>\n",
       "    .dataframe tbody tr th:only-of-type {\n",
       "        vertical-align: middle;\n",
       "    }\n",
       "\n",
       "    .dataframe tbody tr th {\n",
       "        vertical-align: top;\n",
       "    }\n",
       "\n",
       "    .dataframe thead th {\n",
       "        text-align: right;\n",
       "    }\n",
       "</style>\n",
       "<table border=\"1\" class=\"dataframe\">\n",
       "  <thead>\n",
       "    <tr style=\"text-align: right;\">\n",
       "      <th></th>\n",
       "      <th>id</th>\n",
       "      <th>compania</th>\n",
       "      <th>numvuelo</th>\n",
       "      <th>iataaena</th>\n",
       "      <th>fecha</th>\n",
       "      <th>horaprogramada</th>\n",
       "      <th>fechaestimada</th>\n",
       "      <th>horaestimada</th>\n",
       "      <th>iataotro</th>\n",
       "      <th>estado</th>\n",
       "      <th>...</th>\n",
       "      <th>salaprimera</th>\n",
       "      <th>salasegunda</th>\n",
       "      <th>ciudadiataotro</th>\n",
       "      <th>iatacompania</th>\n",
       "      <th>oacicompania</th>\n",
       "      <th>nombrecompania</th>\n",
       "      <th>iatascompaniasecundarios</th>\n",
       "      <th>oaciscompaniasecundarios</th>\n",
       "      <th>poicinta</th>\n",
       "      <th>hora_llegada</th>\n",
       "    </tr>\n",
       "  </thead>\n",
       "  <tbody>\n",
       "    <tr>\n",
       "      <th>0</th>\n",
       "      <td>UX5200110520231400GRANADA-JAÉN F.G.L.</td>\n",
       "      <td>UX</td>\n",
       "      <td>5200</td>\n",
       "      <td>PMI</td>\n",
       "      <td>2023-05-11</td>\n",
       "      <td>14:00:00</td>\n",
       "      <td>2023-05-11</td>\n",
       "      <td>14:03:00</td>\n",
       "      <td>GRX</td>\n",
       "      <td>IBK</td>\n",
       "      <td>...</td>\n",
       "      <td>NT</td>\n",
       "      <td>NaN</td>\n",
       "      <td>GRANADA-JAÉN F.G.L.</td>\n",
       "      <td>UX</td>\n",
       "      <td>AEA</td>\n",
       "      <td>Air Europa</td>\n",
       "      <td>NaN</td>\n",
       "      <td>NaN</td>\n",
       "      <td>1.049727e+12</td>\n",
       "      <td>14:35:53</td>\n",
       "    </tr>\n",
       "    <tr>\n",
       "      <th>1</th>\n",
       "      <td>EWG592090520230830KOELN/BONN</td>\n",
       "      <td>EWG</td>\n",
       "      <td>592</td>\n",
       "      <td>PMI</td>\n",
       "      <td>2023-05-09</td>\n",
       "      <td>08:30:00</td>\n",
       "      <td>2023-05-09</td>\n",
       "      <td>08:25:00</td>\n",
       "      <td>CGN</td>\n",
       "      <td>IBK</td>\n",
       "      <td>...</td>\n",
       "      <td>NT</td>\n",
       "      <td>NaN</td>\n",
       "      <td>KOELN/BONN</td>\n",
       "      <td>EW</td>\n",
       "      <td>EWG</td>\n",
       "      <td>Eurowings</td>\n",
       "      <td>NaN</td>\n",
       "      <td>NaN</td>\n",
       "      <td>1.049727e+12</td>\n",
       "      <td>08:40:53</td>\n",
       "    </tr>\n",
       "    <tr>\n",
       "      <th>2</th>\n",
       "      <td>EWG9584090520230830DUSSELDORF</td>\n",
       "      <td>EWG</td>\n",
       "      <td>9584</td>\n",
       "      <td>PMI</td>\n",
       "      <td>2023-05-09</td>\n",
       "      <td>08:30:00</td>\n",
       "      <td>2023-05-09</td>\n",
       "      <td>08:24:00</td>\n",
       "      <td>DUS</td>\n",
       "      <td>IBK</td>\n",
       "      <td>...</td>\n",
       "      <td>NT</td>\n",
       "      <td>NaN</td>\n",
       "      <td>DUSSELDORF</td>\n",
       "      <td>EW</td>\n",
       "      <td>EWG</td>\n",
       "      <td>Eurowings</td>\n",
       "      <td>NaN</td>\n",
       "      <td>NaN</td>\n",
       "      <td>1.049727e+12</td>\n",
       "      <td>08:40:53</td>\n",
       "    </tr>\n",
       "    <tr>\n",
       "      <th>3</th>\n",
       "      <td>TB1441090520230835OSTEND-BRUGES (OST)</td>\n",
       "      <td>TB</td>\n",
       "      <td>1441</td>\n",
       "      <td>PMI</td>\n",
       "      <td>2023-05-09</td>\n",
       "      <td>08:35:00</td>\n",
       "      <td>2023-05-09</td>\n",
       "      <td>08:21:00</td>\n",
       "      <td>OST</td>\n",
       "      <td>IBK</td>\n",
       "      <td>...</td>\n",
       "      <td>NT</td>\n",
       "      <td>NaN</td>\n",
       "      <td>OSTEND-BRUGES (OST)</td>\n",
       "      <td>TB</td>\n",
       "      <td>JAF</td>\n",
       "      <td>TUI FLY BELGIUM</td>\n",
       "      <td>NaN</td>\n",
       "      <td>NaN</td>\n",
       "      <td>1.049727e+12</td>\n",
       "      <td>08:40:53</td>\n",
       "    </tr>\n",
       "    <tr>\n",
       "      <th>4</th>\n",
       "      <td>RYR7831090520230845BRUSELAS /CHARLEROI</td>\n",
       "      <td>RYR</td>\n",
       "      <td>7831</td>\n",
       "      <td>PMI</td>\n",
       "      <td>2023-05-09</td>\n",
       "      <td>08:45:00</td>\n",
       "      <td>2023-05-09</td>\n",
       "      <td>08:28:00</td>\n",
       "      <td>CRL</td>\n",
       "      <td>IBK</td>\n",
       "      <td>...</td>\n",
       "      <td>NT</td>\n",
       "      <td>NaN</td>\n",
       "      <td>BRUSELAS /CHARLEROI</td>\n",
       "      <td>FR</td>\n",
       "      <td>RYR</td>\n",
       "      <td>Ryanair</td>\n",
       "      <td>NaN</td>\n",
       "      <td>NaN</td>\n",
       "      <td>1.233748e+12</td>\n",
       "      <td>08:40:53</td>\n",
       "    </tr>\n",
       "    <tr>\n",
       "      <th>...</th>\n",
       "      <td>...</td>\n",
       "      <td>...</td>\n",
       "      <td>...</td>\n",
       "      <td>...</td>\n",
       "      <td>...</td>\n",
       "      <td>...</td>\n",
       "      <td>...</td>\n",
       "      <td>...</td>\n",
       "      <td>...</td>\n",
       "      <td>...</td>\n",
       "      <td>...</td>\n",
       "      <td>...</td>\n",
       "      <td>...</td>\n",
       "      <td>...</td>\n",
       "      <td>...</td>\n",
       "      <td>...</td>\n",
       "      <td>...</td>\n",
       "      <td>...</td>\n",
       "      <td>...</td>\n",
       "      <td>...</td>\n",
       "      <td>...</td>\n",
       "    </tr>\n",
       "    <tr>\n",
       "      <th>24200</th>\n",
       "      <td>TOM5674010720231720DURHAM TEES VALLEY</td>\n",
       "      <td>TOM</td>\n",
       "      <td>5674</td>\n",
       "      <td>PMI</td>\n",
       "      <td>2023-07-01</td>\n",
       "      <td>17:20:00</td>\n",
       "      <td>2023-07-01</td>\n",
       "      <td>17:18:00</td>\n",
       "      <td>MME</td>\n",
       "      <td>IBK</td>\n",
       "      <td>...</td>\n",
       "      <td>NT</td>\n",
       "      <td>NaN</td>\n",
       "      <td>DURHAM TEES VALLEY</td>\n",
       "      <td>BY</td>\n",
       "      <td>TOM</td>\n",
       "      <td>Tui Airways</td>\n",
       "      <td>NaN</td>\n",
       "      <td>NaN</td>\n",
       "      <td>1.049727e+12</td>\n",
       "      <td>17:30:21</td>\n",
       "    </tr>\n",
       "    <tr>\n",
       "      <th>24201</th>\n",
       "      <td>RYR5402010720231720NUREMBERG</td>\n",
       "      <td>RYR</td>\n",
       "      <td>5402</td>\n",
       "      <td>PMI</td>\n",
       "      <td>2023-07-01</td>\n",
       "      <td>17:20:00</td>\n",
       "      <td>2023-07-01</td>\n",
       "      <td>17:14:00</td>\n",
       "      <td>NUE</td>\n",
       "      <td>IBK</td>\n",
       "      <td>...</td>\n",
       "      <td>NT</td>\n",
       "      <td>NaN</td>\n",
       "      <td>NUREMBERG</td>\n",
       "      <td>FR</td>\n",
       "      <td>RYR</td>\n",
       "      <td>Ryanair</td>\n",
       "      <td>NaN</td>\n",
       "      <td>NaN</td>\n",
       "      <td>1.233748e+12</td>\n",
       "      <td>17:30:21</td>\n",
       "    </tr>\n",
       "    <tr>\n",
       "      <th>24202</th>\n",
       "      <td>EWG9576010720231730DUSSELDORF</td>\n",
       "      <td>EWG</td>\n",
       "      <td>9576</td>\n",
       "      <td>PMI</td>\n",
       "      <td>2023-07-01</td>\n",
       "      <td>17:30:00</td>\n",
       "      <td>2023-07-01</td>\n",
       "      <td>17:19:00</td>\n",
       "      <td>DUS</td>\n",
       "      <td>IBK</td>\n",
       "      <td>...</td>\n",
       "      <td>NT</td>\n",
       "      <td>NaN</td>\n",
       "      <td>DUSSELDORF</td>\n",
       "      <td>EW</td>\n",
       "      <td>EWG</td>\n",
       "      <td>Eurowings</td>\n",
       "      <td>NaN</td>\n",
       "      <td>NaN</td>\n",
       "      <td>1.049727e+12</td>\n",
       "      <td>17:30:21</td>\n",
       "    </tr>\n",
       "    <tr>\n",
       "      <th>24203</th>\n",
       "      <td>IB8507010720231730MENORCA</td>\n",
       "      <td>IB</td>\n",
       "      <td>8507</td>\n",
       "      <td>PMI</td>\n",
       "      <td>2023-07-01</td>\n",
       "      <td>17:30:00</td>\n",
       "      <td>2023-07-01</td>\n",
       "      <td>17:10:00</td>\n",
       "      <td>MAH</td>\n",
       "      <td>IBK</td>\n",
       "      <td>...</td>\n",
       "      <td>NT</td>\n",
       "      <td>NaN</td>\n",
       "      <td>MENORCA</td>\n",
       "      <td>IB</td>\n",
       "      <td>IBE</td>\n",
       "      <td>Iberia</td>\n",
       "      <td>NaN</td>\n",
       "      <td>NaN</td>\n",
       "      <td>1.049727e+12</td>\n",
       "      <td>17:30:21</td>\n",
       "    </tr>\n",
       "    <tr>\n",
       "      <th>24204</th>\n",
       "      <td>TOM1682010720231745CORK</td>\n",
       "      <td>TOM</td>\n",
       "      <td>1682</td>\n",
       "      <td>PMI</td>\n",
       "      <td>2023-07-01</td>\n",
       "      <td>17:45:00</td>\n",
       "      <td>2023-07-01</td>\n",
       "      <td>17:20:00</td>\n",
       "      <td>ORK</td>\n",
       "      <td>IBK</td>\n",
       "      <td>...</td>\n",
       "      <td>NT</td>\n",
       "      <td>NaN</td>\n",
       "      <td>CORK</td>\n",
       "      <td>BY</td>\n",
       "      <td>TOM</td>\n",
       "      <td>Tui Airways</td>\n",
       "      <td>NaN</td>\n",
       "      <td>NaN</td>\n",
       "      <td>1.049727e+12</td>\n",
       "      <td>17:30:21</td>\n",
       "    </tr>\n",
       "  </tbody>\n",
       "</table>\n",
       "<p>24205 rows × 26 columns</p>\n",
       "</div>"
      ],
      "text/plain": [
       "                                           id compania numvuelo iataaena  \\\n",
       "0       UX5200110520231400GRANADA-JAÉN F.G.L.       UX     5200      PMI   \n",
       "1                EWG592090520230830KOELN/BONN      EWG      592      PMI   \n",
       "2               EWG9584090520230830DUSSELDORF      EWG     9584      PMI   \n",
       "3       TB1441090520230835OSTEND-BRUGES (OST)       TB     1441      PMI   \n",
       "4      RYR7831090520230845BRUSELAS /CHARLEROI      RYR     7831      PMI   \n",
       "...                                       ...      ...      ...      ...   \n",
       "24200   TOM5674010720231720DURHAM TEES VALLEY      TOM     5674      PMI   \n",
       "24201            RYR5402010720231720NUREMBERG      RYR     5402      PMI   \n",
       "24202           EWG9576010720231730DUSSELDORF      EWG     9576      PMI   \n",
       "24203               IB8507010720231730MENORCA       IB     8507      PMI   \n",
       "24204                 TOM1682010720231745CORK      TOM     1682      PMI   \n",
       "\n",
       "            fecha horaprogramada fechaestimada horaestimada iataotro estado  \\\n",
       "0      2023-05-11       14:00:00    2023-05-11     14:03:00      GRX    IBK   \n",
       "1      2023-05-09       08:30:00    2023-05-09     08:25:00      CGN    IBK   \n",
       "2      2023-05-09       08:30:00    2023-05-09     08:24:00      DUS    IBK   \n",
       "3      2023-05-09       08:35:00    2023-05-09     08:21:00      OST    IBK   \n",
       "4      2023-05-09       08:45:00    2023-05-09     08:28:00      CRL    IBK   \n",
       "...           ...            ...           ...          ...      ...    ...   \n",
       "24200  2023-07-01       17:20:00    2023-07-01     17:18:00      MME    IBK   \n",
       "24201  2023-07-01       17:20:00    2023-07-01     17:14:00      NUE    IBK   \n",
       "24202  2023-07-01       17:30:00    2023-07-01     17:19:00      DUS    IBK   \n",
       "24203  2023-07-01       17:30:00    2023-07-01     17:10:00      MAH    IBK   \n",
       "24204  2023-07-01       17:45:00    2023-07-01     17:20:00      ORK    IBK   \n",
       "\n",
       "       ... salaprimera salasegunda       ciudadiataotro iatacompania  \\\n",
       "0      ...          NT         NaN  GRANADA-JAÉN F.G.L.           UX   \n",
       "1      ...          NT         NaN           KOELN/BONN           EW   \n",
       "2      ...          NT         NaN           DUSSELDORF           EW   \n",
       "3      ...          NT         NaN  OSTEND-BRUGES (OST)           TB   \n",
       "4      ...          NT         NaN  BRUSELAS /CHARLEROI           FR   \n",
       "...    ...         ...         ...                  ...          ...   \n",
       "24200  ...          NT         NaN   DURHAM TEES VALLEY           BY   \n",
       "24201  ...          NT         NaN            NUREMBERG           FR   \n",
       "24202  ...          NT         NaN           DUSSELDORF           EW   \n",
       "24203  ...          NT         NaN              MENORCA           IB   \n",
       "24204  ...          NT         NaN                 CORK           BY   \n",
       "\n",
       "       oacicompania   nombrecompania iatascompaniasecundarios  \\\n",
       "0               AEA       Air Europa                      NaN   \n",
       "1               EWG        Eurowings                      NaN   \n",
       "2               EWG        Eurowings                      NaN   \n",
       "3               JAF  TUI FLY BELGIUM                      NaN   \n",
       "4               RYR          Ryanair                      NaN   \n",
       "...             ...              ...                      ...   \n",
       "24200           TOM      Tui Airways                      NaN   \n",
       "24201           RYR          Ryanair                      NaN   \n",
       "24202           EWG        Eurowings                      NaN   \n",
       "24203           IBE           Iberia                      NaN   \n",
       "24204           TOM      Tui Airways                      NaN   \n",
       "\n",
       "       oaciscompaniasecundarios      poicinta hora_llegada  \n",
       "0                           NaN  1.049727e+12     14:35:53  \n",
       "1                           NaN  1.049727e+12     08:40:53  \n",
       "2                           NaN  1.049727e+12     08:40:53  \n",
       "3                           NaN  1.049727e+12     08:40:53  \n",
       "4                           NaN  1.233748e+12     08:40:53  \n",
       "...                         ...           ...          ...  \n",
       "24200                       NaN  1.049727e+12     17:30:21  \n",
       "24201                       NaN  1.233748e+12     17:30:21  \n",
       "24202                       NaN  1.049727e+12     17:30:21  \n",
       "24203                       NaN  1.049727e+12     17:30:21  \n",
       "24204                       NaN  1.049727e+12     17:30:21  \n",
       "\n",
       "[24205 rows x 26 columns]"
      ]
     },
     "execution_count": 2,
     "metadata": {},
     "output_type": "execute_result"
    }
   ],
   "source": [
    "df = pd.read_csv('C:\\\\Users\\\\Ihona\\\\Desktop\\\\Cursos\\\\ML_projects\\\\jupyter-example\\\\flight_info.csv')\n",
    "df"
   ]
  },
  {
   "cell_type": "markdown",
   "id": "f68b95c1",
   "metadata": {},
   "source": [
    "# 3. DATA PREPARATION"
   ]
  },
  {
   "cell_type": "markdown",
   "id": "b78bdbef",
   "metadata": {},
   "source": [
    "The flight delay is obtained by assessing the difference between the actual arrival time and the estimated arrival time. "
   ]
  },
  {
   "cell_type": "code",
   "execution_count": 3,
   "id": "f412cd6b",
   "metadata": {},
   "outputs": [
    {
     "data": {
      "text/html": [
       "<div>\n",
       "<style scoped>\n",
       "    .dataframe tbody tr th:only-of-type {\n",
       "        vertical-align: middle;\n",
       "    }\n",
       "\n",
       "    .dataframe tbody tr th {\n",
       "        vertical-align: top;\n",
       "    }\n",
       "\n",
       "    .dataframe thead th {\n",
       "        text-align: right;\n",
       "    }\n",
       "</style>\n",
       "<table border=\"1\" class=\"dataframe\">\n",
       "  <thead>\n",
       "    <tr style=\"text-align: right;\">\n",
       "      <th></th>\n",
       "      <th>numvuelo</th>\n",
       "      <th>compania</th>\n",
       "      <th>nombrecompania</th>\n",
       "      <th>ciudadiataotro</th>\n",
       "      <th>tipoaeronave</th>\n",
       "      <th>fecha</th>\n",
       "      <th>horaestimada</th>\n",
       "      <th>hora_llegada</th>\n",
       "    </tr>\n",
       "  </thead>\n",
       "  <tbody>\n",
       "    <tr>\n",
       "      <th>0</th>\n",
       "      <td>5200</td>\n",
       "      <td>UX</td>\n",
       "      <td>Air Europa</td>\n",
       "      <td>GRANADA-JAÉN F.G.L.</td>\n",
       "      <td>738W</td>\n",
       "      <td>2023-05-11</td>\n",
       "      <td>14:03:00</td>\n",
       "      <td>14:35:53</td>\n",
       "    </tr>\n",
       "    <tr>\n",
       "      <th>1</th>\n",
       "      <td>592</td>\n",
       "      <td>EWG</td>\n",
       "      <td>Eurowings</td>\n",
       "      <td>KOELN/BONN</td>\n",
       "      <td>A320</td>\n",
       "      <td>2023-05-09</td>\n",
       "      <td>08:25:00</td>\n",
       "      <td>08:40:53</td>\n",
       "    </tr>\n",
       "    <tr>\n",
       "      <th>2</th>\n",
       "      <td>9584</td>\n",
       "      <td>EWG</td>\n",
       "      <td>Eurowings</td>\n",
       "      <td>DUSSELDORF</td>\n",
       "      <td>A32A</td>\n",
       "      <td>2023-05-09</td>\n",
       "      <td>08:24:00</td>\n",
       "      <td>08:40:53</td>\n",
       "    </tr>\n",
       "    <tr>\n",
       "      <th>3</th>\n",
       "      <td>1441</td>\n",
       "      <td>TB</td>\n",
       "      <td>TUI FLY BELGIUM</td>\n",
       "      <td>OSTEND-BRUGES (OST)</td>\n",
       "      <td>738W</td>\n",
       "      <td>2023-05-09</td>\n",
       "      <td>08:21:00</td>\n",
       "      <td>08:40:53</td>\n",
       "    </tr>\n",
       "    <tr>\n",
       "      <th>4</th>\n",
       "      <td>7831</td>\n",
       "      <td>RYR</td>\n",
       "      <td>Ryanair</td>\n",
       "      <td>BRUSELAS /CHARLEROI</td>\n",
       "      <td>738W</td>\n",
       "      <td>2023-05-09</td>\n",
       "      <td>08:28:00</td>\n",
       "      <td>08:40:53</td>\n",
       "    </tr>\n",
       "  </tbody>\n",
       "</table>\n",
       "</div>"
      ],
      "text/plain": [
       "  numvuelo compania   nombrecompania       ciudadiataotro tipoaeronave  \\\n",
       "0     5200       UX       Air Europa  GRANADA-JAÉN F.G.L.         738W   \n",
       "1      592      EWG        Eurowings           KOELN/BONN         A320   \n",
       "2     9584      EWG        Eurowings           DUSSELDORF         A32A   \n",
       "3     1441       TB  TUI FLY BELGIUM  OSTEND-BRUGES (OST)         738W   \n",
       "4     7831      RYR          Ryanair  BRUSELAS /CHARLEROI         738W   \n",
       "\n",
       "        fecha horaestimada hora_llegada  \n",
       "0  2023-05-11     14:03:00     14:35:53  \n",
       "1  2023-05-09     08:25:00     08:40:53  \n",
       "2  2023-05-09     08:24:00     08:40:53  \n",
       "3  2023-05-09     08:21:00     08:40:53  \n",
       "4  2023-05-09     08:28:00     08:40:53  "
      ]
     },
     "execution_count": 3,
     "metadata": {},
     "output_type": "execute_result"
    }
   ],
   "source": [
    "#We keep the important variables\n",
    "\n",
    "df1=df[['numvuelo', 'compania','nombrecompania','ciudadiataotro','tipoaeronave','fecha','horaestimada','hora_llegada']]\n",
    "df1.head()  "
   ]
  },
  {
   "cell_type": "code",
   "execution_count": 4,
   "id": "5b555e48",
   "metadata": {},
   "outputs": [],
   "source": [
    "#We convert day-time data into the correct format\n",
    "\n",
    "df1['date'] = pd.to_datetime(df1['fecha'])\n",
    "df1['Estimated_Time']=pd.to_datetime(df1['horaestimada'])\n",
    "df1['Arrival_Time'] = pd.to_datetime(df1['hora_llegada'])\n",
    "\n",
    "df1['day_of_week'] = df1['date'].dt.dayofweek + 1  # 1 is monday, 7 is sunday\n",
    "df1['month_of_year'] = df1['date'].dt.month # 1 is January, 12 is December"
   ]
  },
  {
   "cell_type": "code",
   "execution_count": 5,
   "id": "95318db5",
   "metadata": {},
   "outputs": [
    {
     "name": "stdout",
     "output_type": "stream",
     "text": [
      "      numvuelo compania   nombrecompania       ciudadiataotro tipoaeronave  \\\n",
      "0         5200       UX       Air Europa  GRANADA-JAÉN F.G.L.         738W   \n",
      "1          592      EWG        Eurowings           KOELN/BONN         A320   \n",
      "2         9584      EWG        Eurowings           DUSSELDORF         A32A   \n",
      "3         1441       TB  TUI FLY BELGIUM  OSTEND-BRUGES (OST)         738W   \n",
      "4         7831      RYR          Ryanair  BRUSELAS /CHARLEROI         738W   \n",
      "...        ...      ...              ...                  ...          ...   \n",
      "24200     5674      TOM      Tui Airways   DURHAM TEES VALLEY         738W   \n",
      "24201     5402      RYR          Ryanair            NUREMBERG         738W   \n",
      "24202     9576      EWG        Eurowings           DUSSELDORF         A320   \n",
      "24203     8507       IB           Iberia              MENORCA         CRJX   \n",
      "24204     1682      TOM      Tui Airways                 CORK         A320   \n",
      "\n",
      "            fecha horaestimada hora_llegada       date      Estimated_Time  \\\n",
      "0      2023-05-11     14:03:00     14:35:53 2023-05-11 2023-07-28 14:03:00   \n",
      "1      2023-05-09     08:25:00     08:40:53 2023-05-09 2023-07-28 08:25:00   \n",
      "2      2023-05-09     08:24:00     08:40:53 2023-05-09 2023-07-28 08:24:00   \n",
      "3      2023-05-09     08:21:00     08:40:53 2023-05-09 2023-07-28 08:21:00   \n",
      "4      2023-05-09     08:28:00     08:40:53 2023-05-09 2023-07-28 08:28:00   \n",
      "...           ...          ...          ...        ...                 ...   \n",
      "24200  2023-07-01     17:18:00     17:30:21 2023-07-01 2023-07-28 17:18:00   \n",
      "24201  2023-07-01     17:14:00     17:30:21 2023-07-01 2023-07-28 17:14:00   \n",
      "24202  2023-07-01     17:19:00     17:30:21 2023-07-01 2023-07-28 17:19:00   \n",
      "24203  2023-07-01     17:10:00     17:30:21 2023-07-01 2023-07-28 17:10:00   \n",
      "24204  2023-07-01     17:20:00     17:30:21 2023-07-01 2023-07-28 17:20:00   \n",
      "\n",
      "             Arrival_Time  day_of_week  month_of_year  \\\n",
      "0     2023-07-28 14:35:53            4              5   \n",
      "1     2023-07-28 08:40:53            2              5   \n",
      "2     2023-07-28 08:40:53            2              5   \n",
      "3     2023-07-28 08:40:53            2              5   \n",
      "4     2023-07-28 08:40:53            2              5   \n",
      "...                   ...          ...            ...   \n",
      "24200 2023-07-28 17:30:21            6              7   \n",
      "24201 2023-07-28 17:30:21            6              7   \n",
      "24202 2023-07-28 17:30:21            6              7   \n",
      "24203 2023-07-28 17:30:21            6              7   \n",
      "24204 2023-07-28 17:30:21            6              7   \n",
      "\n",
      "       Estimated_Time_in_Minutes  Arrival_Time_in_Minutes  delay_minutes  \n",
      "0                          843.0               875.883333      32.883333  \n",
      "1                          505.0               520.883333      15.883333  \n",
      "2                          504.0               520.883333      16.883333  \n",
      "3                          501.0               520.883333      19.883333  \n",
      "4                          508.0               520.883333      12.883333  \n",
      "...                          ...                      ...            ...  \n",
      "24200                     1038.0              1050.350000      12.350000  \n",
      "24201                     1034.0              1050.350000      16.350000  \n",
      "24202                     1039.0              1050.350000      11.350000  \n",
      "24203                     1030.0              1050.350000      20.350000  \n",
      "24204                     1040.0              1050.350000      10.350000  \n",
      "\n",
      "[24205 rows x 16 columns]\n"
     ]
    }
   ],
   "source": [
    "import pandas as pd\n",
    "import numpy as np\n",
    "\n",
    "# Helper function to convert time string to minutes\n",
    "def time_to_minutes(time_str):\n",
    "    time_obj = pd.to_datetime(time_str).dt.time\n",
    "    total_minutes = time_obj.apply(lambda x: x.hour * 60 + x.minute + x.second / 60)\n",
    "    return total_minutes\n",
    "\n",
    "# Convert time columns to minutes\n",
    "df1['Estimated_Time_in_Minutes'] = time_to_minutes(df1['Estimated_Time']) \n",
    "df1['Arrival_Time_in_Minutes'] = time_to_minutes(df1['Arrival_Time'])\n",
    "\n",
    "# Calculate the flight delay in minutes, considering the 24-hour offset for earlier arrivals\n",
    "df1['delay_minutes'] = df1['Arrival_Time_in_Minutes'] - df1['Estimated_Time_in_Minutes']\n",
    "\n",
    "# Adjust delay sign based on the actual arrival time\n",
    "df1['delay_minutes'] = df1.apply(lambda row: row['delay_minutes'] + 1440 if row['Arrival_Time_in_Minutes'] < row['Estimated_Time_in_Minutes'] else row['delay_minutes'], axis=1)\n",
    "\n",
    "print(df1)\n"
   ]
  },
  {
   "cell_type": "markdown",
   "id": "a278df19",
   "metadata": {},
   "source": [
    "We add a new feature to our dataframe: time_category, since the flight delay might be influenced by the time of the day it flies (morning, afternoon, etc)"
   ]
  },
  {
   "cell_type": "code",
   "execution_count": 6,
   "id": "b6e3d3d6",
   "metadata": {},
   "outputs": [
    {
     "name": "stdout",
     "output_type": "stream",
     "text": [
      "      numvuelo compania   nombrecompania       ciudadiataotro tipoaeronave  \\\n",
      "0         5200       UX       Air Europa  GRANADA-JAÉN F.G.L.         738W   \n",
      "1          592      EWG        Eurowings           KOELN/BONN         A320   \n",
      "2         9584      EWG        Eurowings           DUSSELDORF         A32A   \n",
      "3         1441       TB  TUI FLY BELGIUM  OSTEND-BRUGES (OST)         738W   \n",
      "4         7831      RYR          Ryanair  BRUSELAS /CHARLEROI         738W   \n",
      "...        ...      ...              ...                  ...          ...   \n",
      "24200     5674      TOM      Tui Airways   DURHAM TEES VALLEY         738W   \n",
      "24201     5402      RYR          Ryanair            NUREMBERG         738W   \n",
      "24202     9576      EWG        Eurowings           DUSSELDORF         A320   \n",
      "24203     8507       IB           Iberia              MENORCA         CRJX   \n",
      "24204     1682      TOM      Tui Airways                 CORK         A320   \n",
      "\n",
      "            fecha hora_llegada       date      Estimated_Time  \\\n",
      "0      2023-05-11     14:35:53 2023-05-11 2023-07-28 14:03:00   \n",
      "1      2023-05-09     08:40:53 2023-05-09 2023-07-28 08:25:00   \n",
      "2      2023-05-09     08:40:53 2023-05-09 2023-07-28 08:24:00   \n",
      "3      2023-05-09     08:40:53 2023-05-09 2023-07-28 08:21:00   \n",
      "4      2023-05-09     08:40:53 2023-05-09 2023-07-28 08:28:00   \n",
      "...           ...          ...        ...                 ...   \n",
      "24200  2023-07-01     17:30:21 2023-07-01 2023-07-28 17:18:00   \n",
      "24201  2023-07-01     17:30:21 2023-07-01 2023-07-28 17:14:00   \n",
      "24202  2023-07-01     17:30:21 2023-07-01 2023-07-28 17:19:00   \n",
      "24203  2023-07-01     17:30:21 2023-07-01 2023-07-28 17:10:00   \n",
      "24204  2023-07-01     17:30:21 2023-07-01 2023-07-28 17:20:00   \n",
      "\n",
      "             Arrival_Time  day_of_week  month_of_year  \\\n",
      "0     2023-07-28 14:35:53            4              5   \n",
      "1     2023-07-28 08:40:53            2              5   \n",
      "2     2023-07-28 08:40:53            2              5   \n",
      "3     2023-07-28 08:40:53            2              5   \n",
      "4     2023-07-28 08:40:53            2              5   \n",
      "...                   ...          ...            ...   \n",
      "24200 2023-07-28 17:30:21            6              7   \n",
      "24201 2023-07-28 17:30:21            6              7   \n",
      "24202 2023-07-28 17:30:21            6              7   \n",
      "24203 2023-07-28 17:30:21            6              7   \n",
      "24204 2023-07-28 17:30:21            6              7   \n",
      "\n",
      "       Estimated_Time_in_Minutes  Arrival_Time_in_Minutes  delay_minutes  \\\n",
      "0                          843.0               875.883333      32.883333   \n",
      "1                          505.0               520.883333      15.883333   \n",
      "2                          504.0               520.883333      16.883333   \n",
      "3                          501.0               520.883333      19.883333   \n",
      "4                          508.0               520.883333      12.883333   \n",
      "...                          ...                      ...            ...   \n",
      "24200                     1038.0              1050.350000      12.350000   \n",
      "24201                     1034.0              1050.350000      16.350000   \n",
      "24202                     1039.0              1050.350000      11.350000   \n",
      "24203                     1030.0              1050.350000      20.350000   \n",
      "24204                     1040.0              1050.350000      10.350000   \n",
      "\n",
      "       time_category  \n",
      "0                  2  \n",
      "1                  1  \n",
      "2                  1  \n",
      "3                  1  \n",
      "4                  1  \n",
      "...              ...  \n",
      "24200              2  \n",
      "24201              2  \n",
      "24202              2  \n",
      "24203              2  \n",
      "24204              2  \n",
      "\n",
      "[24205 rows x 16 columns]\n"
     ]
    }
   ],
   "source": [
    "import pandas as pd\n",
    "\n",
    "# Assuming you have loaded the dataframe as df1\n",
    "# Create a copy of the dataframe\n",
    "df1_copy = df1.copy()\n",
    "\n",
    "# Extract the hour from the \"horaestimada\" column\n",
    "df1_copy[\"hour\"] = pd.to_datetime(df1_copy[\"horaestimada\"]).dt.hour\n",
    "\n",
    "# Create a function to categorize the hours into the desired categories\n",
    "def categorize_time(hour):\n",
    "    if 6 <= hour < 12:\n",
    "        return 1  # Morning\n",
    "    elif 12 <= hour < 18:\n",
    "        return 2  # Afternoon\n",
    "    elif 18 <= hour < 22:\n",
    "        return 3  # Evening\n",
    "    else:\n",
    "        return 4  # Night\n",
    "\n",
    "# Apply the categorize_time function to the \"hour\" column to create the new category column\n",
    "df1_copy[\"time_category\"] = df1_copy[\"hour\"].apply(categorize_time)\n",
    "\n",
    "# Drop the original \"horaestimada\" and \"hour\" columns\n",
    "df1_copy.drop([\"horaestimada\", \"hour\"], axis=1, inplace=True)\n",
    "\n",
    "# Show the updated dataframe\n",
    "print(df1_copy)"
   ]
  },
  {
   "cell_type": "code",
   "execution_count": 7,
   "id": "811518e0",
   "metadata": {},
   "outputs": [
    {
     "data": {
      "text/html": [
       "<div>\n",
       "<style scoped>\n",
       "    .dataframe tbody tr th:only-of-type {\n",
       "        vertical-align: middle;\n",
       "    }\n",
       "\n",
       "    .dataframe tbody tr th {\n",
       "        vertical-align: top;\n",
       "    }\n",
       "\n",
       "    .dataframe thead th {\n",
       "        text-align: right;\n",
       "    }\n",
       "</style>\n",
       "<table border=\"1\" class=\"dataframe\">\n",
       "  <thead>\n",
       "    <tr style=\"text-align: right;\">\n",
       "      <th></th>\n",
       "      <th>numvuelo</th>\n",
       "      <th>compania</th>\n",
       "      <th>nombrecompania</th>\n",
       "      <th>ciudadiataotro</th>\n",
       "      <th>tipoaeronave</th>\n",
       "      <th>fecha</th>\n",
       "      <th>hora_llegada</th>\n",
       "      <th>date</th>\n",
       "      <th>Estimated_Time</th>\n",
       "      <th>Arrival_Time</th>\n",
       "      <th>day_of_week</th>\n",
       "      <th>month_of_year</th>\n",
       "      <th>Estimated_Time_in_Minutes</th>\n",
       "      <th>Arrival_Time_in_Minutes</th>\n",
       "      <th>delay_minutes</th>\n",
       "      <th>time_category</th>\n",
       "    </tr>\n",
       "  </thead>\n",
       "  <tbody>\n",
       "    <tr>\n",
       "      <th>0</th>\n",
       "      <td>5200</td>\n",
       "      <td>UX</td>\n",
       "      <td>Air Europa</td>\n",
       "      <td>GRANADA-JAÉN F.G.L.</td>\n",
       "      <td>738W</td>\n",
       "      <td>2023-05-11</td>\n",
       "      <td>14:35:53</td>\n",
       "      <td>2023-05-11</td>\n",
       "      <td>2023-07-28 14:03:00</td>\n",
       "      <td>2023-07-28 14:35:53</td>\n",
       "      <td>4</td>\n",
       "      <td>5</td>\n",
       "      <td>843.0</td>\n",
       "      <td>875.883333</td>\n",
       "      <td>32.883333</td>\n",
       "      <td>2</td>\n",
       "    </tr>\n",
       "    <tr>\n",
       "      <th>1</th>\n",
       "      <td>592</td>\n",
       "      <td>EWG</td>\n",
       "      <td>Eurowings</td>\n",
       "      <td>KOELN/BONN</td>\n",
       "      <td>A320</td>\n",
       "      <td>2023-05-09</td>\n",
       "      <td>08:40:53</td>\n",
       "      <td>2023-05-09</td>\n",
       "      <td>2023-07-28 08:25:00</td>\n",
       "      <td>2023-07-28 08:40:53</td>\n",
       "      <td>2</td>\n",
       "      <td>5</td>\n",
       "      <td>505.0</td>\n",
       "      <td>520.883333</td>\n",
       "      <td>15.883333</td>\n",
       "      <td>1</td>\n",
       "    </tr>\n",
       "    <tr>\n",
       "      <th>2</th>\n",
       "      <td>9584</td>\n",
       "      <td>EWG</td>\n",
       "      <td>Eurowings</td>\n",
       "      <td>DUSSELDORF</td>\n",
       "      <td>A32A</td>\n",
       "      <td>2023-05-09</td>\n",
       "      <td>08:40:53</td>\n",
       "      <td>2023-05-09</td>\n",
       "      <td>2023-07-28 08:24:00</td>\n",
       "      <td>2023-07-28 08:40:53</td>\n",
       "      <td>2</td>\n",
       "      <td>5</td>\n",
       "      <td>504.0</td>\n",
       "      <td>520.883333</td>\n",
       "      <td>16.883333</td>\n",
       "      <td>1</td>\n",
       "    </tr>\n",
       "    <tr>\n",
       "      <th>3</th>\n",
       "      <td>1441</td>\n",
       "      <td>TB</td>\n",
       "      <td>TUI FLY BELGIUM</td>\n",
       "      <td>OSTEND-BRUGES (OST)</td>\n",
       "      <td>738W</td>\n",
       "      <td>2023-05-09</td>\n",
       "      <td>08:40:53</td>\n",
       "      <td>2023-05-09</td>\n",
       "      <td>2023-07-28 08:21:00</td>\n",
       "      <td>2023-07-28 08:40:53</td>\n",
       "      <td>2</td>\n",
       "      <td>5</td>\n",
       "      <td>501.0</td>\n",
       "      <td>520.883333</td>\n",
       "      <td>19.883333</td>\n",
       "      <td>1</td>\n",
       "    </tr>\n",
       "    <tr>\n",
       "      <th>4</th>\n",
       "      <td>7831</td>\n",
       "      <td>RYR</td>\n",
       "      <td>Ryanair</td>\n",
       "      <td>BRUSELAS /CHARLEROI</td>\n",
       "      <td>738W</td>\n",
       "      <td>2023-05-09</td>\n",
       "      <td>08:40:53</td>\n",
       "      <td>2023-05-09</td>\n",
       "      <td>2023-07-28 08:28:00</td>\n",
       "      <td>2023-07-28 08:40:53</td>\n",
       "      <td>2</td>\n",
       "      <td>5</td>\n",
       "      <td>508.0</td>\n",
       "      <td>520.883333</td>\n",
       "      <td>12.883333</td>\n",
       "      <td>1</td>\n",
       "    </tr>\n",
       "  </tbody>\n",
       "</table>\n",
       "</div>"
      ],
      "text/plain": [
       "  numvuelo compania   nombrecompania       ciudadiataotro tipoaeronave  \\\n",
       "0     5200       UX       Air Europa  GRANADA-JAÉN F.G.L.         738W   \n",
       "1      592      EWG        Eurowings           KOELN/BONN         A320   \n",
       "2     9584      EWG        Eurowings           DUSSELDORF         A32A   \n",
       "3     1441       TB  TUI FLY BELGIUM  OSTEND-BRUGES (OST)         738W   \n",
       "4     7831      RYR          Ryanair  BRUSELAS /CHARLEROI         738W   \n",
       "\n",
       "        fecha hora_llegada       date      Estimated_Time        Arrival_Time  \\\n",
       "0  2023-05-11     14:35:53 2023-05-11 2023-07-28 14:03:00 2023-07-28 14:35:53   \n",
       "1  2023-05-09     08:40:53 2023-05-09 2023-07-28 08:25:00 2023-07-28 08:40:53   \n",
       "2  2023-05-09     08:40:53 2023-05-09 2023-07-28 08:24:00 2023-07-28 08:40:53   \n",
       "3  2023-05-09     08:40:53 2023-05-09 2023-07-28 08:21:00 2023-07-28 08:40:53   \n",
       "4  2023-05-09     08:40:53 2023-05-09 2023-07-28 08:28:00 2023-07-28 08:40:53   \n",
       "\n",
       "   day_of_week  month_of_year  Estimated_Time_in_Minutes  \\\n",
       "0            4              5                      843.0   \n",
       "1            2              5                      505.0   \n",
       "2            2              5                      504.0   \n",
       "3            2              5                      501.0   \n",
       "4            2              5                      508.0   \n",
       "\n",
       "   Arrival_Time_in_Minutes  delay_minutes  time_category  \n",
       "0               875.883333      32.883333              2  \n",
       "1               520.883333      15.883333              1  \n",
       "2               520.883333      16.883333              1  \n",
       "3               520.883333      19.883333              1  \n",
       "4               520.883333      12.883333              1  "
      ]
     },
     "execution_count": 7,
     "metadata": {},
     "output_type": "execute_result"
    }
   ],
   "source": [
    "df1=df1_copy\n",
    "df1.head()"
   ]
  },
  {
   "cell_type": "code",
   "execution_count": 8,
   "id": "48f55687",
   "metadata": {},
   "outputs": [
    {
     "name": "stdout",
     "output_type": "stream",
     "text": [
      "Percentage of rows with at least one letter in 'numvuelo': 0.04%\n"
     ]
    }
   ],
   "source": [
    "# Step 1: Determine which rows contain at least one letter\n",
    "contains_letter = df1['numvuelo'].str.contains(r'[a-zA-Z]', na=False, regex=True)\n",
    "\n",
    "# Step 2: Count the number of rows that contain at least one letter\n",
    "num_rows_with_letter = contains_letter.sum()\n",
    "\n",
    "# Step 3: Calculate the percentage\n",
    "total_rows = len(df1)\n",
    "percentage_with_letter = (num_rows_with_letter / total_rows) * 100\n",
    "\n",
    "print(f\"Percentage of rows with at least one letter in 'numvuelo': {percentage_with_letter:.2f}%\")"
   ]
  },
  {
   "cell_type": "markdown",
   "id": "ce7838e0",
   "metadata": {},
   "source": [
    "We see that numvuelo contains some letters, but since the % is really low, we can delete them. "
   ]
  },
  {
   "cell_type": "markdown",
   "id": "1d3bc40e",
   "metadata": {},
   "source": [
    "We create a new binary column that indicates the delay. If a flight is late more than 10 minutes, we will consider this flight as a delayed flight (1). Otherwise, there will be a 0. "
   ]
  },
  {
   "cell_type": "code",
   "execution_count": 9,
   "id": "e65119c2",
   "metadata": {},
   "outputs": [],
   "source": [
    "# Create the new binary column \"delay\"\n",
    "df1[\"delay\"] = (df1[\"delay_minutes\"] > 10).astype(int)"
   ]
  },
  {
   "cell_type": "code",
   "execution_count": 10,
   "id": "e70faf97",
   "metadata": {},
   "outputs": [
    {
     "data": {
      "text/html": [
       "<div>\n",
       "<style scoped>\n",
       "    .dataframe tbody tr th:only-of-type {\n",
       "        vertical-align: middle;\n",
       "    }\n",
       "\n",
       "    .dataframe tbody tr th {\n",
       "        vertical-align: top;\n",
       "    }\n",
       "\n",
       "    .dataframe thead th {\n",
       "        text-align: right;\n",
       "    }\n",
       "</style>\n",
       "<table border=\"1\" class=\"dataframe\">\n",
       "  <thead>\n",
       "    <tr style=\"text-align: right;\">\n",
       "      <th></th>\n",
       "      <th>numvuelo</th>\n",
       "      <th>compania</th>\n",
       "      <th>nombrecompania</th>\n",
       "      <th>ciudadiataotro</th>\n",
       "      <th>tipoaeronave</th>\n",
       "      <th>fecha</th>\n",
       "      <th>hora_llegada</th>\n",
       "      <th>date</th>\n",
       "      <th>Estimated_Time</th>\n",
       "      <th>Arrival_Time</th>\n",
       "      <th>day_of_week</th>\n",
       "      <th>month_of_year</th>\n",
       "      <th>Estimated_Time_in_Minutes</th>\n",
       "      <th>Arrival_Time_in_Minutes</th>\n",
       "      <th>delay_minutes</th>\n",
       "      <th>time_category</th>\n",
       "      <th>delay</th>\n",
       "    </tr>\n",
       "  </thead>\n",
       "  <tbody>\n",
       "    <tr>\n",
       "      <th>0</th>\n",
       "      <td>5200</td>\n",
       "      <td>UX</td>\n",
       "      <td>Air Europa</td>\n",
       "      <td>GRANADA-JAÉN F.G.L.</td>\n",
       "      <td>738W</td>\n",
       "      <td>2023-05-11</td>\n",
       "      <td>14:35:53</td>\n",
       "      <td>2023-05-11</td>\n",
       "      <td>2023-07-28 14:03:00</td>\n",
       "      <td>2023-07-28 14:35:53</td>\n",
       "      <td>4</td>\n",
       "      <td>5</td>\n",
       "      <td>843.0</td>\n",
       "      <td>875.883333</td>\n",
       "      <td>32.883333</td>\n",
       "      <td>2</td>\n",
       "      <td>1</td>\n",
       "    </tr>\n",
       "    <tr>\n",
       "      <th>1</th>\n",
       "      <td>592</td>\n",
       "      <td>EWG</td>\n",
       "      <td>Eurowings</td>\n",
       "      <td>KOELN/BONN</td>\n",
       "      <td>A320</td>\n",
       "      <td>2023-05-09</td>\n",
       "      <td>08:40:53</td>\n",
       "      <td>2023-05-09</td>\n",
       "      <td>2023-07-28 08:25:00</td>\n",
       "      <td>2023-07-28 08:40:53</td>\n",
       "      <td>2</td>\n",
       "      <td>5</td>\n",
       "      <td>505.0</td>\n",
       "      <td>520.883333</td>\n",
       "      <td>15.883333</td>\n",
       "      <td>1</td>\n",
       "      <td>1</td>\n",
       "    </tr>\n",
       "    <tr>\n",
       "      <th>2</th>\n",
       "      <td>9584</td>\n",
       "      <td>EWG</td>\n",
       "      <td>Eurowings</td>\n",
       "      <td>DUSSELDORF</td>\n",
       "      <td>A32A</td>\n",
       "      <td>2023-05-09</td>\n",
       "      <td>08:40:53</td>\n",
       "      <td>2023-05-09</td>\n",
       "      <td>2023-07-28 08:24:00</td>\n",
       "      <td>2023-07-28 08:40:53</td>\n",
       "      <td>2</td>\n",
       "      <td>5</td>\n",
       "      <td>504.0</td>\n",
       "      <td>520.883333</td>\n",
       "      <td>16.883333</td>\n",
       "      <td>1</td>\n",
       "      <td>1</td>\n",
       "    </tr>\n",
       "    <tr>\n",
       "      <th>3</th>\n",
       "      <td>1441</td>\n",
       "      <td>TB</td>\n",
       "      <td>TUI FLY BELGIUM</td>\n",
       "      <td>OSTEND-BRUGES (OST)</td>\n",
       "      <td>738W</td>\n",
       "      <td>2023-05-09</td>\n",
       "      <td>08:40:53</td>\n",
       "      <td>2023-05-09</td>\n",
       "      <td>2023-07-28 08:21:00</td>\n",
       "      <td>2023-07-28 08:40:53</td>\n",
       "      <td>2</td>\n",
       "      <td>5</td>\n",
       "      <td>501.0</td>\n",
       "      <td>520.883333</td>\n",
       "      <td>19.883333</td>\n",
       "      <td>1</td>\n",
       "      <td>1</td>\n",
       "    </tr>\n",
       "    <tr>\n",
       "      <th>4</th>\n",
       "      <td>7831</td>\n",
       "      <td>RYR</td>\n",
       "      <td>Ryanair</td>\n",
       "      <td>BRUSELAS /CHARLEROI</td>\n",
       "      <td>738W</td>\n",
       "      <td>2023-05-09</td>\n",
       "      <td>08:40:53</td>\n",
       "      <td>2023-05-09</td>\n",
       "      <td>2023-07-28 08:28:00</td>\n",
       "      <td>2023-07-28 08:40:53</td>\n",
       "      <td>2</td>\n",
       "      <td>5</td>\n",
       "      <td>508.0</td>\n",
       "      <td>520.883333</td>\n",
       "      <td>12.883333</td>\n",
       "      <td>1</td>\n",
       "      <td>1</td>\n",
       "    </tr>\n",
       "  </tbody>\n",
       "</table>\n",
       "</div>"
      ],
      "text/plain": [
       "  numvuelo compania   nombrecompania       ciudadiataotro tipoaeronave  \\\n",
       "0     5200       UX       Air Europa  GRANADA-JAÉN F.G.L.         738W   \n",
       "1      592      EWG        Eurowings           KOELN/BONN         A320   \n",
       "2     9584      EWG        Eurowings           DUSSELDORF         A32A   \n",
       "3     1441       TB  TUI FLY BELGIUM  OSTEND-BRUGES (OST)         738W   \n",
       "4     7831      RYR          Ryanair  BRUSELAS /CHARLEROI         738W   \n",
       "\n",
       "        fecha hora_llegada       date      Estimated_Time        Arrival_Time  \\\n",
       "0  2023-05-11     14:35:53 2023-05-11 2023-07-28 14:03:00 2023-07-28 14:35:53   \n",
       "1  2023-05-09     08:40:53 2023-05-09 2023-07-28 08:25:00 2023-07-28 08:40:53   \n",
       "2  2023-05-09     08:40:53 2023-05-09 2023-07-28 08:24:00 2023-07-28 08:40:53   \n",
       "3  2023-05-09     08:40:53 2023-05-09 2023-07-28 08:21:00 2023-07-28 08:40:53   \n",
       "4  2023-05-09     08:40:53 2023-05-09 2023-07-28 08:28:00 2023-07-28 08:40:53   \n",
       "\n",
       "   day_of_week  month_of_year  Estimated_Time_in_Minutes  \\\n",
       "0            4              5                      843.0   \n",
       "1            2              5                      505.0   \n",
       "2            2              5                      504.0   \n",
       "3            2              5                      501.0   \n",
       "4            2              5                      508.0   \n",
       "\n",
       "   Arrival_Time_in_Minutes  delay_minutes  time_category  delay  \n",
       "0               875.883333      32.883333              2      1  \n",
       "1               520.883333      15.883333              1      1  \n",
       "2               520.883333      16.883333              1      1  \n",
       "3               520.883333      19.883333              1      1  \n",
       "4               520.883333      12.883333              1      1  "
      ]
     },
     "execution_count": 10,
     "metadata": {},
     "output_type": "execute_result"
    }
   ],
   "source": [
    "df1.head()"
   ]
  },
  {
   "cell_type": "code",
   "execution_count": 11,
   "id": "e811eebc",
   "metadata": {},
   "outputs": [],
   "source": [
    "#The percentage of rows that contain at leat one letter is super low, so we can directly delete those rows:\n",
    "df1 = df1[df1['numvuelo'].str.contains(r'[a-zA-Z]', na=False, regex=True) == False]"
   ]
  },
  {
   "cell_type": "code",
   "execution_count": 12,
   "id": "c2311fcf",
   "metadata": {},
   "outputs": [
    {
     "name": "stdout",
     "output_type": "stream",
     "text": [
      "            ciudadiataotro                city\n",
      "0      GRANADA-JAÉN F.G.L.             GRANADA\n",
      "1               KOELN/BONN               KOELN\n",
      "2               DUSSELDORF          DUSSELDORF\n",
      "3      OSTEND-BRUGES (OST)              OSTEND\n",
      "4      BRUSELAS /CHARLEROI            BRUSELAS\n",
      "...                    ...                 ...\n",
      "24200   DURHAM TEES VALLEY  DURHAM TEES VALLEY\n",
      "24201            NUREMBERG           NUREMBERG\n",
      "24202           DUSSELDORF          DUSSELDORF\n",
      "24203              MENORCA             MENORCA\n",
      "24204                 CORK                CORK\n",
      "\n",
      "[24196 rows x 2 columns]\n"
     ]
    }
   ],
   "source": [
    "# Assuming that the column 'ciudadiataotro' looks like this:\n",
    "# 'New York - John F. Kennedy International Airport'\n",
    "# 'Los Angeles / LAX'\n",
    "\n",
    "# Extract the city name from the 'ciudadiataotro' column\n",
    "df1['city'] = df1['ciudadiataotro'].str.split(r'-|/', n=1).str[0].str.strip()\n",
    "\n",
    "# Now the 'city' column contains only the city names\n",
    "print(df1[['ciudadiataotro', 'city']])"
   ]
  },
  {
   "cell_type": "code",
   "execution_count": 13,
   "id": "5a64c452",
   "metadata": {},
   "outputs": [],
   "source": [
    "numeric_var = [\"numvuelo\",\"Estimated_Time_in_Minutes\",\"Arrival_Time_in_Minutes\"]\n",
    "numeric_axis_name = ['Flight number','Estimated Time (Minutes)', 'Arrival Time (Minutes)']"
   ]
  },
  {
   "cell_type": "code",
   "execution_count": 14,
   "id": "2fd7f67a",
   "metadata": {},
   "outputs": [],
   "source": [
    "#Categorical variables are used to represent data that falls into specific categories or groups. \n",
    "\n",
    "categoric_var = [\"compania\",\"day_of_week\",\"month_of_year\", \"city\", \"tipoaeronave\",\"delay\"]\n",
    "categoric_axis_name=[\"Company\",\"Day of the week\",\"Month of the year\", \"Name of the city of origin\", \"Type of aircraft\",\"Time delay\" ]"
   ]
  },
  {
   "cell_type": "code",
   "execution_count": 15,
   "id": "8cb02723",
   "metadata": {},
   "outputs": [
    {
     "data": {
      "text/html": [
       "<div>\n",
       "<style scoped>\n",
       "    .dataframe tbody tr th:only-of-type {\n",
       "        vertical-align: middle;\n",
       "    }\n",
       "\n",
       "    .dataframe tbody tr th {\n",
       "        vertical-align: top;\n",
       "    }\n",
       "\n",
       "    .dataframe thead th {\n",
       "        text-align: right;\n",
       "    }\n",
       "</style>\n",
       "<table border=\"1\" class=\"dataframe\">\n",
       "  <thead>\n",
       "    <tr style=\"text-align: right;\">\n",
       "      <th></th>\n",
       "      <th>Estimated_Time_in_Minutes</th>\n",
       "      <th>Arrival_Time_in_Minutes</th>\n",
       "    </tr>\n",
       "  </thead>\n",
       "  <tbody>\n",
       "    <tr>\n",
       "      <th>count</th>\n",
       "      <td>24196.000000</td>\n",
       "      <td>24182.000000</td>\n",
       "    </tr>\n",
       "    <tr>\n",
       "      <th>mean</th>\n",
       "      <td>881.960572</td>\n",
       "      <td>879.069643</td>\n",
       "    </tr>\n",
       "    <tr>\n",
       "      <th>std</th>\n",
       "      <td>325.233534</td>\n",
       "      <td>334.863962</td>\n",
       "    </tr>\n",
       "    <tr>\n",
       "      <th>min</th>\n",
       "      <td>0.000000</td>\n",
       "      <td>0.333333</td>\n",
       "    </tr>\n",
       "    <tr>\n",
       "      <th>25%</th>\n",
       "      <td>635.000000</td>\n",
       "      <td>640.833333</td>\n",
       "    </tr>\n",
       "    <tr>\n",
       "      <th>50%</th>\n",
       "      <td>889.000000</td>\n",
       "      <td>888.900000</td>\n",
       "    </tr>\n",
       "    <tr>\n",
       "      <th>75%</th>\n",
       "      <td>1155.000000</td>\n",
       "      <td>1160.350000</td>\n",
       "    </tr>\n",
       "    <tr>\n",
       "      <th>max</th>\n",
       "      <td>1439.000000</td>\n",
       "      <td>1439.533333</td>\n",
       "    </tr>\n",
       "  </tbody>\n",
       "</table>\n",
       "</div>"
      ],
      "text/plain": [
       "       Estimated_Time_in_Minutes  Arrival_Time_in_Minutes\n",
       "count               24196.000000             24182.000000\n",
       "mean                  881.960572               879.069643\n",
       "std                   325.233534               334.863962\n",
       "min                     0.000000                 0.333333\n",
       "25%                   635.000000               640.833333\n",
       "50%                   889.000000               888.900000\n",
       "75%                  1155.000000              1160.350000\n",
       "max                  1439.000000              1439.533333"
      ]
     },
     "execution_count": 15,
     "metadata": {},
     "output_type": "execute_result"
    }
   ],
   "source": [
    "df1[numeric_var].describe() "
   ]
  },
  {
   "cell_type": "markdown",
   "id": "e681be90",
   "metadata": {},
   "source": [
    "## 3.1. Exploratory Data Analysis"
   ]
  },
  {
   "cell_type": "markdown",
   "id": "8f45837e",
   "metadata": {},
   "source": [
    "Let's see the distribution of our data. "
   ]
  },
  {
   "cell_type": "markdown",
   "id": "0913c300",
   "metadata": {},
   "source": [
    "- For the numerical variables of interest:"
   ]
  },
  {
   "cell_type": "code",
   "execution_count": 17,
   "id": "c3d05406",
   "metadata": {},
   "outputs": [
    {
     "data": {
      "image/png": "[encoded data removed]",
      "text/plain": [
       "<Figure size 640x480 with 1 Axes>"
      ]
     },
     "metadata": {},
     "output_type": "display_data"
    }
   ],
   "source": [
    "sns.distplot(df1[\"Estimated_Time_in_Minutes\"], hist_kws = dict(linewidth = 1, edgecolor = \"k\"));"
   ]
  },
  {
   "cell_type": "code",
   "execution_count": 18,
   "id": "a2f4bd87",
   "metadata": {},
   "outputs": [
    {
     "data": {
      "image/png": "[encoded data removed]",
      "text/plain": [
       "<Figure size 640x480 with 1 Axes>"
      ]
     },
     "metadata": {},
     "output_type": "display_data"
    }
   ],
   "source": [
    "sns.distplot(df1[\"Arrival_Time_in_Minutes\"], hist_kws = dict(linewidth = 1, edgecolor = \"k\"));"
   ]
  },
  {
   "cell_type": "code",
   "execution_count": 19,
   "id": "733c5c04",
   "metadata": {},
   "outputs": [
    {
     "data": {
      "image/png": "[encoded data removed]",
      "text/plain": [
       "<Figure size 640x480 with 1 Axes>"
      ]
     },
     "metadata": {},
     "output_type": "display_data"
    }
   ],
   "source": [
    "sns.distplot(df1[\"delay_minutes\"], hist_kws=dict(linewidth=1, edgecolor=\"k\"))\n",
    "plt.show()"
   ]
  },
  {
   "cell_type": "markdown",
   "id": "ceff510d",
   "metadata": {},
   "source": [
    "We can see that the distribution of the data doesn't follow a symetric distribution in any case. "
   ]
  },
  {
   "cell_type": "markdown",
   "id": "b61f1f31",
   "metadata": {},
   "source": [
    "- For the categorical variables of interest:"
   ]
  },
  {
   "cell_type": "code",
   "execution_count": 20,
   "id": "98986e06",
   "metadata": {},
   "outputs": [
    {
     "data": {
      "text/plain": [
       "day_of_week\n",
       "6    3852\n",
       "3    3612\n",
       "5    3507\n",
       "2    3401\n",
       "4    3377\n",
       "7    3251\n",
       "1    3196\n",
       "Name: count, dtype: int64"
      ]
     },
     "execution_count": 20,
     "metadata": {},
     "output_type": "execute_result"
    }
   ],
   "source": [
    "df1[\"day_of_week\"].value_counts() #The first columns are the values that appear and the second the frequency of those values"
   ]
  },
  {
   "cell_type": "code",
   "execution_count": 21,
   "id": "d0c38b23",
   "metadata": {},
   "outputs": [
    {
     "data": {
      "text/plain": [
       "month_of_year\n",
       "6    13568\n",
       "5    10369\n",
       "7      259\n",
       "Name: count, dtype: int64"
      ]
     },
     "execution_count": 21,
     "metadata": {},
     "output_type": "execute_result"
    }
   ],
   "source": [
    "df1[\"month_of_year\"].value_counts()"
   ]
  },
  {
   "cell_type": "code",
   "execution_count": 22,
   "id": "65b9b9d2",
   "metadata": {},
   "outputs": [
    {
     "data": {
      "image/png": "[encoded data removed]",
      "text/plain": [
       "<Figure size 800x600 with 1 Axes>"
      ]
     },
     "metadata": {},
     "output_type": "display_data"
    },
    {
     "data": {
      "image/png": "[encoded data removed]",
      "text/plain": [
       "<Figure size 800x600 with 1 Axes>"
      ]
     },
     "metadata": {},
     "output_type": "display_data"
    },
    {
     "data": {
      "image/png": "[encoded data removed]",
      "text/plain": [
       "<Figure size 800x600 with 1 Axes>"
      ]
     },
     "metadata": {},
     "output_type": "display_data"
    }
   ],
   "source": [
    "import matplotlib.pyplot as plt\n",
    "\n",
    "title_font = {\"family\": \"arial\", \"color\": \"darkred\", \"weight\": \"bold\", \"size\": 15}\n",
    "axis_font = {\"family\": \"arial\", \"color\": \"darkblue\", \"weight\": \"bold\", \"size\": 13}\n",
    "\n",
    "#We want only to represent these 2 categorical variables:\n",
    "\n",
    "categoric_var = [\"day_of_week\", \"month_of_year\",\"delay\"]\n",
    "categoric_axis_name = [\"Day of Week\", \"Month of Year\",\"Time delay\"]  #1=yes, 0=no\n",
    "\n",
    "for i, z in zip(categoric_var, categoric_axis_name):\n",
    "    fig, ax = plt.subplots(figsize=(8, 6))\n",
    "\n",
    "    observation_values = list(df1[i].value_counts().index)\n",
    "    total_observation_values = list(df1[i].value_counts())\n",
    "\n",
    "    ax.pie(total_observation_values, labels=observation_values, autopct='%1.1f%%', startangle=110, labeldistance=1.1)\n",
    "    ax.axis(\"equal\")\n",
    "\n",
    "    plt.title((i + \" (\" + z + \")\"), fontdict=title_font)\n",
    "    plt.legend()\n",
    "    plt.show()\n"
   ]
  },
  {
   "cell_type": "markdown",
   "id": "e8f388de",
   "metadata": {},
   "source": [
    "#### Correlation between numerical variables"
   ]
  },
  {
   "cell_type": "markdown",
   "id": "e08baef4",
   "metadata": {},
   "source": [
    "Correlation is a statistical measure that quantifies the strength and direction of the linear relationship between two or more variables. It ranges from -1 to +1, where +1 represents a perfect positive correlation (variables move in the same direction), -1 indicates a perfect negative correlation (variables move in opposite directions), and 0 signifies no linear relationship. It's essential to note that correlation only captures linear relationships and not other types of associations, such as nonlinear patterns."
   ]
  },
  {
   "cell_type": "code",
   "execution_count": 23,
   "id": "0a043c86",
   "metadata": {},
   "outputs": [
    {
     "data": {
      "text/html": [
       "<div>\n",
       "<style scoped>\n",
       "    .dataframe tbody tr th:only-of-type {\n",
       "        vertical-align: middle;\n",
       "    }\n",
       "\n",
       "    .dataframe tbody tr th {\n",
       "        vertical-align: top;\n",
       "    }\n",
       "\n",
       "    .dataframe thead th {\n",
       "        text-align: right;\n",
       "    }\n",
       "</style>\n",
       "<table border=\"1\" class=\"dataframe\">\n",
       "  <thead>\n",
       "    <tr style=\"text-align: right;\">\n",
       "      <th></th>\n",
       "      <th>Estimated_Time_in_Minutes</th>\n",
       "      <th>day_of_week</th>\n",
       "      <th>month_of_year</th>\n",
       "      <th>delay_minutes</th>\n",
       "      <th>numvuelo</th>\n",
       "      <th>time_category</th>\n",
       "    </tr>\n",
       "  </thead>\n",
       "  <tbody>\n",
       "    <tr>\n",
       "      <th>Estimated_Time_in_Minutes</th>\n",
       "      <td>1.000000</td>\n",
       "      <td>0.001258</td>\n",
       "      <td>-0.020470</td>\n",
       "      <td>-0.005245</td>\n",
       "      <td>0.051005</td>\n",
       "      <td>0.586378</td>\n",
       "    </tr>\n",
       "    <tr>\n",
       "      <th>day_of_week</th>\n",
       "      <td>0.001258</td>\n",
       "      <td>1.000000</td>\n",
       "      <td>0.056292</td>\n",
       "      <td>0.019503</td>\n",
       "      <td>-0.011896</td>\n",
       "      <td>-0.013157</td>\n",
       "    </tr>\n",
       "    <tr>\n",
       "      <th>month_of_year</th>\n",
       "      <td>-0.020470</td>\n",
       "      <td>0.056292</td>\n",
       "      <td>1.000000</td>\n",
       "      <td>0.012633</td>\n",
       "      <td>-0.023579</td>\n",
       "      <td>-0.021825</td>\n",
       "    </tr>\n",
       "    <tr>\n",
       "      <th>delay_minutes</th>\n",
       "      <td>-0.005245</td>\n",
       "      <td>0.019503</td>\n",
       "      <td>0.012633</td>\n",
       "      <td>1.000000</td>\n",
       "      <td>-0.003269</td>\n",
       "      <td>0.002287</td>\n",
       "    </tr>\n",
       "    <tr>\n",
       "      <th>numvuelo</th>\n",
       "      <td>0.051005</td>\n",
       "      <td>-0.011896</td>\n",
       "      <td>-0.023579</td>\n",
       "      <td>-0.003269</td>\n",
       "      <td>1.000000</td>\n",
       "      <td>0.092041</td>\n",
       "    </tr>\n",
       "    <tr>\n",
       "      <th>time_category</th>\n",
       "      <td>0.586378</td>\n",
       "      <td>-0.013157</td>\n",
       "      <td>-0.021825</td>\n",
       "      <td>0.002287</td>\n",
       "      <td>0.092041</td>\n",
       "      <td>1.000000</td>\n",
       "    </tr>\n",
       "  </tbody>\n",
       "</table>\n",
       "</div>"
      ],
      "text/plain": [
       "                           Estimated_Time_in_Minutes  day_of_week  \\\n",
       "Estimated_Time_in_Minutes                   1.000000     0.001258   \n",
       "day_of_week                                 0.001258     1.000000   \n",
       "month_of_year                              -0.020470     0.056292   \n",
       "delay_minutes                              -0.005245     0.019503   \n",
       "numvuelo                                    0.051005    -0.011896   \n",
       "time_category                               0.586378    -0.013157   \n",
       "\n",
       "                           month_of_year  delay_minutes  numvuelo  \\\n",
       "Estimated_Time_in_Minutes      -0.020470      -0.005245  0.051005   \n",
       "day_of_week                     0.056292       0.019503 -0.011896   \n",
       "month_of_year                   1.000000       0.012633 -0.023579   \n",
       "delay_minutes                   0.012633       1.000000 -0.003269   \n",
       "numvuelo                       -0.023579      -0.003269  1.000000   \n",
       "time_category                  -0.021825       0.002287  0.092041   \n",
       "\n",
       "                           time_category  \n",
       "Estimated_Time_in_Minutes       0.586378  \n",
       "day_of_week                    -0.013157  \n",
       "month_of_year                  -0.021825  \n",
       "delay_minutes                   0.002287  \n",
       "numvuelo                        0.092041  \n",
       "time_category                   1.000000  "
      ]
     },
     "execution_count": 23,
     "metadata": {},
     "output_type": "execute_result"
    }
   ],
   "source": [
    "df1_new=df1[[\"Estimated_Time_in_Minutes\", \"day_of_week\",\"month_of_year\",\"delay_minutes\", \"numvuelo\", \"time_category\"]]\n",
    "df1_new.corr()"
   ]
  },
  {
   "cell_type": "code",
   "execution_count": 24,
   "id": "a7e5eb6b",
   "metadata": {},
   "outputs": [
    {
     "data": {
      "text/plain": [
       "<Axes: >"
      ]
     },
     "execution_count": 24,
     "metadata": {},
     "output_type": "execute_result"
    },
    {
     "data": {
      "image/png": "[encoded data removed]",
      "text/plain": [
       "<Figure size 1500x1000 with 2 Axes>"
      ]
     },
     "metadata": {},
     "output_type": "display_data"
    }
   ],
   "source": [
    "plt.figure(figsize = (15, 10))\n",
    "sns.heatmap(data = df1_new.corr(), cmap = \"Spectral\", annot = True, linewidths = 0.5) #annot = True prints the corr coeff"
   ]
  },
  {
   "cell_type": "markdown",
   "id": "2c50775b",
   "metadata": {},
   "source": [
    "# 4. PREPARATION FOR MODELLING ML"
   ]
  },
  {
   "cell_type": "code",
   "execution_count": 16,
   "id": "a07e125e",
   "metadata": {
    "scrolled": true
   },
   "outputs": [
    {
     "data": {
      "image/png": "[encoded data removed]",
      "text/plain": [
       "<Figure size 640x480 with 1 Axes>"
      ]
     },
     "metadata": {},
     "output_type": "display_data"
    }
   ],
   "source": [
    "#Scatter plot to detect outliers and see the data tendency\n",
    "plt.scatter(df1['Estimated_Time_in_Minutes'], df1['delay_minutes'])\n",
    "plt.xlabel('Estimated_Time_in_Minutes')\n",
    "plt.ylabel('delay_minutes')\n",
    "plt.title('Scatter plot of Estimated Time vs Delay Time')\n",
    "plt.show()"
   ]
  },
  {
   "cell_type": "code",
   "execution_count": 25,
   "id": "83661ec2",
   "metadata": {},
   "outputs": [
    {
     "data": {
      "image/png": "[encoded data removed]",
      "text/plain": [
       "<Figure size 640x480 with 1 Axes>"
      ]
     },
     "metadata": {},
     "output_type": "display_data"
    }
   ],
   "source": [
    "plt.scatter(df1['Arrival_Time_in_Minutes'], df1['delay_minutes'])\n",
    "plt.xlabel('Arrival_Time_in_Minutes')\n",
    "plt.ylabel('delay_minutes')\n",
    "plt.title('Scatter plot of arrival time vs delay')\n",
    "plt.show()"
   ]
  },
  {
   "cell_type": "code",
   "execution_count": 26,
   "id": "828c3528",
   "metadata": {},
   "outputs": [
    {
     "data": {
      "text/html": [
       "<div>\n",
       "<style scoped>\n",
       "    .dataframe tbody tr th:only-of-type {\n",
       "        vertical-align: middle;\n",
       "    }\n",
       "\n",
       "    .dataframe tbody tr th {\n",
       "        vertical-align: top;\n",
       "    }\n",
       "\n",
       "    .dataframe thead th {\n",
       "        text-align: right;\n",
       "    }\n",
       "</style>\n",
       "<table border=\"1\" class=\"dataframe\">\n",
       "  <thead>\n",
       "    <tr style=\"text-align: right;\">\n",
       "      <th></th>\n",
       "      <th>numvuelo</th>\n",
       "      <th>compania</th>\n",
       "      <th>nombrecompania</th>\n",
       "      <th>ciudadiataotro</th>\n",
       "      <th>tipoaeronave</th>\n",
       "      <th>fecha</th>\n",
       "      <th>hora_llegada</th>\n",
       "      <th>date</th>\n",
       "      <th>Estimated_Time</th>\n",
       "      <th>Arrival_Time</th>\n",
       "      <th>day_of_week</th>\n",
       "      <th>month_of_year</th>\n",
       "      <th>Estimated_Time_in_Minutes</th>\n",
       "      <th>Arrival_Time_in_Minutes</th>\n",
       "      <th>delay_minutes</th>\n",
       "      <th>time_category</th>\n",
       "      <th>delay</th>\n",
       "      <th>city</th>\n",
       "    </tr>\n",
       "  </thead>\n",
       "  <tbody>\n",
       "    <tr>\n",
       "      <th>0</th>\n",
       "      <td>5200</td>\n",
       "      <td>UX</td>\n",
       "      <td>Air Europa</td>\n",
       "      <td>GRANADA-JAÉN F.G.L.</td>\n",
       "      <td>738W</td>\n",
       "      <td>2023-05-11</td>\n",
       "      <td>14:35:53</td>\n",
       "      <td>2023-05-11</td>\n",
       "      <td>2023-07-28 14:03:00</td>\n",
       "      <td>2023-07-28 14:35:53</td>\n",
       "      <td>4</td>\n",
       "      <td>5</td>\n",
       "      <td>843.0</td>\n",
       "      <td>875.883333</td>\n",
       "      <td>32.883333</td>\n",
       "      <td>2</td>\n",
       "      <td>1</td>\n",
       "      <td>GRANADA</td>\n",
       "    </tr>\n",
       "    <tr>\n",
       "      <th>1</th>\n",
       "      <td>592</td>\n",
       "      <td>EWG</td>\n",
       "      <td>Eurowings</td>\n",
       "      <td>KOELN/BONN</td>\n",
       "      <td>A320</td>\n",
       "      <td>2023-05-09</td>\n",
       "      <td>08:40:53</td>\n",
       "      <td>2023-05-09</td>\n",
       "      <td>2023-07-28 08:25:00</td>\n",
       "      <td>2023-07-28 08:40:53</td>\n",
       "      <td>2</td>\n",
       "      <td>5</td>\n",
       "      <td>505.0</td>\n",
       "      <td>520.883333</td>\n",
       "      <td>15.883333</td>\n",
       "      <td>1</td>\n",
       "      <td>1</td>\n",
       "      <td>KOELN</td>\n",
       "    </tr>\n",
       "    <tr>\n",
       "      <th>2</th>\n",
       "      <td>9584</td>\n",
       "      <td>EWG</td>\n",
       "      <td>Eurowings</td>\n",
       "      <td>DUSSELDORF</td>\n",
       "      <td>A32A</td>\n",
       "      <td>2023-05-09</td>\n",
       "      <td>08:40:53</td>\n",
       "      <td>2023-05-09</td>\n",
       "      <td>2023-07-28 08:24:00</td>\n",
       "      <td>2023-07-28 08:40:53</td>\n",
       "      <td>2</td>\n",
       "      <td>5</td>\n",
       "      <td>504.0</td>\n",
       "      <td>520.883333</td>\n",
       "      <td>16.883333</td>\n",
       "      <td>1</td>\n",
       "      <td>1</td>\n",
       "      <td>DUSSELDORF</td>\n",
       "    </tr>\n",
       "    <tr>\n",
       "      <th>3</th>\n",
       "      <td>1441</td>\n",
       "      <td>TB</td>\n",
       "      <td>TUI FLY BELGIUM</td>\n",
       "      <td>OSTEND-BRUGES (OST)</td>\n",
       "      <td>738W</td>\n",
       "      <td>2023-05-09</td>\n",
       "      <td>08:40:53</td>\n",
       "      <td>2023-05-09</td>\n",
       "      <td>2023-07-28 08:21:00</td>\n",
       "      <td>2023-07-28 08:40:53</td>\n",
       "      <td>2</td>\n",
       "      <td>5</td>\n",
       "      <td>501.0</td>\n",
       "      <td>520.883333</td>\n",
       "      <td>19.883333</td>\n",
       "      <td>1</td>\n",
       "      <td>1</td>\n",
       "      <td>OSTEND</td>\n",
       "    </tr>\n",
       "    <tr>\n",
       "      <th>4</th>\n",
       "      <td>7831</td>\n",
       "      <td>RYR</td>\n",
       "      <td>Ryanair</td>\n",
       "      <td>BRUSELAS /CHARLEROI</td>\n",
       "      <td>738W</td>\n",
       "      <td>2023-05-09</td>\n",
       "      <td>08:40:53</td>\n",
       "      <td>2023-05-09</td>\n",
       "      <td>2023-07-28 08:28:00</td>\n",
       "      <td>2023-07-28 08:40:53</td>\n",
       "      <td>2</td>\n",
       "      <td>5</td>\n",
       "      <td>508.0</td>\n",
       "      <td>520.883333</td>\n",
       "      <td>12.883333</td>\n",
       "      <td>1</td>\n",
       "      <td>1</td>\n",
       "      <td>BRUSELAS</td>\n",
       "    </tr>\n",
       "  </tbody>\n",
       "</table>\n",
       "</div>"
      ],
      "text/plain": [
       "  numvuelo compania   nombrecompania       ciudadiataotro tipoaeronave  \\\n",
       "0     5200       UX       Air Europa  GRANADA-JAÉN F.G.L.         738W   \n",
       "1      592      EWG        Eurowings           KOELN/BONN         A320   \n",
       "2     9584      EWG        Eurowings           DUSSELDORF         A32A   \n",
       "3     1441       TB  TUI FLY BELGIUM  OSTEND-BRUGES (OST)         738W   \n",
       "4     7831      RYR          Ryanair  BRUSELAS /CHARLEROI         738W   \n",
       "\n",
       "        fecha hora_llegada       date      Estimated_Time        Arrival_Time  \\\n",
       "0  2023-05-11     14:35:53 2023-05-11 2023-07-28 14:03:00 2023-07-28 14:35:53   \n",
       "1  2023-05-09     08:40:53 2023-05-09 2023-07-28 08:25:00 2023-07-28 08:40:53   \n",
       "2  2023-05-09     08:40:53 2023-05-09 2023-07-28 08:24:00 2023-07-28 08:40:53   \n",
       "3  2023-05-09     08:40:53 2023-05-09 2023-07-28 08:21:00 2023-07-28 08:40:53   \n",
       "4  2023-05-09     08:40:53 2023-05-09 2023-07-28 08:28:00 2023-07-28 08:40:53   \n",
       "\n",
       "   day_of_week  month_of_year  Estimated_Time_in_Minutes  \\\n",
       "0            4              5                      843.0   \n",
       "1            2              5                      505.0   \n",
       "2            2              5                      504.0   \n",
       "3            2              5                      501.0   \n",
       "4            2              5                      508.0   \n",
       "\n",
       "   Arrival_Time_in_Minutes  delay_minutes  time_category  delay        city  \n",
       "0               875.883333      32.883333              2      1     GRANADA  \n",
       "1               520.883333      15.883333              1      1       KOELN  \n",
       "2               520.883333      16.883333              1      1  DUSSELDORF  \n",
       "3               520.883333      19.883333              1      1      OSTEND  \n",
       "4               520.883333      12.883333              1      1    BRUSELAS  "
      ]
     },
     "execution_count": 26,
     "metadata": {},
     "output_type": "execute_result"
    }
   ],
   "source": [
    "#We filter the outliers by deleting the flights that are delayed for more than 60 minutes.\n",
    "\n",
    "df1 = df1[(df1['delay_minutes'] > -10) & (df1['delay_minutes'] < 60)] #We filter the outliers\n",
    "df1.head()"
   ]
  },
  {
   "cell_type": "code",
   "execution_count": 27,
   "id": "0d60ae00",
   "metadata": {},
   "outputs": [
    {
     "data": {
      "image/png": "[encoded data removed]",
      "text/plain": [
       "<Figure size 640x480 with 1 Axes>"
      ]
     },
     "metadata": {},
     "output_type": "display_data"
    }
   ],
   "source": [
    "#Scatter plot to see if we correctly deleted outliers:\n",
    "\n",
    "plt.scatter(df1['Estimated_Time_in_Minutes'], df1['delay_minutes'])\n",
    "plt.xlabel('Estimated_Time_in_Minutes')\n",
    "plt.ylabel('delay_minutes')\n",
    "plt.title('Scatter plot Estimated_Time_without_OUTLIERS vs delay')\n",
    "plt.show()"
   ]
  },
  {
   "cell_type": "markdown",
   "id": "ace9c038",
   "metadata": {},
   "source": [
    "Now that the outliers have been deleted, we will extract information about the delays. A mean of the delay for each company has been made. There are two tables, in the first one the companies appear in alphabetic order and in the second the table is sorted from the company that has the most time delay mean to the least."
   ]
  },
  {
   "cell_type": "code",
   "execution_count": 28,
   "id": "9f6a2bf3",
   "metadata": {},
   "outputs": [
    {
     "name": "stdout",
     "output_type": "stream",
     "text": [
      "           nombrecompania  mean_time_delay\n",
      "0         Aegean Airlines        20.337500\n",
      "1              Aer Lingus        17.532609\n",
      "2   Aerolíneas Argentinas        17.671631\n",
      "3              Aeromexico        17.604780\n",
      "4        Air Arabia Maroc        18.245455\n",
      "..                    ...              ...\n",
      "87   Wizz Air Malta (WMT)        23.604167\n",
      "88                easyJet        17.233431\n",
      "89    easyJet Switzerland        16.117857\n",
      "90             easyJet UK        17.309185\n",
      "91     sata-internacional        26.504762\n",
      "\n",
      "[92 rows x 2 columns]\n"
     ]
    }
   ],
   "source": [
    "import pandas as pd\n",
    "\n",
    "# Assuming you have a DataFrame named df with columns 'compania' and 'time_delay'\n",
    "# Group by 'compania' and calculate the mean of 'time_delay' for each flight company\n",
    "mean_delay_by_company = df1.groupby('nombrecompania')['delay_minutes'].mean().reset_index()\n",
    "\n",
    "# Rename the 'time_delay' column to 'mean_time_delay'\n",
    "mean_delay_by_company = mean_delay_by_company.rename(columns={'delay_minutes': 'mean_time_delay'})\n",
    "\n",
    "print(mean_delay_by_company)"
   ]
  },
  {
   "cell_type": "code",
   "execution_count": 29,
   "id": "69174c99",
   "metadata": {},
   "outputs": [
    {
     "name": "stdout",
     "output_type": "stream",
     "text": [
      "                nombrecompania  mean_time_delay\n",
      "12   Altenrhein Luftfahrt Gmbh        27.555556\n",
      "91          sata-internacional        26.504762\n",
      "85  Wideroe´s Flyveselskap A/S        25.333333\n",
      "40                Hisky Europe        23.686667\n",
      "87        Wizz Air Malta (WMT)        23.604167\n",
      "..                         ...              ...\n",
      "27          Copenhagen Airtaxi        14.251190\n",
      "73                       Tarom        13.906818\n",
      "44                      Israir        10.850000\n",
      "15            Atlantic Airways        10.341667\n",
      "45                 JSC Klasjet         3.850000\n",
      "\n",
      "[92 rows x 2 columns]\n"
     ]
    }
   ],
   "source": [
    "# Sort the DataFrame by mean_delay in descending order\n",
    "mean_delay_by_company_sorted = mean_delay_by_company.sort_values(by='mean_time_delay', ascending=False)\n",
    "\n",
    "# Print the sorted DataFrame\n",
    "print(mean_delay_by_company_sorted)"
   ]
  },
  {
   "cell_type": "code",
   "execution_count": 30,
   "id": "7cdc4b0f",
   "metadata": {},
   "outputs": [
    {
     "name": "stdout",
     "output_type": "stream",
     "text": [
      "+---------------------------------+--------------------+\n",
      "|         nombrecompania          |  mean_time_delay   |\n",
      "+---------------------------------+--------------------+\n",
      "|    Altenrhein Luftfahrt Gmbh    | 27.55555555555556  |\n",
      "|       sata-internacional        | 26.504761904761917 |\n",
      "|   Wideroe´s Flyveselskap A/S    | 25.333333333333258 |\n",
      "|          Hisky Europe           | 23.686666666666667 |\n",
      "|      Wizz Air Malta (WMT)       | 23.604166666666657 |\n",
      "|        Brussels Airways         | 22.741666666666703 |\n",
      "|            Fly Play             | 20.759999999999945 |\n",
      "|         Binter Canarias         | 20.364646464646466 |\n",
      "|         Aegean Airlines         | 20.337500000000034 |\n",
      "|        Air Horizont LTD         | 20.33333333333337  |\n",
      "|           Air Baltic            | 19.554761904761904 |\n",
      "|        TAP Air Portugal         | 19.29702380952381  |\n",
      "|        Helvetic Airways         | 19.275757575757563 |\n",
      "|     Arkia Israeli Airlines      | 19.15833333333333  |\n",
      "|         Cathay Pacific          |  18.8663082437276  |\n",
      "|      Middle East Airlines       | 18.614893617021256 |\n",
      "|             Saudia              | 18.614893617021256 |\n",
      "|           Tui Airways           | 18.59153104279687  |\n",
      "|          Tuifly Nordic          | 18.577131782945738 |\n",
      "|             Uep!Fly             | 18.554119138149556 |\n",
      "|    SAS Scandinavian Airlines    | 18.44311111111111  |\n",
      "|           Air Serbia            | 18.34535353535352  |\n",
      "|        Air Arabia Maroc         | 18.245454545454535 |\n",
      "|            Alba Star            | 18.23333333333333  |\n",
      "|             SUNDAIR             | 18.224829931972785 |\n",
      "|              Neos               | 18.15833333333331  |\n",
      "|            Transavia            | 18.115733830845766 |\n",
      "|            Norwegian            | 18.107142857142858 |\n",
      "|           Air Nostrum           | 18.06264367816091  |\n",
      "|             Volotea             | 17.965938511326854 |\n",
      "|             Condor              | 17.92947776417788  |\n",
      "|             Luxair              | 17.924074074074074 |\n",
      "|        Sunclass Airlines        | 17.91177024482109  |\n",
      "|        Chair Airlines AG        | 17.90465116279071  |\n",
      "|            Jet2.com             | 17.866901709401702 |\n",
      "|          Jet Time A/S           | 17.741489361702122 |\n",
      "|           Air Europa            | 17.73845536287732  |\n",
      "|       Smart Lynx Airlines       | 17.713661202185794 |\n",
      "|             Avianca             | 17.696879432624108 |\n",
      "|        American Airlines        | 17.675085910652918 |\n",
      "| Braathens International Airways | 17.67345679012346  |\n",
      "|      Aerolíneas Argentinas      | 17.671631205673737 |\n",
      "|             Tui Fly             | 17.66243169398907  |\n",
      "|            Corendon             | 17.61816479400749  |\n",
      "|           Aeromexico            | 17.60477987421383  |\n",
      "|         Etihad Airways          | 17.604463040446298 |\n",
      "|         Iberia Express          | 17.549206349206344 |\n",
      "|           Aer Lingus            | 17.53260869565217  |\n",
      "|              Delta              | 17.523170731707317 |\n",
      "|        Marabu Airline OU        | 17.496153846153828 |\n",
      "|           Smartwings            | 17.454761904761877 |\n",
      "|             Ryanair             |  17.4543823326432  |\n",
      "|             Finnair             | 17.45000000000001  |\n",
      "|         United Airlines         | 17.44535864978904  |\n",
      "|  Swiss International Airlines   | 17.425660377358493 |\n",
      "|             Iberia              | 17.418801124744373 |\n",
      "|     Tui Airlines Nederland      | 17.417647058823512 |\n",
      "|               KLM               | 17.401670644391398 |\n",
      "|           easyJet UK            | 17.309185036740146 |\n",
      "|            Lufthansa            | 17.290651709401708 |\n",
      "|        Austrian Airlines        |  17.2862676056338  |\n",
      "|             Vueling             | 17.28315096251266  |\n",
      "|             easyJet             | 17.233430515063166 |\n",
      "|   LOT-Polskie Linie Lotnicze    | 17.220833333333324 |\n",
      "|         British Airways         | 17.19430803571428  |\n",
      "|            Eurowings            | 17.13664096320346  |\n",
      "|           Air France            | 17.079271708683464 |\n",
      "|              TAAG               | 17.067117117117128 |\n",
      "|       Smartwings Hungary        | 17.053333333333338 |\n",
      "|          Qatar Airways          | 17.032743114109042 |\n",
      "|        Brussels Airlines        | 16.977083333333347 |\n",
      "|       Eurowings Discover        | 16.844148936170207 |\n",
      "|            Wizz Air             | 16.81351851851852  |\n",
      "|        Turkish Airlines         | 16.807213930348247 |\n",
      "|           ITA Airways           | 16.695012165450112 |\n",
      "|         LATAM Airlines          | 16.62949438202246  |\n",
      "|         TUI FLY BELGIUM         | 16.551228070175437 |\n",
      "|         Royal Air Maroc         | 16.533333333333303 |\n",
      "|         Czech Airlines          | 16.360416666666644 |\n",
      "|            Edelweiss            | 16.34741379310345  |\n",
      "|              LEAV               | 16.33571428571429  |\n",
      "|       easyJet Switzerland       | 16.117857142857154 |\n",
      "|         Kuwait Airways          | 15.879656862745078 |\n",
      "|            Trade air            | 15.837499999999977 |\n",
      "|            Enter Air            | 15.707471264367813 |\n",
      "|        Bulgaria Airlines        | 15.16111111111109  |\n",
      "|            Egyptair             | 14.833333333333371 |\n",
      "|       Copenhagen Airtaxi        | 14.251190476190484 |\n",
      "|              Tarom              | 13.90681818181818  |\n",
      "|             Israir              | 10.850000000000023 |\n",
      "|        Atlantic Airways         | 10.341666666666697 |\n",
      "|           JSC Klasjet           | 3.8500000000000227 |\n",
      "+---------------------------------+--------------------+\n"
     ]
    }
   ],
   "source": [
    "import pandas as pd\n",
    "from tabulate import tabulate\n",
    "\n",
    "# Assuming you have the mean_delay_by_company DataFrame from the previous code\n",
    "\n",
    "# Convert the DataFrame to a list of lists\n",
    "table_data = mean_delay_by_company_sorted.values.tolist()\n",
    "\n",
    "# Define the table headers\n",
    "headers = mean_delay_by_company_sorted.columns.tolist()\n",
    "\n",
    "# Use the tabulate function to create the table\n",
    "table = tabulate(table_data, headers=headers, tablefmt='pretty')\n",
    "\n",
    "# Print the table\n",
    "print(table)\n"
   ]
  },
  {
   "cell_type": "markdown",
   "id": "e8c4ad5d",
   "metadata": {},
   "source": [
    "## 4.1. LABEL ENCODING FOR CATEGORICAL VARIABLES"
   ]
  },
  {
   "cell_type": "markdown",
   "id": "7589e4fa",
   "metadata": {},
   "source": [
    "The machine learning algorithm can only be trained with numeric features, so we have to convert some of our variables into the correct format."
   ]
  },
  {
   "cell_type": "code",
   "execution_count": 31,
   "id": "6c25cd95",
   "metadata": {},
   "outputs": [
    {
     "name": "stdout",
     "output_type": "stream",
     "text": [
      "      numvuelo   nombrecompania       ciudadiataotro       fecha hora_llegada  \\\n",
      "0         5200       Air Europa  GRANADA-JAÉN F.G.L.  2023-05-11     14:35:53   \n",
      "1          592        Eurowings           KOELN/BONN  2023-05-09     08:40:53   \n",
      "2         9584        Eurowings           DUSSELDORF  2023-05-09     08:40:53   \n",
      "3         1441  TUI FLY BELGIUM  OSTEND-BRUGES (OST)  2023-05-09     08:40:53   \n",
      "4         7831          Ryanair  BRUSELAS /CHARLEROI  2023-05-09     08:40:53   \n",
      "...        ...              ...                  ...         ...          ...   \n",
      "24200     5674      Tui Airways   DURHAM TEES VALLEY  2023-07-01     17:30:21   \n",
      "24201     5402          Ryanair            NUREMBERG  2023-07-01     17:30:21   \n",
      "24202     9576        Eurowings           DUSSELDORF  2023-07-01     17:30:21   \n",
      "24203     8507           Iberia              MENORCA  2023-07-01     17:30:21   \n",
      "24204     1682      Tui Airways                 CORK  2023-07-01     17:30:21   \n",
      "\n",
      "            date      Estimated_Time        Arrival_Time  day_of_week  \\\n",
      "0     2023-05-11 2023-07-28 14:03:00 2023-07-28 14:35:53            4   \n",
      "1     2023-05-09 2023-07-28 08:25:00 2023-07-28 08:40:53            2   \n",
      "2     2023-05-09 2023-07-28 08:24:00 2023-07-28 08:40:53            2   \n",
      "3     2023-05-09 2023-07-28 08:21:00 2023-07-28 08:40:53            2   \n",
      "4     2023-05-09 2023-07-28 08:28:00 2023-07-28 08:40:53            2   \n",
      "...          ...                 ...                 ...          ...   \n",
      "24200 2023-07-01 2023-07-28 17:18:00 2023-07-28 17:30:21            6   \n",
      "24201 2023-07-01 2023-07-28 17:14:00 2023-07-28 17:30:21            6   \n",
      "24202 2023-07-01 2023-07-28 17:19:00 2023-07-28 17:30:21            6   \n",
      "24203 2023-07-01 2023-07-28 17:10:00 2023-07-28 17:30:21            6   \n",
      "24204 2023-07-01 2023-07-28 17:20:00 2023-07-28 17:30:21            6   \n",
      "\n",
      "       month_of_year  Estimated_Time_in_Minutes  Arrival_Time_in_Minutes  \\\n",
      "0                  5                      843.0               875.883333   \n",
      "1                  5                      505.0               520.883333   \n",
      "2                  5                      504.0               520.883333   \n",
      "3                  5                      501.0               520.883333   \n",
      "4                  5                      508.0               520.883333   \n",
      "...              ...                        ...                      ...   \n",
      "24200              7                     1038.0              1050.350000   \n",
      "24201              7                     1034.0              1050.350000   \n",
      "24202              7                     1039.0              1050.350000   \n",
      "24203              7                     1030.0              1050.350000   \n",
      "24204              7                     1040.0              1050.350000   \n",
      "\n",
      "       delay_minutes  time_category  delay  tipoaeronave_encoded  \\\n",
      "0          32.883333              2      1                     2   \n",
      "1          15.883333              1      1                    10   \n",
      "2          16.883333              1      1                    12   \n",
      "3          19.883333              1      1                     2   \n",
      "4          12.883333              1      1                     2   \n",
      "...              ...            ...    ...                   ...   \n",
      "24200      12.350000              2      1                     2   \n",
      "24201      16.350000              2      1                     2   \n",
      "24202      11.350000              2      1                    10   \n",
      "24203      20.350000              2      1                    37   \n",
      "24204      10.350000              2      1                    10   \n",
      "\n",
      "       compania_encoded  city_encoded  \n",
      "0                    99            60  \n",
      "1                    40            82  \n",
      "2                    40            44  \n",
      "3                    90           123  \n",
      "4                    84            29  \n",
      "...                 ...           ...  \n",
      "24200                94            43  \n",
      "24201                84           118  \n",
      "24202                40            44  \n",
      "24203                53           105  \n",
      "24204                94            37  \n",
      "\n",
      "[24096 rows x 18 columns]\n"
     ]
    }
   ],
   "source": [
    "import pandas as pd\n",
    "from sklearn.preprocessing import LabelEncoder\n",
    "\n",
    "# Assuming you have loaded the dataframe as df1\n",
    "\n",
    "# Create a copy of the dataframe\n",
    "df1_copy = df1.copy()\n",
    "\n",
    "# Apply label encoding to the \"tipoaeronave\" column\n",
    "le_tipoaeronave = LabelEncoder()\n",
    "df1_copy[\"tipoaeronave_encoded\"] = le_tipoaeronave.fit_transform(df1_copy[\"tipoaeronave\"])\n",
    "\n",
    "# Apply label encoding to the \"compania\" column\n",
    "le_compania = LabelEncoder()\n",
    "df1_copy[\"compania_encoded\"] = le_compania.fit_transform(df1_copy[\"compania\"])\n",
    "\n",
    "# Apply label encoding to the \"city\" of origin column:\n",
    "le_city = LabelEncoder()\n",
    "df1_copy[\"city_encoded\"] = le_city.fit_transform(df1_copy[\"city\"])\n",
    "\n",
    "\n",
    "# Drop the original \"tipoaeronave\", \"compania\", and \"city\" columns\n",
    "df1_copy.drop([\"tipoaeronave\", \"compania\", \"city\"], axis=1, inplace=True)\n",
    "\n",
    "# Show the updated dataframe\n",
    "print(df1_copy)"
   ]
  },
  {
   "cell_type": "code",
   "execution_count": 32,
   "id": "a777b8c2",
   "metadata": {},
   "outputs": [
    {
     "data": {
      "text/html": [
       "<div>\n",
       "<style scoped>\n",
       "    .dataframe tbody tr th:only-of-type {\n",
       "        vertical-align: middle;\n",
       "    }\n",
       "\n",
       "    .dataframe tbody tr th {\n",
       "        vertical-align: top;\n",
       "    }\n",
       "\n",
       "    .dataframe thead th {\n",
       "        text-align: right;\n",
       "    }\n",
       "</style>\n",
       "<table border=\"1\" class=\"dataframe\">\n",
       "  <thead>\n",
       "    <tr style=\"text-align: right;\">\n",
       "      <th></th>\n",
       "      <th>numvuelo</th>\n",
       "      <th>compania_encoded</th>\n",
       "      <th>tipoaeronave_encoded</th>\n",
       "      <th>city_encoded</th>\n",
       "      <th>Estimated_Time_in_Minutes</th>\n",
       "      <th>day_of_week</th>\n",
       "      <th>month_of_year</th>\n",
       "      <th>time_category</th>\n",
       "      <th>delay</th>\n",
       "    </tr>\n",
       "  </thead>\n",
       "  <tbody>\n",
       "    <tr>\n",
       "      <th>0</th>\n",
       "      <td>5200</td>\n",
       "      <td>99</td>\n",
       "      <td>2</td>\n",
       "      <td>60</td>\n",
       "      <td>843.0</td>\n",
       "      <td>4</td>\n",
       "      <td>5</td>\n",
       "      <td>2</td>\n",
       "      <td>1</td>\n",
       "    </tr>\n",
       "    <tr>\n",
       "      <th>1</th>\n",
       "      <td>592</td>\n",
       "      <td>40</td>\n",
       "      <td>10</td>\n",
       "      <td>82</td>\n",
       "      <td>505.0</td>\n",
       "      <td>2</td>\n",
       "      <td>5</td>\n",
       "      <td>1</td>\n",
       "      <td>1</td>\n",
       "    </tr>\n",
       "    <tr>\n",
       "      <th>2</th>\n",
       "      <td>9584</td>\n",
       "      <td>40</td>\n",
       "      <td>12</td>\n",
       "      <td>44</td>\n",
       "      <td>504.0</td>\n",
       "      <td>2</td>\n",
       "      <td>5</td>\n",
       "      <td>1</td>\n",
       "      <td>1</td>\n",
       "    </tr>\n",
       "    <tr>\n",
       "      <th>3</th>\n",
       "      <td>1441</td>\n",
       "      <td>90</td>\n",
       "      <td>2</td>\n",
       "      <td>123</td>\n",
       "      <td>501.0</td>\n",
       "      <td>2</td>\n",
       "      <td>5</td>\n",
       "      <td>1</td>\n",
       "      <td>1</td>\n",
       "    </tr>\n",
       "    <tr>\n",
       "      <th>4</th>\n",
       "      <td>7831</td>\n",
       "      <td>84</td>\n",
       "      <td>2</td>\n",
       "      <td>29</td>\n",
       "      <td>508.0</td>\n",
       "      <td>2</td>\n",
       "      <td>5</td>\n",
       "      <td>1</td>\n",
       "      <td>1</td>\n",
       "    </tr>\n",
       "  </tbody>\n",
       "</table>\n",
       "</div>"
      ],
      "text/plain": [
       "  numvuelo  compania_encoded  tipoaeronave_encoded  city_encoded  \\\n",
       "0     5200                99                     2            60   \n",
       "1      592                40                    10            82   \n",
       "2     9584                40                    12            44   \n",
       "3     1441                90                     2           123   \n",
       "4     7831                84                     2            29   \n",
       "\n",
       "   Estimated_Time_in_Minutes  day_of_week  month_of_year  time_category  delay  \n",
       "0                      843.0            4              5              2      1  \n",
       "1                      505.0            2              5              1      1  \n",
       "2                      504.0            2              5              1      1  \n",
       "3                      501.0            2              5              1      1  \n",
       "4                      508.0            2              5              1      1  "
      ]
     },
     "execution_count": 32,
     "metadata": {},
     "output_type": "execute_result"
    }
   ],
   "source": [
    "\n",
    "df1=df1_copy[['numvuelo', 'compania_encoded','tipoaeronave_encoded','city_encoded','Estimated_Time_in_Minutes','day_of_week','month_of_year','time_category','delay']]\n",
    "df1.head()  "
   ]
  },
  {
   "cell_type": "code",
   "execution_count": 33,
   "id": "cf233ac2",
   "metadata": {},
   "outputs": [
    {
     "name": "stdout",
     "output_type": "stream",
     "text": [
      "There are no null values in df1.\n"
     ]
    }
   ],
   "source": [
    "import pandas as pd\n",
    "\n",
    "# Assuming you already have the DataFrame df1\n",
    "\n",
    "# Check if there are any null values in df1\n",
    "if df1.isnull().any().any():\n",
    "    print(\"There are null values in df1.\")\n",
    "else:\n",
    "    print(\"There are no null values in df1.\")\n"
   ]
  },
  {
   "cell_type": "markdown",
   "id": "cc892b54",
   "metadata": {},
   "source": [
    "##### Test and training set"
   ]
  },
  {
   "cell_type": "markdown",
   "id": "d3f01708",
   "metadata": {},
   "source": [
    "We have to divide our data into the test set and the training set to train and then test the models."
   ]
  },
  {
   "cell_type": "code",
   "execution_count": 37,
   "id": "1a0f14fd",
   "metadata": {},
   "outputs": [],
   "source": [
    "from sklearn.model_selection import train_test_split"
   ]
  },
  {
   "cell_type": "code",
   "execution_count": 44,
   "id": "b5bb7456",
   "metadata": {},
   "outputs": [],
   "source": [
    "X = df1.drop([\"delay\"], axis = 1)\n",
    "y = df1[[\"delay\"]] #variable that we want to predict"
   ]
  },
  {
   "cell_type": "code",
   "execution_count": 45,
   "id": "3c2b9317",
   "metadata": {},
   "outputs": [],
   "source": [
    "X_train, X_test, y_train, y_test = train_test_split(X, y, test_size = 0.1, random_state = 3)"
   ]
  },
  {
   "cell_type": "code",
   "execution_count": 46,
   "id": "c3ecc844",
   "metadata": {},
   "outputs": [
    {
     "data": {
      "text/html": [
       "<div>\n",
       "<style scoped>\n",
       "    .dataframe tbody tr th:only-of-type {\n",
       "        vertical-align: middle;\n",
       "    }\n",
       "\n",
       "    .dataframe tbody tr th {\n",
       "        vertical-align: top;\n",
       "    }\n",
       "\n",
       "    .dataframe thead th {\n",
       "        text-align: right;\n",
       "    }\n",
       "</style>\n",
       "<table border=\"1\" class=\"dataframe\">\n",
       "  <thead>\n",
       "    <tr style=\"text-align: right;\">\n",
       "      <th></th>\n",
       "      <th>numvuelo</th>\n",
       "      <th>compania_encoded</th>\n",
       "      <th>tipoaeronave_encoded</th>\n",
       "      <th>city_encoded</th>\n",
       "      <th>Estimated_Time_in_Minutes</th>\n",
       "      <th>day_of_week</th>\n",
       "      <th>month_of_year</th>\n",
       "      <th>time_category</th>\n",
       "    </tr>\n",
       "  </thead>\n",
       "  <tbody>\n",
       "    <tr>\n",
       "      <th>7519</th>\n",
       "      <td>2347</td>\n",
       "      <td>84</td>\n",
       "      <td>21</td>\n",
       "      <td>113</td>\n",
       "      <td>743.0</td>\n",
       "      <td>4</td>\n",
       "      <td>5</td>\n",
       "      <td>2</td>\n",
       "    </tr>\n",
       "    <tr>\n",
       "      <th>1606</th>\n",
       "      <td>8531</td>\n",
       "      <td>53</td>\n",
       "      <td>37</td>\n",
       "      <td>68</td>\n",
       "      <td>1262.0</td>\n",
       "      <td>7</td>\n",
       "      <td>5</td>\n",
       "      <td>3</td>\n",
       "    </tr>\n",
       "    <tr>\n",
       "      <th>19779</th>\n",
       "      <td>6918</td>\n",
       "      <td>35</td>\n",
       "      <td>8</td>\n",
       "      <td>98</td>\n",
       "      <td>524.0</td>\n",
       "      <td>4</td>\n",
       "      <td>6</td>\n",
       "      <td>1</td>\n",
       "    </tr>\n",
       "    <tr>\n",
       "      <th>3156</th>\n",
       "      <td>4014</td>\n",
       "      <td>99</td>\n",
       "      <td>2</td>\n",
       "      <td>158</td>\n",
       "      <td>1079.0</td>\n",
       "      <td>1</td>\n",
       "      <td>5</td>\n",
       "      <td>2</td>\n",
       "    </tr>\n",
       "    <tr>\n",
       "      <th>9242</th>\n",
       "      <td>027</td>\n",
       "      <td>84</td>\n",
       "      <td>21</td>\n",
       "      <td>94</td>\n",
       "      <td>892.0</td>\n",
       "      <td>7</td>\n",
       "      <td>5</td>\n",
       "      <td>2</td>\n",
       "    </tr>\n",
       "  </tbody>\n",
       "</table>\n",
       "</div>"
      ],
      "text/plain": [
       "      numvuelo  compania_encoded  tipoaeronave_encoded  city_encoded  \\\n",
       "7519      2347                84                    21           113   \n",
       "1606      8531                53                    37            68   \n",
       "19779     6918                35                     8            98   \n",
       "3156      4014                99                     2           158   \n",
       "9242       027                84                    21            94   \n",
       "\n",
       "       Estimated_Time_in_Minutes  day_of_week  month_of_year  time_category  \n",
       "7519                       743.0            4              5              2  \n",
       "1606                      1262.0            7              5              3  \n",
       "19779                      524.0            4              6              1  \n",
       "3156                      1079.0            1              5              2  \n",
       "9242                       892.0            7              5              2  "
      ]
     },
     "execution_count": 46,
     "metadata": {},
     "output_type": "execute_result"
    }
   ],
   "source": [
    "X_train.head()"
   ]
  },
  {
   "cell_type": "code",
   "execution_count": 47,
   "id": "80c50dad",
   "metadata": {},
   "outputs": [
    {
     "data": {
      "text/html": [
       "<div>\n",
       "<style scoped>\n",
       "    .dataframe tbody tr th:only-of-type {\n",
       "        vertical-align: middle;\n",
       "    }\n",
       "\n",
       "    .dataframe tbody tr th {\n",
       "        vertical-align: top;\n",
       "    }\n",
       "\n",
       "    .dataframe thead th {\n",
       "        text-align: right;\n",
       "    }\n",
       "</style>\n",
       "<table border=\"1\" class=\"dataframe\">\n",
       "  <thead>\n",
       "    <tr style=\"text-align: right;\">\n",
       "      <th></th>\n",
       "      <th>delay</th>\n",
       "    </tr>\n",
       "  </thead>\n",
       "  <tbody>\n",
       "    <tr>\n",
       "      <th>7519</th>\n",
       "      <td>1</td>\n",
       "    </tr>\n",
       "    <tr>\n",
       "      <th>1606</th>\n",
       "      <td>1</td>\n",
       "    </tr>\n",
       "    <tr>\n",
       "      <th>19779</th>\n",
       "      <td>1</td>\n",
       "    </tr>\n",
       "    <tr>\n",
       "      <th>3156</th>\n",
       "      <td>0</td>\n",
       "    </tr>\n",
       "    <tr>\n",
       "      <th>9242</th>\n",
       "      <td>0</td>\n",
       "    </tr>\n",
       "  </tbody>\n",
       "</table>\n",
       "</div>"
      ],
      "text/plain": [
       "       delay\n",
       "7519       1\n",
       "1606       1\n",
       "19779      1\n",
       "3156       0\n",
       "9242       0"
      ]
     },
     "execution_count": 47,
     "metadata": {},
     "output_type": "execute_result"
    }
   ],
   "source": [
    "y_train.head()"
   ]
  },
  {
   "cell_type": "markdown",
   "id": "a8e28807",
   "metadata": {},
   "source": [
    "# 5. PREPARATION FOR MODELLING ML"
   ]
  },
  {
   "cell_type": "markdown",
   "id": "6201ca34",
   "metadata": {},
   "source": [
    "## 5.1 LOGISTIC REGRESION"
   ]
  },
  {
   "cell_type": "code",
   "execution_count": 23,
   "id": "b8ed8c8f",
   "metadata": {},
   "outputs": [],
   "source": [
    "from sklearn.linear_model import LogisticRegression\n",
    "from sklearn.metrics import accuracy_score"
   ]
  },
  {
   "cell_type": "code",
   "execution_count": 24,
   "id": "3eb91f42",
   "metadata": {},
   "outputs": [
    {
     "data": {
      "text/html": [
       "<style>#sk-container-id-1 {color: black;}#sk-container-id-1 pre{padding: 0;}#sk-container-id-1 div.sk-toggleable {background-color: white;}#sk-container-id-1 label.sk-toggleable__label {cursor: pointer;display: block;width: 100%;margin-bottom: 0;padding: 0.3em;box-sizing: border-box;text-align: center;}#sk-container-id-1 label.sk-toggleable__label-arrow:before {content: \"▸\";float: left;margin-right: 0.25em;color: #696969;}#sk-container-id-1 label.sk-toggleable__label-arrow:hover:before {color: black;}#sk-container-id-1 div.sk-estimator:hover label.sk-toggleable__label-arrow:before {color: black;}#sk-container-id-1 div.sk-toggleable__content {max-height: 0;max-width: 0;overflow: hidden;text-align: left;background-color: #f0f8ff;}#sk-container-id-1 div.sk-toggleable__content pre {margin: 0.2em;color: black;border-radius: 0.25em;background-color: #f0f8ff;}#sk-container-id-1 input.sk-toggleable__control:checked~div.sk-toggleable__content {max-height: 200px;max-width: 100%;overflow: auto;}#sk-container-id-1 input.sk-toggleable__control:checked~label.sk-toggleable__label-arrow:before {content: \"▾\";}#sk-container-id-1 div.sk-estimator input.sk-toggleable__control:checked~label.sk-toggleable__label {background-color: #d4ebff;}#sk-container-id-1 div.sk-label input.sk-toggleable__control:checked~label.sk-toggleable__label {background-color: #d4ebff;}#sk-container-id-1 input.sk-hidden--visually {border: 0;clip: rect(1px 1px 1px 1px);clip: rect(1px, 1px, 1px, 1px);height: 1px;margin: -1px;overflow: hidden;padding: 0;position: absolute;width: 1px;}#sk-container-id-1 div.sk-estimator {font-family: monospace;background-color: #f0f8ff;border: 1px dotted black;border-radius: 0.25em;box-sizing: border-box;margin-bottom: 0.5em;}#sk-container-id-1 div.sk-estimator:hover {background-color: #d4ebff;}#sk-container-id-1 div.sk-parallel-item::after {content: \"\";width: 100%;border-bottom: 1px solid gray;flex-grow: 1;}#sk-container-id-1 div.sk-label:hover label.sk-toggleable__label {background-color: #d4ebff;}#sk-container-id-1 div.sk-serial::before {content: \"\";position: absolute;border-left: 1px solid gray;box-sizing: border-box;top: 0;bottom: 0;left: 50%;z-index: 0;}#sk-container-id-1 div.sk-serial {display: flex;flex-direction: column;align-items: center;background-color: white;padding-right: 0.2em;padding-left: 0.2em;position: relative;}#sk-container-id-1 div.sk-item {position: relative;z-index: 1;}#sk-container-id-1 div.sk-parallel {display: flex;align-items: stretch;justify-content: center;background-color: white;position: relative;}#sk-container-id-1 div.sk-item::before, #sk-container-id-1 div.sk-parallel-item::before {content: \"\";position: absolute;border-left: 1px solid gray;box-sizing: border-box;top: 0;bottom: 0;left: 50%;z-index: -1;}#sk-container-id-1 div.sk-parallel-item {display: flex;flex-direction: column;z-index: 1;position: relative;background-color: white;}#sk-container-id-1 div.sk-parallel-item:first-child::after {align-self: flex-end;width: 50%;}#sk-container-id-1 div.sk-parallel-item:last-child::after {align-self: flex-start;width: 50%;}#sk-container-id-1 div.sk-parallel-item:only-child::after {width: 0;}#sk-container-id-1 div.sk-dashed-wrapped {border: 1px dashed gray;margin: 0 0.4em 0.5em 0.4em;box-sizing: border-box;padding-bottom: 0.4em;background-color: white;}#sk-container-id-1 div.sk-label label {font-family: monospace;font-weight: bold;display: inline-block;line-height: 1.2em;}#sk-container-id-1 div.sk-label-container {text-align: center;}#sk-container-id-1 div.sk-container {/* jupyter's `normalize.less` sets `[hidden] { display: none; }` but bootstrap.min.css set `[hidden] { display: none !important; }` so we also need the `!important` here to be able to override the default hidden behavior on the sphinx rendered scikit-learn.org. See: https://github.com/scikit-learn/scikit-learn/issues/21755 */display: inline-block !important;position: relative;}#sk-container-id-1 div.sk-text-repr-fallback {display: none;}</style><div id=\"sk-container-id-1\" class=\"sk-top-container\"><div class=\"sk-text-repr-fallback\"><pre>LogisticRegression()</pre><b>In a Jupyter environment, please rerun this cell to show the HTML representation or trust the notebook. <br />On GitHub, the HTML representation is unable to render, please try loading this page with nbviewer.org.</b></div><div class=\"sk-container\" hidden><div class=\"sk-item\"><div class=\"sk-estimator sk-toggleable\"><input class=\"sk-toggleable__control sk-hidden--visually\" id=\"sk-estimator-id-1\" type=\"checkbox\" checked><label for=\"sk-estimator-id-1\" class=\"sk-toggleable__label sk-toggleable__label-arrow\">LogisticRegression</label><div class=\"sk-toggleable__content\"><pre>LogisticRegression()</pre></div></div></div></div></div>"
      ],
      "text/plain": [
       "LogisticRegression()"
      ]
     },
     "execution_count": 24,
     "metadata": {},
     "output_type": "execute_result"
    }
   ],
   "source": [
    "log_reg = LogisticRegression()\n",
    "log_reg"
   ]
  },
  {
   "cell_type": "code",
   "execution_count": 25,
   "id": "ab0dfd95",
   "metadata": {},
   "outputs": [
    {
     "data": {
      "text/html": [
       "<style>#sk-container-id-2 {color: black;}#sk-container-id-2 pre{padding: 0;}#sk-container-id-2 div.sk-toggleable {background-color: white;}#sk-container-id-2 label.sk-toggleable__label {cursor: pointer;display: block;width: 100%;margin-bottom: 0;padding: 0.3em;box-sizing: border-box;text-align: center;}#sk-container-id-2 label.sk-toggleable__label-arrow:before {content: \"▸\";float: left;margin-right: 0.25em;color: #696969;}#sk-container-id-2 label.sk-toggleable__label-arrow:hover:before {color: black;}#sk-container-id-2 div.sk-estimator:hover label.sk-toggleable__label-arrow:before {color: black;}#sk-container-id-2 div.sk-toggleable__content {max-height: 0;max-width: 0;overflow: hidden;text-align: left;background-color: #f0f8ff;}#sk-container-id-2 div.sk-toggleable__content pre {margin: 0.2em;color: black;border-radius: 0.25em;background-color: #f0f8ff;}#sk-container-id-2 input.sk-toggleable__control:checked~div.sk-toggleable__content {max-height: 200px;max-width: 100%;overflow: auto;}#sk-container-id-2 input.sk-toggleable__control:checked~label.sk-toggleable__label-arrow:before {content: \"▾\";}#sk-container-id-2 div.sk-estimator input.sk-toggleable__control:checked~label.sk-toggleable__label {background-color: #d4ebff;}#sk-container-id-2 div.sk-label input.sk-toggleable__control:checked~label.sk-toggleable__label {background-color: #d4ebff;}#sk-container-id-2 input.sk-hidden--visually {border: 0;clip: rect(1px 1px 1px 1px);clip: rect(1px, 1px, 1px, 1px);height: 1px;margin: -1px;overflow: hidden;padding: 0;position: absolute;width: 1px;}#sk-container-id-2 div.sk-estimator {font-family: monospace;background-color: #f0f8ff;border: 1px dotted black;border-radius: 0.25em;box-sizing: border-box;margin-bottom: 0.5em;}#sk-container-id-2 div.sk-estimator:hover {background-color: #d4ebff;}#sk-container-id-2 div.sk-parallel-item::after {content: \"\";width: 100%;border-bottom: 1px solid gray;flex-grow: 1;}#sk-container-id-2 div.sk-label:hover label.sk-toggleable__label {background-color: #d4ebff;}#sk-container-id-2 div.sk-serial::before {content: \"\";position: absolute;border-left: 1px solid gray;box-sizing: border-box;top: 0;bottom: 0;left: 50%;z-index: 0;}#sk-container-id-2 div.sk-serial {display: flex;flex-direction: column;align-items: center;background-color: white;padding-right: 0.2em;padding-left: 0.2em;position: relative;}#sk-container-id-2 div.sk-item {position: relative;z-index: 1;}#sk-container-id-2 div.sk-parallel {display: flex;align-items: stretch;justify-content: center;background-color: white;position: relative;}#sk-container-id-2 div.sk-item::before, #sk-container-id-2 div.sk-parallel-item::before {content: \"\";position: absolute;border-left: 1px solid gray;box-sizing: border-box;top: 0;bottom: 0;left: 50%;z-index: -1;}#sk-container-id-2 div.sk-parallel-item {display: flex;flex-direction: column;z-index: 1;position: relative;background-color: white;}#sk-container-id-2 div.sk-parallel-item:first-child::after {align-self: flex-end;width: 50%;}#sk-container-id-2 div.sk-parallel-item:last-child::after {align-self: flex-start;width: 50%;}#sk-container-id-2 div.sk-parallel-item:only-child::after {width: 0;}#sk-container-id-2 div.sk-dashed-wrapped {border: 1px dashed gray;margin: 0 0.4em 0.5em 0.4em;box-sizing: border-box;padding-bottom: 0.4em;background-color: white;}#sk-container-id-2 div.sk-label label {font-family: monospace;font-weight: bold;display: inline-block;line-height: 1.2em;}#sk-container-id-2 div.sk-label-container {text-align: center;}#sk-container-id-2 div.sk-container {/* jupyter's `normalize.less` sets `[hidden] { display: none; }` but bootstrap.min.css set `[hidden] { display: none !important; }` so we also need the `!important` here to be able to override the default hidden behavior on the sphinx rendered scikit-learn.org. See: https://github.com/scikit-learn/scikit-learn/issues/21755 */display: inline-block !important;position: relative;}#sk-container-id-2 div.sk-text-repr-fallback {display: none;}</style><div id=\"sk-container-id-2\" class=\"sk-top-container\"><div class=\"sk-text-repr-fallback\"><pre>LogisticRegression()</pre><b>In a Jupyter environment, please rerun this cell to show the HTML representation or trust the notebook. <br />On GitHub, the HTML representation is unable to render, please try loading this page with nbviewer.org.</b></div><div class=\"sk-container\" hidden><div class=\"sk-item\"><div class=\"sk-estimator sk-toggleable\"><input class=\"sk-toggleable__control sk-hidden--visually\" id=\"sk-estimator-id-2\" type=\"checkbox\" checked><label for=\"sk-estimator-id-2\" class=\"sk-toggleable__label sk-toggleable__label-arrow\">LogisticRegression</label><div class=\"sk-toggleable__content\"><pre>LogisticRegression()</pre></div></div></div></div></div>"
      ],
      "text/plain": [
       "LogisticRegression()"
      ]
     },
     "execution_count": 25,
     "metadata": {},
     "output_type": "execute_result"
    }
   ],
   "source": [
    "log_reg.fit(X_train, y_train)"
   ]
  },
  {
   "cell_type": "code",
   "execution_count": 26,
   "id": "281bfed1",
   "metadata": {},
   "outputs": [],
   "source": [
    "y_pred = log_reg.predict(X_test) "
   ]
  },
  {
   "cell_type": "code",
   "execution_count": 27,
   "id": "c81c3771",
   "metadata": {},
   "outputs": [
    {
     "name": "stdout",
     "output_type": "stream",
     "text": [
      "Test Accuracy: 0.8049792531120332\n"
     ]
    }
   ],
   "source": [
    "accuracy = accuracy_score(y_test, y_pred)\n",
    "print(\"Test Accuracy: {}\".format(accuracy))"
   ]
  },
  {
   "cell_type": "code",
   "execution_count": 28,
   "id": "349c811e",
   "metadata": {},
   "outputs": [],
   "source": [
    "#Cross validation\n",
    "\n",
    "from sklearn.model_selection import cross_val_score"
   ]
  },
  {
   "cell_type": "code",
   "execution_count": 29,
   "id": "9df63d1a",
   "metadata": {},
   "outputs": [
    {
     "name": "stdout",
     "output_type": "stream",
     "text": [
      "Cross-Validation Accuracy Scores 0.8049792531120332\n"
     ]
    }
   ],
   "source": [
    "scores = cross_val_score(log_reg, X_test, y_test, cv = 10)\n",
    "print(\"Cross-Validation Accuracy Scores\", scores.mean())"
   ]
  },
  {
   "cell_type": "markdown",
   "id": "7853722e",
   "metadata": {},
   "source": [
    "## 5.2. DECISION TREE"
   ]
  },
  {
   "cell_type": "code",
   "execution_count": 48,
   "id": "5410af7d",
   "metadata": {},
   "outputs": [],
   "source": [
    "from sklearn.tree import DecisionTreeClassifier"
   ]
  },
  {
   "cell_type": "code",
   "execution_count": 34,
   "id": "35d867a7",
   "metadata": {},
   "outputs": [],
   "source": [
    "dec_tree = DecisionTreeClassifier(random_state = 5) #We create the model object"
   ]
  },
  {
   "cell_type": "code",
   "execution_count": 35,
   "id": "232b7ae7",
   "metadata": {},
   "outputs": [
    {
     "data": {
      "text/html": [
       "<style>#sk-container-id-3 {color: black;}#sk-container-id-3 pre{padding: 0;}#sk-container-id-3 div.sk-toggleable {background-color: white;}#sk-container-id-3 label.sk-toggleable__label {cursor: pointer;display: block;width: 100%;margin-bottom: 0;padding: 0.3em;box-sizing: border-box;text-align: center;}#sk-container-id-3 label.sk-toggleable__label-arrow:before {content: \"▸\";float: left;margin-right: 0.25em;color: #696969;}#sk-container-id-3 label.sk-toggleable__label-arrow:hover:before {color: black;}#sk-container-id-3 div.sk-estimator:hover label.sk-toggleable__label-arrow:before {color: black;}#sk-container-id-3 div.sk-toggleable__content {max-height: 0;max-width: 0;overflow: hidden;text-align: left;background-color: #f0f8ff;}#sk-container-id-3 div.sk-toggleable__content pre {margin: 0.2em;color: black;border-radius: 0.25em;background-color: #f0f8ff;}#sk-container-id-3 input.sk-toggleable__control:checked~div.sk-toggleable__content {max-height: 200px;max-width: 100%;overflow: auto;}#sk-container-id-3 input.sk-toggleable__control:checked~label.sk-toggleable__label-arrow:before {content: \"▾\";}#sk-container-id-3 div.sk-estimator input.sk-toggleable__control:checked~label.sk-toggleable__label {background-color: #d4ebff;}#sk-container-id-3 div.sk-label input.sk-toggleable__control:checked~label.sk-toggleable__label {background-color: #d4ebff;}#sk-container-id-3 input.sk-hidden--visually {border: 0;clip: rect(1px 1px 1px 1px);clip: rect(1px, 1px, 1px, 1px);height: 1px;margin: -1px;overflow: hidden;padding: 0;position: absolute;width: 1px;}#sk-container-id-3 div.sk-estimator {font-family: monospace;background-color: #f0f8ff;border: 1px dotted black;border-radius: 0.25em;box-sizing: border-box;margin-bottom: 0.5em;}#sk-container-id-3 div.sk-estimator:hover {background-color: #d4ebff;}#sk-container-id-3 div.sk-parallel-item::after {content: \"\";width: 100%;border-bottom: 1px solid gray;flex-grow: 1;}#sk-container-id-3 div.sk-label:hover label.sk-toggleable__label {background-color: #d4ebff;}#sk-container-id-3 div.sk-serial::before {content: \"\";position: absolute;border-left: 1px solid gray;box-sizing: border-box;top: 0;bottom: 0;left: 50%;z-index: 0;}#sk-container-id-3 div.sk-serial {display: flex;flex-direction: column;align-items: center;background-color: white;padding-right: 0.2em;padding-left: 0.2em;position: relative;}#sk-container-id-3 div.sk-item {position: relative;z-index: 1;}#sk-container-id-3 div.sk-parallel {display: flex;align-items: stretch;justify-content: center;background-color: white;position: relative;}#sk-container-id-3 div.sk-item::before, #sk-container-id-3 div.sk-parallel-item::before {content: \"\";position: absolute;border-left: 1px solid gray;box-sizing: border-box;top: 0;bottom: 0;left: 50%;z-index: -1;}#sk-container-id-3 div.sk-parallel-item {display: flex;flex-direction: column;z-index: 1;position: relative;background-color: white;}#sk-container-id-3 div.sk-parallel-item:first-child::after {align-self: flex-end;width: 50%;}#sk-container-id-3 div.sk-parallel-item:last-child::after {align-self: flex-start;width: 50%;}#sk-container-id-3 div.sk-parallel-item:only-child::after {width: 0;}#sk-container-id-3 div.sk-dashed-wrapped {border: 1px dashed gray;margin: 0 0.4em 0.5em 0.4em;box-sizing: border-box;padding-bottom: 0.4em;background-color: white;}#sk-container-id-3 div.sk-label label {font-family: monospace;font-weight: bold;display: inline-block;line-height: 1.2em;}#sk-container-id-3 div.sk-label-container {text-align: center;}#sk-container-id-3 div.sk-container {/* jupyter's `normalize.less` sets `[hidden] { display: none; }` but bootstrap.min.css set `[hidden] { display: none !important; }` so we also need the `!important` here to be able to override the default hidden behavior on the sphinx rendered scikit-learn.org. See: https://github.com/scikit-learn/scikit-learn/issues/21755 */display: inline-block !important;position: relative;}#sk-container-id-3 div.sk-text-repr-fallback {display: none;}</style><div id=\"sk-container-id-3\" class=\"sk-top-container\"><div class=\"sk-text-repr-fallback\"><pre>DecisionTreeClassifier(random_state=5)</pre><b>In a Jupyter environment, please rerun this cell to show the HTML representation or trust the notebook. <br />On GitHub, the HTML representation is unable to render, please try loading this page with nbviewer.org.</b></div><div class=\"sk-container\" hidden><div class=\"sk-item\"><div class=\"sk-estimator sk-toggleable\"><input class=\"sk-toggleable__control sk-hidden--visually\" id=\"sk-estimator-id-3\" type=\"checkbox\" checked><label for=\"sk-estimator-id-3\" class=\"sk-toggleable__label sk-toggleable__label-arrow\">DecisionTreeClassifier</label><div class=\"sk-toggleable__content\"><pre>DecisionTreeClassifier(random_state=5)</pre></div></div></div></div></div>"
      ],
      "text/plain": [
       "DecisionTreeClassifier(random_state=5)"
      ]
     },
     "execution_count": 35,
     "metadata": {},
     "output_type": "execute_result"
    }
   ],
   "source": [
    "dec_tree.fit(X_train, y_train)\n"
   ]
  },
  {
   "cell_type": "code",
   "execution_count": 36,
   "id": "48d7fcf0",
   "metadata": {},
   "outputs": [],
   "source": [
    "y_pred = dec_tree.predict(X_test)"
   ]
  },
  {
   "cell_type": "code",
   "execution_count": 37,
   "id": "780bffdd",
   "metadata": {},
   "outputs": [
    {
     "name": "stdout",
     "output_type": "stream",
     "text": [
      "The test accuracy score of Decision Tree is: 0.75850622406639\n"
     ]
    }
   ],
   "source": [
    "print(\"The test accuracy score of Decision Tree is:\", accuracy_score(y_test, y_pred))"
   ]
  },
  {
   "cell_type": "code",
   "execution_count": 38,
   "id": "3709cb0e",
   "metadata": {},
   "outputs": [
    {
     "name": "stdout",
     "output_type": "stream",
     "text": [
      "Cross-Validation Accuracy Scores 0.674688796680498\n"
     ]
    }
   ],
   "source": [
    "scores = cross_val_score(dec_tree, X_test, y_test, cv = 10)\n",
    "print(\"Cross-Validation Accuracy Scores\", scores.mean())"
   ]
  },
  {
   "cell_type": "markdown",
   "id": "bab979a6",
   "metadata": {},
   "source": [
    "## 5.3 SUPPORT VECTOR MACHINE"
   ]
  },
  {
   "cell_type": "code",
   "execution_count": 49,
   "id": "e81ad48d",
   "metadata": {},
   "outputs": [],
   "source": [
    "from sklearn.svm import SVC"
   ]
  },
  {
   "cell_type": "code",
   "execution_count": 40,
   "id": "5e128f6a",
   "metadata": {},
   "outputs": [],
   "source": [
    "svc_model = SVC(random_state = 5)"
   ]
  },
  {
   "cell_type": "code",
   "execution_count": 41,
   "id": "8e79ac0e",
   "metadata": {},
   "outputs": [
    {
     "data": {
      "text/html": [
       "<style>#sk-container-id-4 {color: black;}#sk-container-id-4 pre{padding: 0;}#sk-container-id-4 div.sk-toggleable {background-color: white;}#sk-container-id-4 label.sk-toggleable__label {cursor: pointer;display: block;width: 100%;margin-bottom: 0;padding: 0.3em;box-sizing: border-box;text-align: center;}#sk-container-id-4 label.sk-toggleable__label-arrow:before {content: \"▸\";float: left;margin-right: 0.25em;color: #696969;}#sk-container-id-4 label.sk-toggleable__label-arrow:hover:before {color: black;}#sk-container-id-4 div.sk-estimator:hover label.sk-toggleable__label-arrow:before {color: black;}#sk-container-id-4 div.sk-toggleable__content {max-height: 0;max-width: 0;overflow: hidden;text-align: left;background-color: #f0f8ff;}#sk-container-id-4 div.sk-toggleable__content pre {margin: 0.2em;color: black;border-radius: 0.25em;background-color: #f0f8ff;}#sk-container-id-4 input.sk-toggleable__control:checked~div.sk-toggleable__content {max-height: 200px;max-width: 100%;overflow: auto;}#sk-container-id-4 input.sk-toggleable__control:checked~label.sk-toggleable__label-arrow:before {content: \"▾\";}#sk-container-id-4 div.sk-estimator input.sk-toggleable__control:checked~label.sk-toggleable__label {background-color: #d4ebff;}#sk-container-id-4 div.sk-label input.sk-toggleable__control:checked~label.sk-toggleable__label {background-color: #d4ebff;}#sk-container-id-4 input.sk-hidden--visually {border: 0;clip: rect(1px 1px 1px 1px);clip: rect(1px, 1px, 1px, 1px);height: 1px;margin: -1px;overflow: hidden;padding: 0;position: absolute;width: 1px;}#sk-container-id-4 div.sk-estimator {font-family: monospace;background-color: #f0f8ff;border: 1px dotted black;border-radius: 0.25em;box-sizing: border-box;margin-bottom: 0.5em;}#sk-container-id-4 div.sk-estimator:hover {background-color: #d4ebff;}#sk-container-id-4 div.sk-parallel-item::after {content: \"\";width: 100%;border-bottom: 1px solid gray;flex-grow: 1;}#sk-container-id-4 div.sk-label:hover label.sk-toggleable__label {background-color: #d4ebff;}#sk-container-id-4 div.sk-serial::before {content: \"\";position: absolute;border-left: 1px solid gray;box-sizing: border-box;top: 0;bottom: 0;left: 50%;z-index: 0;}#sk-container-id-4 div.sk-serial {display: flex;flex-direction: column;align-items: center;background-color: white;padding-right: 0.2em;padding-left: 0.2em;position: relative;}#sk-container-id-4 div.sk-item {position: relative;z-index: 1;}#sk-container-id-4 div.sk-parallel {display: flex;align-items: stretch;justify-content: center;background-color: white;position: relative;}#sk-container-id-4 div.sk-item::before, #sk-container-id-4 div.sk-parallel-item::before {content: \"\";position: absolute;border-left: 1px solid gray;box-sizing: border-box;top: 0;bottom: 0;left: 50%;z-index: -1;}#sk-container-id-4 div.sk-parallel-item {display: flex;flex-direction: column;z-index: 1;position: relative;background-color: white;}#sk-container-id-4 div.sk-parallel-item:first-child::after {align-self: flex-end;width: 50%;}#sk-container-id-4 div.sk-parallel-item:last-child::after {align-self: flex-start;width: 50%;}#sk-container-id-4 div.sk-parallel-item:only-child::after {width: 0;}#sk-container-id-4 div.sk-dashed-wrapped {border: 1px dashed gray;margin: 0 0.4em 0.5em 0.4em;box-sizing: border-box;padding-bottom: 0.4em;background-color: white;}#sk-container-id-4 div.sk-label label {font-family: monospace;font-weight: bold;display: inline-block;line-height: 1.2em;}#sk-container-id-4 div.sk-label-container {text-align: center;}#sk-container-id-4 div.sk-container {/* jupyter's `normalize.less` sets `[hidden] { display: none; }` but bootstrap.min.css set `[hidden] { display: none !important; }` so we also need the `!important` here to be able to override the default hidden behavior on the sphinx rendered scikit-learn.org. See: https://github.com/scikit-learn/scikit-learn/issues/21755 */display: inline-block !important;position: relative;}#sk-container-id-4 div.sk-text-repr-fallback {display: none;}</style><div id=\"sk-container-id-4\" class=\"sk-top-container\"><div class=\"sk-text-repr-fallback\"><pre>SVC(random_state=5)</pre><b>In a Jupyter environment, please rerun this cell to show the HTML representation or trust the notebook. <br />On GitHub, the HTML representation is unable to render, please try loading this page with nbviewer.org.</b></div><div class=\"sk-container\" hidden><div class=\"sk-item\"><div class=\"sk-estimator sk-toggleable\"><input class=\"sk-toggleable__control sk-hidden--visually\" id=\"sk-estimator-id-4\" type=\"checkbox\" checked><label for=\"sk-estimator-id-4\" class=\"sk-toggleable__label sk-toggleable__label-arrow\">SVC</label><div class=\"sk-toggleable__content\"><pre>SVC(random_state=5)</pre></div></div></div></div></div>"
      ],
      "text/plain": [
       "SVC(random_state=5)"
      ]
     },
     "execution_count": 41,
     "metadata": {},
     "output_type": "execute_result"
    }
   ],
   "source": [
    "svc_model.fit(X_train, y_train)"
   ]
  },
  {
   "cell_type": "code",
   "execution_count": 42,
   "id": "01d9d22e",
   "metadata": {},
   "outputs": [],
   "source": [
    "y_pred = svc_model.predict(X_test)"
   ]
  },
  {
   "cell_type": "code",
   "execution_count": 43,
   "id": "6d2e1c02",
   "metadata": {},
   "outputs": [
    {
     "name": "stdout",
     "output_type": "stream",
     "text": [
      "The test accuracy score of SVM is: 0.8049792531120332\n"
     ]
    }
   ],
   "source": [
    "print(\"The test accuracy score of SVM is:\", accuracy_score(y_test, y_pred))"
   ]
  },
  {
   "cell_type": "code",
   "execution_count": 44,
   "id": "d3956782",
   "metadata": {},
   "outputs": [
    {
     "name": "stdout",
     "output_type": "stream",
     "text": [
      "Cross-Validation Accuracy Scores 0.8049792531120332\n"
     ]
    }
   ],
   "source": [
    "scores = cross_val_score(svc_model, X_test, y_test, cv = 10)\n",
    "print(\"Cross-Validation Accuracy Scores\", scores.mean())"
   ]
  },
  {
   "cell_type": "markdown",
   "id": "a3aea51d",
   "metadata": {},
   "source": [
    "## 5.4. RANDOM FOREST"
   ]
  },
  {
   "cell_type": "code",
   "execution_count": 45,
   "id": "d5d0831d",
   "metadata": {},
   "outputs": [],
   "source": [
    "from sklearn.ensemble import RandomForestClassifier"
   ]
  },
  {
   "cell_type": "code",
   "execution_count": 46,
   "id": "310d57f1",
   "metadata": {},
   "outputs": [],
   "source": [
    "random_forest = RandomForestClassifier(random_state = 5)\n"
   ]
  },
  {
   "cell_type": "code",
   "execution_count": 47,
   "id": "ae600b21",
   "metadata": {},
   "outputs": [
    {
     "data": {
      "text/html": [
       "<style>#sk-container-id-5 {color: black;}#sk-container-id-5 pre{padding: 0;}#sk-container-id-5 div.sk-toggleable {background-color: white;}#sk-container-id-5 label.sk-toggleable__label {cursor: pointer;display: block;width: 100%;margin-bottom: 0;padding: 0.3em;box-sizing: border-box;text-align: center;}#sk-container-id-5 label.sk-toggleable__label-arrow:before {content: \"▸\";float: left;margin-right: 0.25em;color: #696969;}#sk-container-id-5 label.sk-toggleable__label-arrow:hover:before {color: black;}#sk-container-id-5 div.sk-estimator:hover label.sk-toggleable__label-arrow:before {color: black;}#sk-container-id-5 div.sk-toggleable__content {max-height: 0;max-width: 0;overflow: hidden;text-align: left;background-color: #f0f8ff;}#sk-container-id-5 div.sk-toggleable__content pre {margin: 0.2em;color: black;border-radius: 0.25em;background-color: #f0f8ff;}#sk-container-id-5 input.sk-toggleable__control:checked~div.sk-toggleable__content {max-height: 200px;max-width: 100%;overflow: auto;}#sk-container-id-5 input.sk-toggleable__control:checked~label.sk-toggleable__label-arrow:before {content: \"▾\";}#sk-container-id-5 div.sk-estimator input.sk-toggleable__control:checked~label.sk-toggleable__label {background-color: #d4ebff;}#sk-container-id-5 div.sk-label input.sk-toggleable__control:checked~label.sk-toggleable__label {background-color: #d4ebff;}#sk-container-id-5 input.sk-hidden--visually {border: 0;clip: rect(1px 1px 1px 1px);clip: rect(1px, 1px, 1px, 1px);height: 1px;margin: -1px;overflow: hidden;padding: 0;position: absolute;width: 1px;}#sk-container-id-5 div.sk-estimator {font-family: monospace;background-color: #f0f8ff;border: 1px dotted black;border-radius: 0.25em;box-sizing: border-box;margin-bottom: 0.5em;}#sk-container-id-5 div.sk-estimator:hover {background-color: #d4ebff;}#sk-container-id-5 div.sk-parallel-item::after {content: \"\";width: 100%;border-bottom: 1px solid gray;flex-grow: 1;}#sk-container-id-5 div.sk-label:hover label.sk-toggleable__label {background-color: #d4ebff;}#sk-container-id-5 div.sk-serial::before {content: \"\";position: absolute;border-left: 1px solid gray;box-sizing: border-box;top: 0;bottom: 0;left: 50%;z-index: 0;}#sk-container-id-5 div.sk-serial {display: flex;flex-direction: column;align-items: center;background-color: white;padding-right: 0.2em;padding-left: 0.2em;position: relative;}#sk-container-id-5 div.sk-item {position: relative;z-index: 1;}#sk-container-id-5 div.sk-parallel {display: flex;align-items: stretch;justify-content: center;background-color: white;position: relative;}#sk-container-id-5 div.sk-item::before, #sk-container-id-5 div.sk-parallel-item::before {content: \"\";position: absolute;border-left: 1px solid gray;box-sizing: border-box;top: 0;bottom: 0;left: 50%;z-index: -1;}#sk-container-id-5 div.sk-parallel-item {display: flex;flex-direction: column;z-index: 1;position: relative;background-color: white;}#sk-container-id-5 div.sk-parallel-item:first-child::after {align-self: flex-end;width: 50%;}#sk-container-id-5 div.sk-parallel-item:last-child::after {align-self: flex-start;width: 50%;}#sk-container-id-5 div.sk-parallel-item:only-child::after {width: 0;}#sk-container-id-5 div.sk-dashed-wrapped {border: 1px dashed gray;margin: 0 0.4em 0.5em 0.4em;box-sizing: border-box;padding-bottom: 0.4em;background-color: white;}#sk-container-id-5 div.sk-label label {font-family: monospace;font-weight: bold;display: inline-block;line-height: 1.2em;}#sk-container-id-5 div.sk-label-container {text-align: center;}#sk-container-id-5 div.sk-container {/* jupyter's `normalize.less` sets `[hidden] { display: none; }` but bootstrap.min.css set `[hidden] { display: none !important; }` so we also need the `!important` here to be able to override the default hidden behavior on the sphinx rendered scikit-learn.org. See: https://github.com/scikit-learn/scikit-learn/issues/21755 */display: inline-block !important;position: relative;}#sk-container-id-5 div.sk-text-repr-fallback {display: none;}</style><div id=\"sk-container-id-5\" class=\"sk-top-container\"><div class=\"sk-text-repr-fallback\"><pre>RandomForestClassifier(random_state=5)</pre><b>In a Jupyter environment, please rerun this cell to show the HTML representation or trust the notebook. <br />On GitHub, the HTML representation is unable to render, please try loading this page with nbviewer.org.</b></div><div class=\"sk-container\" hidden><div class=\"sk-item\"><div class=\"sk-estimator sk-toggleable\"><input class=\"sk-toggleable__control sk-hidden--visually\" id=\"sk-estimator-id-5\" type=\"checkbox\" checked><label for=\"sk-estimator-id-5\" class=\"sk-toggleable__label sk-toggleable__label-arrow\">RandomForestClassifier</label><div class=\"sk-toggleable__content\"><pre>RandomForestClassifier(random_state=5)</pre></div></div></div></div></div>"
      ],
      "text/plain": [
       "RandomForestClassifier(random_state=5)"
      ]
     },
     "execution_count": 47,
     "metadata": {},
     "output_type": "execute_result"
    }
   ],
   "source": [
    "random_forest.fit(X_train, y_train)\n"
   ]
  },
  {
   "cell_type": "code",
   "execution_count": 48,
   "id": "c6438397",
   "metadata": {},
   "outputs": [],
   "source": [
    "y_pred = random_forest.predict(X_test)\n"
   ]
  },
  {
   "cell_type": "code",
   "execution_count": 49,
   "id": "6314421f",
   "metadata": {},
   "outputs": [
    {
     "name": "stdout",
     "output_type": "stream",
     "text": [
      "The test accuracy score of Random Forest is 0.7531120331950207\n"
     ]
    }
   ],
   "source": [
    "print(\"The test accuracy score of Random Forest is\", accuracy_score(y_test, y_pred))"
   ]
  },
  {
   "cell_type": "markdown",
   "id": "b8907ae2",
   "metadata": {},
   "source": [
    "We will try to optimize the hyperparameters of random forest to improve the accuracy."
   ]
  },
  {
   "cell_type": "code",
   "execution_count": 50,
   "id": "6f1cce43",
   "metadata": {},
   "outputs": [
    {
     "data": {
      "text/html": [
       "<style>#sk-container-id-6 {color: black;}#sk-container-id-6 pre{padding: 0;}#sk-container-id-6 div.sk-toggleable {background-color: white;}#sk-container-id-6 label.sk-toggleable__label {cursor: pointer;display: block;width: 100%;margin-bottom: 0;padding: 0.3em;box-sizing: border-box;text-align: center;}#sk-container-id-6 label.sk-toggleable__label-arrow:before {content: \"▸\";float: left;margin-right: 0.25em;color: #696969;}#sk-container-id-6 label.sk-toggleable__label-arrow:hover:before {color: black;}#sk-container-id-6 div.sk-estimator:hover label.sk-toggleable__label-arrow:before {color: black;}#sk-container-id-6 div.sk-toggleable__content {max-height: 0;max-width: 0;overflow: hidden;text-align: left;background-color: #f0f8ff;}#sk-container-id-6 div.sk-toggleable__content pre {margin: 0.2em;color: black;border-radius: 0.25em;background-color: #f0f8ff;}#sk-container-id-6 input.sk-toggleable__control:checked~div.sk-toggleable__content {max-height: 200px;max-width: 100%;overflow: auto;}#sk-container-id-6 input.sk-toggleable__control:checked~label.sk-toggleable__label-arrow:before {content: \"▾\";}#sk-container-id-6 div.sk-estimator input.sk-toggleable__control:checked~label.sk-toggleable__label {background-color: #d4ebff;}#sk-container-id-6 div.sk-label input.sk-toggleable__control:checked~label.sk-toggleable__label {background-color: #d4ebff;}#sk-container-id-6 input.sk-hidden--visually {border: 0;clip: rect(1px 1px 1px 1px);clip: rect(1px, 1px, 1px, 1px);height: 1px;margin: -1px;overflow: hidden;padding: 0;position: absolute;width: 1px;}#sk-container-id-6 div.sk-estimator {font-family: monospace;background-color: #f0f8ff;border: 1px dotted black;border-radius: 0.25em;box-sizing: border-box;margin-bottom: 0.5em;}#sk-container-id-6 div.sk-estimator:hover {background-color: #d4ebff;}#sk-container-id-6 div.sk-parallel-item::after {content: \"\";width: 100%;border-bottom: 1px solid gray;flex-grow: 1;}#sk-container-id-6 div.sk-label:hover label.sk-toggleable__label {background-color: #d4ebff;}#sk-container-id-6 div.sk-serial::before {content: \"\";position: absolute;border-left: 1px solid gray;box-sizing: border-box;top: 0;bottom: 0;left: 50%;z-index: 0;}#sk-container-id-6 div.sk-serial {display: flex;flex-direction: column;align-items: center;background-color: white;padding-right: 0.2em;padding-left: 0.2em;position: relative;}#sk-container-id-6 div.sk-item {position: relative;z-index: 1;}#sk-container-id-6 div.sk-parallel {display: flex;align-items: stretch;justify-content: center;background-color: white;position: relative;}#sk-container-id-6 div.sk-item::before, #sk-container-id-6 div.sk-parallel-item::before {content: \"\";position: absolute;border-left: 1px solid gray;box-sizing: border-box;top: 0;bottom: 0;left: 50%;z-index: -1;}#sk-container-id-6 div.sk-parallel-item {display: flex;flex-direction: column;z-index: 1;position: relative;background-color: white;}#sk-container-id-6 div.sk-parallel-item:first-child::after {align-self: flex-end;width: 50%;}#sk-container-id-6 div.sk-parallel-item:last-child::after {align-self: flex-start;width: 50%;}#sk-container-id-6 div.sk-parallel-item:only-child::after {width: 0;}#sk-container-id-6 div.sk-dashed-wrapped {border: 1px dashed gray;margin: 0 0.4em 0.5em 0.4em;box-sizing: border-box;padding-bottom: 0.4em;background-color: white;}#sk-container-id-6 div.sk-label label {font-family: monospace;font-weight: bold;display: inline-block;line-height: 1.2em;}#sk-container-id-6 div.sk-label-container {text-align: center;}#sk-container-id-6 div.sk-container {/* jupyter's `normalize.less` sets `[hidden] { display: none; }` but bootstrap.min.css set `[hidden] { display: none !important; }` so we also need the `!important` here to be able to override the default hidden behavior on the sphinx rendered scikit-learn.org. See: https://github.com/scikit-learn/scikit-learn/issues/21755 */display: inline-block !important;position: relative;}#sk-container-id-6 div.sk-text-repr-fallback {display: none;}</style><div id=\"sk-container-id-6\" class=\"sk-top-container\"><div class=\"sk-text-repr-fallback\"><pre>RandomForestClassifier(random_state=5)</pre><b>In a Jupyter environment, please rerun this cell to show the HTML representation or trust the notebook. <br />On GitHub, the HTML representation is unable to render, please try loading this page with nbviewer.org.</b></div><div class=\"sk-container\" hidden><div class=\"sk-item\"><div class=\"sk-estimator sk-toggleable\"><input class=\"sk-toggleable__control sk-hidden--visually\" id=\"sk-estimator-id-6\" type=\"checkbox\" checked><label for=\"sk-estimator-id-6\" class=\"sk-toggleable__label sk-toggleable__label-arrow\">RandomForestClassifier</label><div class=\"sk-toggleable__content\"><pre>RandomForestClassifier(random_state=5)</pre></div></div></div></div></div>"
      ],
      "text/plain": [
       "RandomForestClassifier(random_state=5)"
      ]
     },
     "execution_count": 50,
     "metadata": {},
     "output_type": "execute_result"
    }
   ],
   "source": [
    "random_forest_new = RandomForestClassifier(random_state = 5)\n",
    "random_forest_new"
   ]
  },
  {
   "cell_type": "code",
   "execution_count": 51,
   "id": "5c6f6f09",
   "metadata": {},
   "outputs": [],
   "source": [
    "# n_estimators: number of trees\n",
    "#criterion: measures the quality in splitting the tree\n",
    "#max_features\n",
    "\n",
    "parameters = {\"n_estimators\" : [50, 100, 150, 200], \n",
    "              \"criterion\" : [\"gini\", \"entropy\"], \n",
    "              'max_features': ['auto', 'sqrt', 'log2'], \n",
    "              'bootstrap': [True, False]}\n"
   ]
  },
  {
   "cell_type": "code",
   "execution_count": 54,
   "id": "b5ec3b80",
   "metadata": {},
   "outputs": [],
   "source": [
    "from sklearn.model_selection import GridSearchCV\n",
    "random_forest_grid = GridSearchCV(random_forest_new, param_grid = parameters)"
   ]
  },
  {
   "cell_type": "code",
   "execution_count": 55,
   "id": "8b7cc169",
   "metadata": {},
   "outputs": [
    {
     "data": {
      "text/html": [
       "<style>#sk-container-id-7 {color: black;}#sk-container-id-7 pre{padding: 0;}#sk-container-id-7 div.sk-toggleable {background-color: white;}#sk-container-id-7 label.sk-toggleable__label {cursor: pointer;display: block;width: 100%;margin-bottom: 0;padding: 0.3em;box-sizing: border-box;text-align: center;}#sk-container-id-7 label.sk-toggleable__label-arrow:before {content: \"▸\";float: left;margin-right: 0.25em;color: #696969;}#sk-container-id-7 label.sk-toggleable__label-arrow:hover:before {color: black;}#sk-container-id-7 div.sk-estimator:hover label.sk-toggleable__label-arrow:before {color: black;}#sk-container-id-7 div.sk-toggleable__content {max-height: 0;max-width: 0;overflow: hidden;text-align: left;background-color: #f0f8ff;}#sk-container-id-7 div.sk-toggleable__content pre {margin: 0.2em;color: black;border-radius: 0.25em;background-color: #f0f8ff;}#sk-container-id-7 input.sk-toggleable__control:checked~div.sk-toggleable__content {max-height: 200px;max-width: 100%;overflow: auto;}#sk-container-id-7 input.sk-toggleable__control:checked~label.sk-toggleable__label-arrow:before {content: \"▾\";}#sk-container-id-7 div.sk-estimator input.sk-toggleable__control:checked~label.sk-toggleable__label {background-color: #d4ebff;}#sk-container-id-7 div.sk-label input.sk-toggleable__control:checked~label.sk-toggleable__label {background-color: #d4ebff;}#sk-container-id-7 input.sk-hidden--visually {border: 0;clip: rect(1px 1px 1px 1px);clip: rect(1px, 1px, 1px, 1px);height: 1px;margin: -1px;overflow: hidden;padding: 0;position: absolute;width: 1px;}#sk-container-id-7 div.sk-estimator {font-family: monospace;background-color: #f0f8ff;border: 1px dotted black;border-radius: 0.25em;box-sizing: border-box;margin-bottom: 0.5em;}#sk-container-id-7 div.sk-estimator:hover {background-color: #d4ebff;}#sk-container-id-7 div.sk-parallel-item::after {content: \"\";width: 100%;border-bottom: 1px solid gray;flex-grow: 1;}#sk-container-id-7 div.sk-label:hover label.sk-toggleable__label {background-color: #d4ebff;}#sk-container-id-7 div.sk-serial::before {content: \"\";position: absolute;border-left: 1px solid gray;box-sizing: border-box;top: 0;bottom: 0;left: 50%;z-index: 0;}#sk-container-id-7 div.sk-serial {display: flex;flex-direction: column;align-items: center;background-color: white;padding-right: 0.2em;padding-left: 0.2em;position: relative;}#sk-container-id-7 div.sk-item {position: relative;z-index: 1;}#sk-container-id-7 div.sk-parallel {display: flex;align-items: stretch;justify-content: center;background-color: white;position: relative;}#sk-container-id-7 div.sk-item::before, #sk-container-id-7 div.sk-parallel-item::before {content: \"\";position: absolute;border-left: 1px solid gray;box-sizing: border-box;top: 0;bottom: 0;left: 50%;z-index: -1;}#sk-container-id-7 div.sk-parallel-item {display: flex;flex-direction: column;z-index: 1;position: relative;background-color: white;}#sk-container-id-7 div.sk-parallel-item:first-child::after {align-self: flex-end;width: 50%;}#sk-container-id-7 div.sk-parallel-item:last-child::after {align-self: flex-start;width: 50%;}#sk-container-id-7 div.sk-parallel-item:only-child::after {width: 0;}#sk-container-id-7 div.sk-dashed-wrapped {border: 1px dashed gray;margin: 0 0.4em 0.5em 0.4em;box-sizing: border-box;padding-bottom: 0.4em;background-color: white;}#sk-container-id-7 div.sk-label label {font-family: monospace;font-weight: bold;display: inline-block;line-height: 1.2em;}#sk-container-id-7 div.sk-label-container {text-align: center;}#sk-container-id-7 div.sk-container {/* jupyter's `normalize.less` sets `[hidden] { display: none; }` but bootstrap.min.css set `[hidden] { display: none !important; }` so we also need the `!important` here to be able to override the default hidden behavior on the sphinx rendered scikit-learn.org. See: https://github.com/scikit-learn/scikit-learn/issues/21755 */display: inline-block !important;position: relative;}#sk-container-id-7 div.sk-text-repr-fallback {display: none;}</style><div id=\"sk-container-id-7\" class=\"sk-top-container\"><div class=\"sk-text-repr-fallback\"><pre>GridSearchCV(estimator=RandomForestClassifier(random_state=5),\n",
       "             param_grid={&#x27;bootstrap&#x27;: [True, False],\n",
       "                         &#x27;criterion&#x27;: [&#x27;gini&#x27;, &#x27;entropy&#x27;],\n",
       "                         &#x27;max_features&#x27;: [&#x27;auto&#x27;, &#x27;sqrt&#x27;, &#x27;log2&#x27;],\n",
       "                         &#x27;n_estimators&#x27;: [50, 100, 150, 200]})</pre><b>In a Jupyter environment, please rerun this cell to show the HTML representation or trust the notebook. <br />On GitHub, the HTML representation is unable to render, please try loading this page with nbviewer.org.</b></div><div class=\"sk-container\" hidden><div class=\"sk-item sk-dashed-wrapped\"><div class=\"sk-label-container\"><div class=\"sk-label sk-toggleable\"><input class=\"sk-toggleable__control sk-hidden--visually\" id=\"sk-estimator-id-7\" type=\"checkbox\" ><label for=\"sk-estimator-id-7\" class=\"sk-toggleable__label sk-toggleable__label-arrow\">GridSearchCV</label><div class=\"sk-toggleable__content\"><pre>GridSearchCV(estimator=RandomForestClassifier(random_state=5),\n",
       "             param_grid={&#x27;bootstrap&#x27;: [True, False],\n",
       "                         &#x27;criterion&#x27;: [&#x27;gini&#x27;, &#x27;entropy&#x27;],\n",
       "                         &#x27;max_features&#x27;: [&#x27;auto&#x27;, &#x27;sqrt&#x27;, &#x27;log2&#x27;],\n",
       "                         &#x27;n_estimators&#x27;: [50, 100, 150, 200]})</pre></div></div></div><div class=\"sk-parallel\"><div class=\"sk-parallel-item\"><div class=\"sk-item\"><div class=\"sk-label-container\"><div class=\"sk-label sk-toggleable\"><input class=\"sk-toggleable__control sk-hidden--visually\" id=\"sk-estimator-id-8\" type=\"checkbox\" ><label for=\"sk-estimator-id-8\" class=\"sk-toggleable__label sk-toggleable__label-arrow\">estimator: RandomForestClassifier</label><div class=\"sk-toggleable__content\"><pre>RandomForestClassifier(random_state=5)</pre></div></div></div><div class=\"sk-serial\"><div class=\"sk-item\"><div class=\"sk-estimator sk-toggleable\"><input class=\"sk-toggleable__control sk-hidden--visually\" id=\"sk-estimator-id-9\" type=\"checkbox\" ><label for=\"sk-estimator-id-9\" class=\"sk-toggleable__label sk-toggleable__label-arrow\">RandomForestClassifier</label><div class=\"sk-toggleable__content\"><pre>RandomForestClassifier(random_state=5)</pre></div></div></div></div></div></div></div></div></div></div>"
      ],
      "text/plain": [
       "GridSearchCV(estimator=RandomForestClassifier(random_state=5),\n",
       "             param_grid={'bootstrap': [True, False],\n",
       "                         'criterion': ['gini', 'entropy'],\n",
       "                         'max_features': ['auto', 'sqrt', 'log2'],\n",
       "                         'n_estimators': [50, 100, 150, 200]})"
      ]
     },
     "execution_count": 55,
     "metadata": {},
     "output_type": "execute_result"
    }
   ],
   "source": [
    "random_forest_grid.fit(X_train, y_train)"
   ]
  },
  {
   "cell_type": "code",
   "execution_count": 56,
   "id": "24e2247e",
   "metadata": {},
   "outputs": [
    {
     "name": "stdout",
     "output_type": "stream",
     "text": [
      "Best Parameters: {'bootstrap': True, 'criterion': 'entropy', 'max_features': 'log2', 'n_estimators': 200}\n"
     ]
    }
   ],
   "source": [
    "print(\"Best Parameters:\", random_forest_grid.best_params_)\n"
   ]
  },
  {
   "cell_type": "code",
   "execution_count": 57,
   "id": "d9f118e8",
   "metadata": {},
   "outputs": [],
   "source": [
    "random_forest_new2 = RandomForestClassifier(bootstrap = True, criterion = \"entropy\", max_features = \"log2\", n_estimators = 200, random_state = 5)"
   ]
  },
  {
   "cell_type": "code",
   "execution_count": 58,
   "id": "4ea5f0a8",
   "metadata": {},
   "outputs": [
    {
     "data": {
      "text/html": [
       "<style>#sk-container-id-8 {color: black;}#sk-container-id-8 pre{padding: 0;}#sk-container-id-8 div.sk-toggleable {background-color: white;}#sk-container-id-8 label.sk-toggleable__label {cursor: pointer;display: block;width: 100%;margin-bottom: 0;padding: 0.3em;box-sizing: border-box;text-align: center;}#sk-container-id-8 label.sk-toggleable__label-arrow:before {content: \"▸\";float: left;margin-right: 0.25em;color: #696969;}#sk-container-id-8 label.sk-toggleable__label-arrow:hover:before {color: black;}#sk-container-id-8 div.sk-estimator:hover label.sk-toggleable__label-arrow:before {color: black;}#sk-container-id-8 div.sk-toggleable__content {max-height: 0;max-width: 0;overflow: hidden;text-align: left;background-color: #f0f8ff;}#sk-container-id-8 div.sk-toggleable__content pre {margin: 0.2em;color: black;border-radius: 0.25em;background-color: #f0f8ff;}#sk-container-id-8 input.sk-toggleable__control:checked~div.sk-toggleable__content {max-height: 200px;max-width: 100%;overflow: auto;}#sk-container-id-8 input.sk-toggleable__control:checked~label.sk-toggleable__label-arrow:before {content: \"▾\";}#sk-container-id-8 div.sk-estimator input.sk-toggleable__control:checked~label.sk-toggleable__label {background-color: #d4ebff;}#sk-container-id-8 div.sk-label input.sk-toggleable__control:checked~label.sk-toggleable__label {background-color: #d4ebff;}#sk-container-id-8 input.sk-hidden--visually {border: 0;clip: rect(1px 1px 1px 1px);clip: rect(1px, 1px, 1px, 1px);height: 1px;margin: -1px;overflow: hidden;padding: 0;position: absolute;width: 1px;}#sk-container-id-8 div.sk-estimator {font-family: monospace;background-color: #f0f8ff;border: 1px dotted black;border-radius: 0.25em;box-sizing: border-box;margin-bottom: 0.5em;}#sk-container-id-8 div.sk-estimator:hover {background-color: #d4ebff;}#sk-container-id-8 div.sk-parallel-item::after {content: \"\";width: 100%;border-bottom: 1px solid gray;flex-grow: 1;}#sk-container-id-8 div.sk-label:hover label.sk-toggleable__label {background-color: #d4ebff;}#sk-container-id-8 div.sk-serial::before {content: \"\";position: absolute;border-left: 1px solid gray;box-sizing: border-box;top: 0;bottom: 0;left: 50%;z-index: 0;}#sk-container-id-8 div.sk-serial {display: flex;flex-direction: column;align-items: center;background-color: white;padding-right: 0.2em;padding-left: 0.2em;position: relative;}#sk-container-id-8 div.sk-item {position: relative;z-index: 1;}#sk-container-id-8 div.sk-parallel {display: flex;align-items: stretch;justify-content: center;background-color: white;position: relative;}#sk-container-id-8 div.sk-item::before, #sk-container-id-8 div.sk-parallel-item::before {content: \"\";position: absolute;border-left: 1px solid gray;box-sizing: border-box;top: 0;bottom: 0;left: 50%;z-index: -1;}#sk-container-id-8 div.sk-parallel-item {display: flex;flex-direction: column;z-index: 1;position: relative;background-color: white;}#sk-container-id-8 div.sk-parallel-item:first-child::after {align-self: flex-end;width: 50%;}#sk-container-id-8 div.sk-parallel-item:last-child::after {align-self: flex-start;width: 50%;}#sk-container-id-8 div.sk-parallel-item:only-child::after {width: 0;}#sk-container-id-8 div.sk-dashed-wrapped {border: 1px dashed gray;margin: 0 0.4em 0.5em 0.4em;box-sizing: border-box;padding-bottom: 0.4em;background-color: white;}#sk-container-id-8 div.sk-label label {font-family: monospace;font-weight: bold;display: inline-block;line-height: 1.2em;}#sk-container-id-8 div.sk-label-container {text-align: center;}#sk-container-id-8 div.sk-container {/* jupyter's `normalize.less` sets `[hidden] { display: none; }` but bootstrap.min.css set `[hidden] { display: none !important; }` so we also need the `!important` here to be able to override the default hidden behavior on the sphinx rendered scikit-learn.org. See: https://github.com/scikit-learn/scikit-learn/issues/21755 */display: inline-block !important;position: relative;}#sk-container-id-8 div.sk-text-repr-fallback {display: none;}</style><div id=\"sk-container-id-8\" class=\"sk-top-container\"><div class=\"sk-text-repr-fallback\"><pre>RandomForestClassifier(criterion=&#x27;entropy&#x27;, max_features=&#x27;log2&#x27;,\n",
       "                       n_estimators=200, random_state=5)</pre><b>In a Jupyter environment, please rerun this cell to show the HTML representation or trust the notebook. <br />On GitHub, the HTML representation is unable to render, please try loading this page with nbviewer.org.</b></div><div class=\"sk-container\" hidden><div class=\"sk-item\"><div class=\"sk-estimator sk-toggleable\"><input class=\"sk-toggleable__control sk-hidden--visually\" id=\"sk-estimator-id-10\" type=\"checkbox\" checked><label for=\"sk-estimator-id-10\" class=\"sk-toggleable__label sk-toggleable__label-arrow\">RandomForestClassifier</label><div class=\"sk-toggleable__content\"><pre>RandomForestClassifier(criterion=&#x27;entropy&#x27;, max_features=&#x27;log2&#x27;,\n",
       "                       n_estimators=200, random_state=5)</pre></div></div></div></div></div>"
      ],
      "text/plain": [
       "RandomForestClassifier(criterion='entropy', max_features='log2',\n",
       "                       n_estimators=200, random_state=5)"
      ]
     },
     "execution_count": 58,
     "metadata": {},
     "output_type": "execute_result"
    }
   ],
   "source": [
    "random_forest_new2.fit(X_train, y_train)"
   ]
  },
  {
   "cell_type": "code",
   "execution_count": 59,
   "id": "88640a0f",
   "metadata": {},
   "outputs": [],
   "source": [
    "y_pred = random_forest_new2.predict(X_test)"
   ]
  },
  {
   "cell_type": "code",
   "execution_count": 60,
   "id": "d82cf01b",
   "metadata": {},
   "outputs": [
    {
     "name": "stdout",
     "output_type": "stream",
     "text": [
      "The test accuracy score of Random Forest after hyper-parameter tuning is: 0.7680497925311204\n"
     ]
    }
   ],
   "source": [
    "print(\"The test accuracy score of Random Forest after hyper-parameter tuning is:\", accuracy_score(y_test, y_pred))"
   ]
  },
  {
   "cell_type": "markdown",
   "id": "6b5f1104",
   "metadata": {},
   "source": [
    "# 6. CONCLUSION"
   ]
  },
  {
   "cell_type": "markdown",
   "id": "07d80edf",
   "metadata": {},
   "source": [
    "The best resuts have been otained using the logistic regression (Test Accuracy: 0.8049). The cross-validation indicates that there is no overfitting of the data. Overall, we have achieved a pretty decent model and from now on we will be able to predict the delay of a flight thanks to this model. "
   ]
  }
 ],
 "metadata": {
  "kernelspec": {
   "display_name": "Python 3 (ipykernel)",
   "language": "python",
   "name": "python3"
  },
  "language_info": {
   "codemirror_mode": {
    "name": "ipython",
    "version": 3
   },
   "file_extension": ".py",
   "mimetype": "text/x-python",
   "name": "python",
   "nbconvert_exporter": "python",
   "pygments_lexer": "ipython3",
   "version": "3.10.11"
  }
 },
 "nbformat": 4,
 "nbformat_minor": 5
}
