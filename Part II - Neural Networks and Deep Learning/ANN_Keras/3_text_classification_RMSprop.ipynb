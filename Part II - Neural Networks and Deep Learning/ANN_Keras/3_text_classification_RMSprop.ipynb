{
  "cells": [
    {
      "cell_type": "markdown",
      "metadata": {
        "id": "9IwAJa8fvGL6"
      },
      "source": [
        "# Optimizing function 3: RMSprop"
      ]
    },
    {
      "cell_type": "markdown",
      "metadata": {
        "id": "hCqOaGgtvGL7"
      },
      "source": [
        "## Dataset"
      ]
    },
    {
      "cell_type": "markdown",
      "metadata": {
        "id": "hPLD88imvGL8"
      },
      "source": [
        "This is a data set of 11,228 Reuters news stories, tagged into 46 topics. There are 46 theme categories into which a story can be categorized into (so it's not a binary classification).\n",
        "\n",
        "Each news item is encoded as a list of word indexes (integers). For convenience, words are indexed by overall frequency in the data set, so that, for example, the integer \"3\" encodes the third most frequent word in the data. This allows quick filtering operations such as: \"consider only the 10,000 most common words, but eliminate the 20 most common words.\" Note: Here, it has been used the same dataset as a previous example. For more insights on the dataset and the processing steps, please take a look at the following notbook that is in the same folder: Text_classification(mini-Batch Gradient Descent).ipynb"
      ]
    },
    {
      "cell_type": "markdown",
      "metadata": {
        "id": "S5TCFoGhvGL8"
      },
      "source": [
        "## Loading dataset"
      ]
    },
    {
      "cell_type": "code",
      "execution_count": null,
      "metadata": {
        "id": "e4UFJiAmvGL8"
      },
      "outputs": [],
      "source": [
        "from tensorflow.keras.datasets import reuters"
      ]
    },
    {
      "cell_type": "code",
      "execution_count": null,
      "metadata": {
        "colab": {
          "base_uri": "https://localhost:8080/"
        },
        "id": "2h6CqDB9vGL9",
        "outputId": "ecbff6f6-b403-4aa3-c346-9d776c9769fc"
      },
      "outputs": [
        {
          "output_type": "stream",
          "name": "stdout",
          "text": [
            "Downloading data from https://storage.googleapis.com/tensorflow/tf-keras-datasets/reuters.npz\n",
            "2110848/2110848 [==============================] - 0s 0us/step\n"
          ]
        }
      ],
      "source": [
        "(train_data, train_labels), (test_data, test_labels) = reuters.load_data(num_words=10000)"
      ]
    },
    {
      "cell_type": "code",
      "execution_count": null,
      "metadata": {
        "colab": {
          "base_uri": "https://localhost:8080/"
        },
        "id": "abtrDgN4vGL9",
        "outputId": "6a534c58-cbfc-43fa-b75d-d0ca56029d9e"
      },
      "outputs": [
        {
          "output_type": "stream",
          "name": "stdout",
          "text": [
            "Trainning data: 8982\n",
            "Testing data: 2246\n"
          ]
        }
      ],
      "source": [
        "print(\"Trainning data:\", len(train_data))\n",
        "print(\"Testing data:\", len(test_data))"
      ]
    },
    {
      "cell_type": "code",
      "execution_count": null,
      "metadata": {
        "colab": {
          "base_uri": "https://localhost:8080/"
        },
        "id": "lT9oDVK3vGL-",
        "outputId": "22c7bf67-a2a1-4d1f-9df6-f7dbb87a2d68"
      },
      "outputs": [
        {
          "output_type": "stream",
          "name": "stdout",
          "text": [
            "[1, 2, 2, 8, 43, 10, 447, 5, 25, 207, 270, 5, 3095, 111, 16, 369, 186, 90, 67, 7, 89, 5, 19, 102, 6, 19, 124, 15, 90, 67, 84, 22, 482, 26, 7, 48, 4, 49, 8, 864, 39, 209, 154, 6, 151, 6, 83, 11, 15, 22, 155, 11, 15, 7, 48, 9, 4579, 1005, 504, 6, 258, 6, 272, 11, 15, 22, 134, 44, 11, 15, 16, 8, 197, 1245, 90, 67, 52, 29, 209, 30, 32, 132, 6, 109, 15, 17, 12]\n"
          ]
        }
      ],
      "source": [
        "print(train_data[0])"
      ]
    },
    {
      "cell_type": "code",
      "source": [
        "word_index = reuters.get_word_index()\n"
      ],
      "metadata": {
        "colab": {
          "base_uri": "https://localhost:8080/"
        },
        "id": "KzB8yYm1v42b",
        "outputId": "1f00270e-8e64-45ba-a80f-08a49601cd82"
      },
      "execution_count": null,
      "outputs": [
        {
          "output_type": "stream",
          "name": "stdout",
          "text": [
            "Downloading data from https://storage.googleapis.com/tensorflow/tf-keras-datasets/reuters_word_index.json\n",
            "550378/550378 [==============================] - 0s 0us/step\n"
          ]
        }
      ]
    },
    {
      "cell_type": "code",
      "execution_count": null,
      "metadata": {
        "colab": {
          "base_uri": "https://localhost:8080/",
          "height": 1000
        },
        "id": "idMYDxGUvGL-",
        "outputId": "7c7b42e8-befa-4ba8-b269-b2111e840e90"
      },
      "outputs": [
        {
          "output_type": "execute_result",
          "data": {
            "text/plain": [
              "'(1) (2) (2) said as a result of its december acquisition of space co it expects earnings per share in 1987 of 1 15 to 1 30 dlrs per share up from 70 cts in 1986 the company said pretax net should rise to nine to 10 mln dlrs from six mln dlrs in 1986 and rental operation revenues to 19 to 22 mln dlrs from 12 5 mln dlrs it said cash flow per share this year should be 2 50 to three dlrs reuter 3'"
            ],
            "application/vnd.google.colaboratory.intrinsic+json": {
              "type": "string"
            }
          },
          "metadata": {},
          "execution_count": 7
        }
      ],
      "source": [
        "reversed_word_index = {v: k for k, v in word_index.items()}\n",
        "' '.join([reversed_word_index.get(i - 3, '(' + str(i) + ')') for i in train_data[0]])"
      ]
    },
    {
      "cell_type": "code",
      "execution_count": null,
      "metadata": {
        "colab": {
          "base_uri": "https://localhost:8080/"
        },
        "id": "PVnEu8IivGL-",
        "outputId": "eca10172-6ac2-404a-9833-afb6d5ebf317"
      },
      "outputs": [
        {
          "output_type": "execute_result",
          "data": {
            "text/plain": [
              "array([ 3,  4,  3, ..., 25,  3, 25])"
            ]
          },
          "metadata": {},
          "execution_count": 8
        }
      ],
      "source": [
        "train_labels"
      ]
    },
    {
      "cell_type": "markdown",
      "metadata": {
        "id": "s7pBeYF_vGL-"
      },
      "source": [
        "## Preprocessing"
      ]
    },
    {
      "cell_type": "code",
      "execution_count": null,
      "metadata": {
        "id": "uiYAiUb5vGL-"
      },
      "outputs": [],
      "source": [
        "import numpy as np\n",
        "\n",
        "def vectorize(seqs, dim=10000):\n",
        "    results = np.zeros((len(seqs), dim))\n",
        "    for i, seq in enumerate(seqs):\n",
        "        results[i, seq] = 1.\n",
        "    return results"
      ]
    },
    {
      "cell_type": "code",
      "execution_count": null,
      "metadata": {
        "id": "BOuOVOamvGL_"
      },
      "outputs": [],
      "source": [
        "X_train = vectorize(train_data, 10000)\n",
        "X_test = vectorize(test_data, 10000)"
      ]
    },
    {
      "cell_type": "code",
      "execution_count": null,
      "metadata": {
        "colab": {
          "base_uri": "https://localhost:8080/"
        },
        "id": "JO6R8zFnvGL_",
        "outputId": "d6868d3c-aa0c-4c07-b5ce-c7b0f433031a"
      },
      "outputs": [
        {
          "output_type": "stream",
          "name": "stdout",
          "text": [
            "Original values:\t [1, 2, 2, 8, 43, 10, 447, 5, 25, 207, 270, 5, 3095, 111, 16]\n",
            "Vectorized values:\t [0. 1. 1. 0. 1. 1. 1. 1. 1. 1. 1. 1. 1. 0. 0.]\n"
          ]
        }
      ],
      "source": [
        "print(\"Original values:\\t\", train_data[0][:15])\n",
        "print(\"Vectorized values:\\t\", X_train[0][:15])"
      ]
    },
    {
      "cell_type": "code",
      "execution_count": null,
      "metadata": {
        "id": "kr4iIDzQvGL_"
      },
      "outputs": [],
      "source": [
        "from tensorflow.keras.utils import to_categorical\n",
        "\n",
        "Y_train = to_categorical(train_labels)\n",
        "Y_test = to_categorical(test_labels)"
      ]
    },
    {
      "cell_type": "code",
      "execution_count": null,
      "metadata": {
        "colab": {
          "base_uri": "https://localhost:8080/"
        },
        "id": "8cb5c5JSvGL_",
        "outputId": "834372cd-5081-4159-f079-092ef4dd9f37"
      },
      "outputs": [
        {
          "output_type": "execute_result",
          "data": {
            "text/plain": [
              "3"
            ]
          },
          "metadata": {},
          "execution_count": 13
        }
      ],
      "source": [
        "train_labels[0]"
      ]
    },
    {
      "cell_type": "code",
      "execution_count": null,
      "metadata": {
        "colab": {
          "base_uri": "https://localhost:8080/"
        },
        "id": "x7xD21aFvGL_",
        "outputId": "1229ef19-d7a4-4b0b-9c01-1f1ed41d9259"
      },
      "outputs": [
        {
          "output_type": "execute_result",
          "data": {
            "text/plain": [
              "array([0., 0., 0., 1., 0., 0., 0., 0., 0., 0., 0., 0., 0., 0., 0., 0., 0.,\n",
              "       0., 0., 0., 0., 0., 0., 0., 0., 0., 0., 0., 0., 0., 0., 0., 0., 0.,\n",
              "       0., 0., 0., 0., 0., 0., 0., 0., 0., 0., 0., 0.], dtype=float32)"
            ]
          },
          "metadata": {},
          "execution_count": 14
        }
      ],
      "source": [
        "Y_train[0]"
      ]
    },
    {
      "cell_type": "code",
      "execution_count": null,
      "metadata": {
        "id": "3xrvkMfivGL_"
      },
      "outputs": [],
      "source": [
        "from sklearn.model_selection import train_test_split\n",
        "\n",
        "X_test, X_val, Y_test, Y_val = train_test_split(X_test, Y_test, test_size=0.5)"
      ]
    },
    {
      "cell_type": "markdown",
      "metadata": {
        "id": "fTUY4lM-vGL_"
      },
      "source": [
        "## ANN construction"
      ]
    },
    {
      "cell_type": "code",
      "execution_count": null,
      "metadata": {
        "id": "kYi0J4lbvGMA"
      },
      "outputs": [],
      "source": [
        "from tensorflow.keras import models\n",
        "from tensorflow.keras import layers\n",
        "\n",
        "model = models.Sequential()\n",
        "model.add(layers.Dense(512, activation='relu'))\n",
        "model.add(layers.Dense(46, activation='softmax'))"
      ]
    },
    {
      "cell_type": "code",
      "execution_count": null,
      "metadata": {
        "id": "gO473FFNvGMA"
      },
      "outputs": [],
      "source": [
        "from tensorflow.keras import optimizers\n",
        "\n",
        "opt_func = optimizers.RMSprop()"
      ]
    },
    {
      "cell_type": "code",
      "execution_count": null,
      "metadata": {
        "id": "EYAtx58yvGMA"
      },
      "outputs": [],
      "source": [
        "model.compile(\n",
        "    optimizer=opt_func,\n",
        "    loss='categorical_crossentropy',\n",
        "    metrics=['accuracy', 'Precision']\n",
        ")"
      ]
    },
    {
      "cell_type": "code",
      "execution_count": null,
      "metadata": {
        "colab": {
          "base_uri": "https://localhost:8080/"
        },
        "id": "j5RPLiD1vGMA",
        "outputId": "ac69de3a-b1b4-45ef-de26-df51307a94c7"
      },
      "outputs": [
        {
          "output_type": "execute_result",
          "data": {
            "text/plain": [
              "280.6875"
            ]
          },
          "metadata": {},
          "execution_count": 19
        }
      ],
      "source": [
        "len(X_train) / 32"
      ]
    },
    {
      "cell_type": "code",
      "execution_count": null,
      "metadata": {
        "colab": {
          "base_uri": "https://localhost:8080/"
        },
        "id": "9oAQnQnRvGMA",
        "outputId": "36b73c45-d421-45e5-f31a-db1a44b8bf2d"
      },
      "outputs": [
        {
          "output_type": "stream",
          "name": "stdout",
          "text": [
            "Epoch 1/30\n",
            "281/281 [==============================] - 20s 69ms/step - loss: 1.1000 - accuracy: 0.7626 - precision: 0.8862 - val_loss: 0.9095 - val_accuracy: 0.7961 - val_precision: 0.8742\n",
            "Epoch 2/30\n",
            "281/281 [==============================] - 18s 65ms/step - loss: 0.4279 - accuracy: 0.9065 - precision: 0.9294 - val_loss: 0.9593 - val_accuracy: 0.7854 - val_precision: 0.8379\n",
            "Epoch 3/30\n",
            "281/281 [==============================] - 17s 62ms/step - loss: 0.2759 - accuracy: 0.9390 - precision: 0.9459 - val_loss: 1.1210 - val_accuracy: 0.7783 - val_precision: 0.8139\n",
            "Epoch 4/30\n",
            "281/281 [==============================] - 20s 71ms/step - loss: 0.2289 - accuracy: 0.9477 - precision: 0.9510 - val_loss: 1.1382 - val_accuracy: 0.7836 - val_precision: 0.8127\n",
            "Epoch 5/30\n",
            "281/281 [==============================] - 18s 62ms/step - loss: 0.2056 - accuracy: 0.9499 - precision: 0.9521 - val_loss: 1.2369 - val_accuracy: 0.7818 - val_precision: 0.8085\n",
            "Epoch 6/30\n",
            "281/281 [==============================] - 19s 69ms/step - loss: 0.1909 - accuracy: 0.9516 - precision: 0.9532 - val_loss: 1.2118 - val_accuracy: 0.7818 - val_precision: 0.8103\n",
            "Epoch 7/30\n",
            "281/281 [==============================] - 18s 65ms/step - loss: 0.1876 - accuracy: 0.9529 - precision: 0.9547 - val_loss: 1.2403 - val_accuracy: 0.7854 - val_precision: 0.8217\n",
            "Epoch 8/30\n",
            "281/281 [==============================] - 19s 69ms/step - loss: 0.1767 - accuracy: 0.9523 - precision: 0.9537 - val_loss: 1.2896 - val_accuracy: 0.7872 - val_precision: 0.8102\n",
            "Epoch 9/30\n",
            "281/281 [==============================] - 18s 66ms/step - loss: 0.1673 - accuracy: 0.9515 - precision: 0.9524 - val_loss: 1.2626 - val_accuracy: 0.7818 - val_precision: 0.8086\n",
            "Epoch 10/30\n",
            "281/281 [==============================] - 20s 69ms/step - loss: 0.1681 - accuracy: 0.9519 - precision: 0.9531 - val_loss: 1.2474 - val_accuracy: 0.7943 - val_precision: 0.8230\n",
            "Epoch 11/30\n",
            "281/281 [==============================] - 16s 58ms/step - loss: 0.1579 - accuracy: 0.9540 - precision: 0.9547 - val_loss: 1.3040 - val_accuracy: 0.7765 - val_precision: 0.8100\n",
            "Epoch 12/30\n",
            "281/281 [==============================] - 19s 67ms/step - loss: 0.1588 - accuracy: 0.9509 - precision: 0.9519 - val_loss: 1.3856 - val_accuracy: 0.7836 - val_precision: 0.8057\n",
            "Epoch 13/30\n",
            "281/281 [==============================] - 18s 65ms/step - loss: 0.1549 - accuracy: 0.9532 - precision: 0.9539 - val_loss: 1.2962 - val_accuracy: 0.7863 - val_precision: 0.8147\n",
            "Epoch 14/30\n",
            "281/281 [==============================] - 19s 68ms/step - loss: 0.1471 - accuracy: 0.9534 - precision: 0.9541 - val_loss: 1.3897 - val_accuracy: 0.7845 - val_precision: 0.8135\n",
            "Epoch 15/30\n",
            "281/281 [==============================] - 18s 65ms/step - loss: 0.1452 - accuracy: 0.9540 - precision: 0.9549 - val_loss: 1.4559 - val_accuracy: 0.7854 - val_precision: 0.8118\n",
            "Epoch 16/30\n",
            "281/281 [==============================] - 18s 63ms/step - loss: 0.1437 - accuracy: 0.9530 - precision: 0.9535 - val_loss: 1.3932 - val_accuracy: 0.7916 - val_precision: 0.8219\n",
            "Epoch 17/30\n",
            "281/281 [==============================] - 19s 68ms/step - loss: 0.1429 - accuracy: 0.9525 - precision: 0.9528 - val_loss: 1.5232 - val_accuracy: 0.7783 - val_precision: 0.8006\n",
            "Epoch 18/30\n",
            "281/281 [==============================] - 19s 66ms/step - loss: 0.1447 - accuracy: 0.9526 - precision: 0.9528 - val_loss: 1.4199 - val_accuracy: 0.7907 - val_precision: 0.8172\n",
            "Epoch 19/30\n",
            "281/281 [==============================] - 19s 69ms/step - loss: 0.1389 - accuracy: 0.9518 - precision: 0.9528 - val_loss: 1.4954 - val_accuracy: 0.7827 - val_precision: 0.8065\n",
            "Epoch 20/30\n",
            "281/281 [==============================] - 18s 63ms/step - loss: 0.1405 - accuracy: 0.9521 - precision: 0.9524 - val_loss: 1.4755 - val_accuracy: 0.7765 - val_precision: 0.8015\n",
            "Epoch 21/30\n",
            "281/281 [==============================] - 19s 69ms/step - loss: 0.1391 - accuracy: 0.9536 - precision: 0.9543 - val_loss: 1.5336 - val_accuracy: 0.7809 - val_precision: 0.8121\n",
            "Epoch 22/30\n",
            "281/281 [==============================] - 18s 65ms/step - loss: 0.1340 - accuracy: 0.9535 - precision: 0.9539 - val_loss: 1.5141 - val_accuracy: 0.7836 - val_precision: 0.8093\n",
            "Epoch 23/30\n",
            "281/281 [==============================] - 19s 69ms/step - loss: 0.1362 - accuracy: 0.9546 - precision: 0.9552 - val_loss: 1.5519 - val_accuracy: 0.7774 - val_precision: 0.8023\n",
            "Epoch 24/30\n",
            "281/281 [==============================] - 18s 65ms/step - loss: 0.1343 - accuracy: 0.9528 - precision: 0.9535 - val_loss: 1.5299 - val_accuracy: 0.7801 - val_precision: 0.8062\n",
            "Epoch 25/30\n",
            "281/281 [==============================] - 20s 70ms/step - loss: 0.1308 - accuracy: 0.9539 - precision: 0.9542 - val_loss: 1.5400 - val_accuracy: 0.7872 - val_precision: 0.8112\n",
            "Epoch 26/30\n",
            "281/281 [==============================] - 17s 61ms/step - loss: 0.1303 - accuracy: 0.9537 - precision: 0.9546 - val_loss: 1.5541 - val_accuracy: 0.7863 - val_precision: 0.8124\n",
            "Epoch 27/30\n",
            "281/281 [==============================] - 16s 58ms/step - loss: 0.1273 - accuracy: 0.9551 - precision: 0.9562 - val_loss: 1.5741 - val_accuracy: 0.7747 - val_precision: 0.8011\n",
            "Epoch 28/30\n",
            "281/281 [==============================] - 17s 62ms/step - loss: 0.1266 - accuracy: 0.9539 - precision: 0.9544 - val_loss: 1.6894 - val_accuracy: 0.7747 - val_precision: 0.7974\n",
            "Epoch 29/30\n",
            "281/281 [==============================] - 17s 59ms/step - loss: 0.1297 - accuracy: 0.9545 - precision: 0.9551 - val_loss: 1.4859 - val_accuracy: 0.7890 - val_precision: 0.8177\n",
            "Epoch 30/30\n",
            "281/281 [==============================] - 16s 59ms/step - loss: 0.1272 - accuracy: 0.9536 - precision: 0.9540 - val_loss: 1.6517 - val_accuracy: 0.7836 - val_precision: 0.8062\n"
          ]
        }
      ],
      "source": [
        "history = model.fit(\n",
        "    X_train,\n",
        "    Y_train,\n",
        "    epochs=30,\n",
        "    batch_size=32,\n",
        "    validation_data=(X_val, Y_val))"
      ]
    },
    {
      "cell_type": "code",
      "execution_count": null,
      "metadata": {
        "colab": {
          "base_uri": "https://localhost:8080/",
          "height": 54
        },
        "id": "333f31QFvGMA",
        "outputId": "c7134b4e-aa47-404a-8cfd-bb804b347769"
      },
      "outputs": [
        {
          "output_type": "display_data",
          "data": {
            "text/plain": [
              "<Figure size 1000x600 with 1 Axes>"
            ],
            "image/png": "[encoded data removed]"
          },
          "metadata": {}
        }
      ],
      "source": [
        "import pandas as pd\n",
        "import matplotlib.pyplot as plt\n",
        "\n",
        "pd.DataFrame(history.history)[['loss', 'val_loss']].plot(figsize=(10, 6))\n",
        "plt.grid(True)\n",
        "plt.xlabel(\"epochs\")\n",
        "plt.ylabel(\"loss\")\n",
        "plt.show()"
      ]
    },
    {
      "cell_type": "code",
      "execution_count": null,
      "metadata": {
        "colab": {
          "base_uri": "https://localhost:8080/",
          "height": 54
        },
        "id": "tBjJCEBTvGMA",
        "outputId": "bbf6ab40-b56c-4695-c0a2-5858ba877967"
      },
      "outputs": [
        {
          "output_type": "display_data",
          "data": {
            "text/plain": [
              "<Figure size 1000x600 with 1 Axes>"
            ],
            "image/png": "[encoded data removed]"
          },
          "metadata": {}
        }
      ],
      "source": [
        "import pandas as pd\n",
        "import matplotlib.pyplot as plt\n",
        "\n",
        "pd.DataFrame(history.history)[['accuracy', 'val_accuracy']].plot(figsize=(10, 6))\n",
        "plt.grid(True)\n",
        "plt.xlabel(\"epochs\")\n",
        "plt.ylabel(\"accuracy\")\n",
        "plt.show()"
      ]
    },
    {
      "cell_type": "markdown",
      "metadata": {
        "id": "1uTg7kZQvGMB"
      },
      "source": [
        "### Prediction with the test set"
      ]
    },
    {
      "cell_type": "code",
      "execution_count": null,
      "metadata": {
        "colab": {
          "base_uri": "https://localhost:8080/"
        },
        "id": "nXBTZKolvGMB",
        "outputId": "78eedb28-3a6d-4353-f9e6-428f181e5010"
      },
      "outputs": [
        {
          "output_type": "stream",
          "name": "stdout",
          "text": [
            "36/36 [==============================] - 0s 12ms/step - loss: 1.3274 - accuracy: 0.8237 - precision: 0.8481\n"
          ]
        }
      ],
      "source": [
        "error, accuracy, precision = model.evaluate(X_test, Y_test)"
      ]
    },
    {
      "cell_type": "code",
      "execution_count": null,
      "metadata": {
        "colab": {
          "base_uri": "https://localhost:8080/"
        },
        "id": "k9RSh8oOvGMB",
        "outputId": "414309f2-42b9-464a-d717-136387f981c3"
      },
      "outputs": [
        {
          "output_type": "stream",
          "name": "stdout",
          "text": [
            "Error:  1.327358603477478\n",
            "Accuracy:  0.8236865401268005\n",
            "Precision:  0.8481131792068481\n"
          ]
        }
      ],
      "source": [
        "print(\"Error: \", error)\n",
        "print(\"Accuracy: \", accuracy)\n",
        "print(\"Precision: \", precision)"
      ]
    },
    {
      "cell_type": "code",
      "execution_count": null,
      "metadata": {
        "id": "tL5TE14KvGMB"
      },
      "outputs": [],
      "source": []
    }
  ],
  "metadata": {
    "kernelspec": {
      "display_name": "Python 3",
      "language": "python",
      "name": "python3"
    },
    "language_info": {
      "codemirror_mode": {
        "name": "ipython",
        "version": 3
      },
      "file_extension": ".py",
      "mimetype": "text/x-python",
      "name": "python",
      "nbconvert_exporter": "python",
      "pygments_lexer": "ipython3",
      "version": "3.8.5"
    },
    "colab": {
      "provenance": []
    }
  },
  "nbformat": 4,
  "nbformat_minor": 0
}