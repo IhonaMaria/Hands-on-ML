{
  "cells": [
    {
      "cell_type": "markdown",
      "metadata": {
        "id": "BUCpzVP1vGrk"
      },
      "source": [
        "# Hyperparamenter-tunning with Keras Tuner"
      ]
    },
    {
      "cell_type": "markdown",
      "metadata": {
        "id": "bxCsOv21vGrm"
      },
      "source": [
        "## 0. Imports"
      ]
    },
    {
      "cell_type": "code",
      "source": [
        "#!pip install keras-tuner\n"
      ],
      "metadata": {
        "colab": {
          "base_uri": "https://localhost:8080/"
        },
        "id": "ZR0kkpwRwCyp",
        "outputId": "61655915-f919-44d5-dd62-0258b8dc8be1"
      },
      "execution_count": null,
      "outputs": [
        {
          "output_type": "stream",
          "name": "stdout",
          "text": [
            "Collecting keras-tuner\n",
            "  Downloading keras_tuner-1.4.6-py3-none-any.whl (128 kB)\n",
            "\u001b[?25l     \u001b[90m━━━━━━━━━━━━━━━━━━━━━━━━━━━━━━━━━━━━━━━━\u001b[0m \u001b[32m0.0/128.9 kB\u001b[0m \u001b[31m?\u001b[0m eta \u001b[36m-:--:--\u001b[0m\r\u001b[2K     \u001b[91m━━━━━━━━━━━━━━━━━━━━━━━━━━━━━━━━━━━━━━\u001b[0m\u001b[90m╺\u001b[0m\u001b[90m━\u001b[0m \u001b[32m122.9/128.9 kB\u001b[0m \u001b[31m3.6 MB/s\u001b[0m eta \u001b[36m0:00:01\u001b[0m\r\u001b[2K     \u001b[90m━━━━━━━━━━━━━━━━━━━━━━━━━━━━━━━━━━━━━━━━\u001b[0m \u001b[32m128.9/128.9 kB\u001b[0m \u001b[31m2.9 MB/s\u001b[0m eta \u001b[36m0:00:00\u001b[0m\n",
            "\u001b[?25hRequirement already satisfied: keras in /usr/local/lib/python3.10/dist-packages (from keras-tuner) (2.15.0)\n",
            "Requirement already satisfied: packaging in /usr/local/lib/python3.10/dist-packages (from keras-tuner) (23.2)\n",
            "Requirement already satisfied: requests in /usr/local/lib/python3.10/dist-packages (from keras-tuner) (2.31.0)\n",
            "Collecting kt-legacy (from keras-tuner)\n",
            "  Downloading kt_legacy-1.0.5-py3-none-any.whl (9.6 kB)\n",
            "Requirement already satisfied: charset-normalizer<4,>=2 in /usr/local/lib/python3.10/dist-packages (from requests->keras-tuner) (3.3.2)\n",
            "Requirement already satisfied: idna<4,>=2.5 in /usr/local/lib/python3.10/dist-packages (from requests->keras-tuner) (3.6)\n",
            "Requirement already satisfied: urllib3<3,>=1.21.1 in /usr/local/lib/python3.10/dist-packages (from requests->keras-tuner) (2.0.7)\n",
            "Requirement already satisfied: certifi>=2017.4.17 in /usr/local/lib/python3.10/dist-packages (from requests->keras-tuner) (2024.2.2)\n",
            "Installing collected packages: kt-legacy, keras-tuner\n",
            "Successfully installed keras-tuner-1.4.6 kt-legacy-1.0.5\n"
          ]
        }
      ]
    },
    {
      "cell_type": "code",
      "execution_count": null,
      "metadata": {
        "colab": {
          "base_uri": "https://localhost:8080/"
        },
        "id": "PLP8lBY3vGrn",
        "outputId": "452fe5d9-93ba-49b3-c143-5689dadeee98"
      },
      "outputs": [
        {
          "output_type": "stream",
          "name": "stderr",
          "text": [
            "<ipython-input-3-fe85bac8af47>:3: DeprecationWarning: `import kerastuner` is deprecated, please use `import keras_tuner`.\n",
            "  import kerastuner as kt\n"
          ]
        }
      ],
      "source": [
        "import tensorflow as tf\n",
        "from tensorflow import keras\n",
        "import kerastuner as kt"
      ]
    },
    {
      "cell_type": "markdown",
      "metadata": {
        "id": "xbZhoSuXvGrn"
      },
      "source": [
        "## 1. Dataset"
      ]
    },
    {
      "cell_type": "markdown",
      "source": [
        "We will use the Fashion MNIST dataset, which is a drop-in replacement of MNIST (already introduced). It has the exact same format as MNIST (70,000 grayscale images of 28 × 28 pixels each, with 10 classes), but the images represent fashion items rather than handwritten digits, so each class is more diverse and the problem is more challenging."
      ],
      "metadata": {
        "id": "tXFcrWGjwKzP"
      }
    },
    {
      "cell_type": "code",
      "execution_count": null,
      "metadata": {
        "colab": {
          "base_uri": "https://localhost:8080/"
        },
        "id": "Tz8XnT0xvGro",
        "outputId": "f9e1ce29-dd1e-49ff-c662-fc5dcd1315af"
      },
      "outputs": [
        {
          "output_type": "stream",
          "name": "stdout",
          "text": [
            "Downloading data from https://storage.googleapis.com/tensorflow/tf-keras-datasets/train-labels-idx1-ubyte.gz\n",
            "29515/29515 [==============================] - 0s 1us/step\n",
            "Downloading data from https://storage.googleapis.com/tensorflow/tf-keras-datasets/train-images-idx3-ubyte.gz\n",
            "26421880/26421880 [==============================] - 2s 0us/step\n",
            "Downloading data from https://storage.googleapis.com/tensorflow/tf-keras-datasets/t10k-labels-idx1-ubyte.gz\n",
            "5148/5148 [==============================] - 0s 0us/step\n",
            "Downloading data from https://storage.googleapis.com/tensorflow/tf-keras-datasets/t10k-images-idx3-ubyte.gz\n",
            "4422102/4422102 [==============================] - 1s 0us/step\n"
          ]
        }
      ],
      "source": [
        "(img_train, label_train), (img_test, label_test) = keras.datasets.fashion_mnist.load_data()"
      ]
    },
    {
      "cell_type": "code",
      "execution_count": null,
      "metadata": {
        "colab": {
          "base_uri": "https://localhost:8080/",
          "height": 247
        },
        "id": "D4E5khY5vGro",
        "outputId": "82d7db27-91e3-4ae8-da31-334e2e9eb209"
      },
      "outputs": [
        {
          "output_type": "display_data",
          "data": {
            "text/plain": [
              "<Figure size 2000x400 with 8 Axes>"
            ],
            "image/png": "[encoded data removed]"
          },
          "metadata": {}
        }
      ],
      "source": [
        "import numpy as np\n",
        "import matplotlib.pyplot as plt\n",
        "\n",
        "plt.figure(figsize=(20, 4))\n",
        "\n",
        "for index, e in enumerate(img_train[:8]):\n",
        "    plt.subplot(1, 8, index+1)\n",
        "    plt.imshow(e, cmap=plt.cm.gray)\n",
        "    plt.title('Ejemplo: ' + str(index+1))\n",
        "\n",
        "plt.show()"
      ]
    },
    {
      "cell_type": "code",
      "execution_count": null,
      "metadata": {
        "id": "q1S5AcjcvGro"
      },
      "outputs": [],
      "source": [
        "# Normalize the pixel values between 0 and 1 (dividimos entre el valor maximo)\n",
        "img_train = img_train.astype('float32') / 255.0\n",
        "img_test = img_test.astype('float32') / 255.0"
      ]
    },
    {
      "cell_type": "markdown",
      "metadata": {
        "id": "Qudy1aQDvGro"
      },
      "source": [
        "## 2. Model definition"
      ]
    },
    {
      "cell_type": "markdown",
      "metadata": {
        "id": "tMRMzCdCvGro"
      },
      "source": [
        "When building a model to perform _hypertuning_, the hyperparameter search space must be defined in addition to the model architecture. The model you set to perform _hypertuning_ is called _hypermodel_.\n",
        "\n",
        "You can define a _hypermodel_ through two approaches:\n",
        "\n",
        "* Implementing a function that builds the model (like in this jupyter notebook), which is easier and more intuitive.\n",
        "* Creating a subclass of the `HyperModel` class of the Keras Tuner API\n",
        "\n",
        "You can also use two predefined `HyperModel` classes, `HyperXception` and `HyperResNet` for computer vision applications.\n",
        "\n",
        "In this tutorial, we implement a function that builds an image classification model. The function returns a compiled model and uses the defined hyperparameters to perform _hypertuning_ on it."
      ]
    },
    {
      "cell_type": "code",
      "execution_count": null,
      "metadata": {
        "id": "WfGF60W8vGrp"
      },
      "outputs": [],
      "source": [
        "def model_builder(hp):\n",
        "\n",
        "    # Model definition\n",
        "    model = keras.Sequential()\n",
        "    model.add(keras.layers.Flatten(input_shape=(28, 28))) # Flatten transforms the matrix 28x28 into an array.\n",
        "\n",
        "    # Tunning number of layers in the first hidden layer\n",
        "    # Select optimum value between 32 y 512\n",
        "    hp_units = hp.Int('units', min_value = 32, max_value = 512, step = 32) # Int recorre el rango\n",
        "    model.add(keras.layers.Dense(units = hp_units, activation='relu'))\n",
        "\n",
        "    # Tunning learning rate for the optimization algorithm\n",
        "    # Select the optimum value between  [0.01, 0.001, 0.0001]\n",
        "    hp_learning_rate = hp.Choice('learning_rate', values=[1e-2, 1e-3, 1e-4]) # choice escoge entre las opciones\n",
        "\n",
        "    model.compile(\n",
        "        optimizer=keras.optimizers.Adam(learning_rate = hp_learning_rate),\n",
        "        loss=keras.losses.SparseCategoricalCrossentropy(from_logits=True),\n",
        "        metrics=['accuracy'])\n",
        "\n",
        "    return model\n"
      ]
    },
    {
      "cell_type": "markdown",
      "metadata": {
        "id": "Hn_sBNXcvGrp"
      },
      "source": [
        "The `hp` parameter that the function receives corresponds to an object of the `HyperParameters` class, which, in general, corresponds to a \"store\" of hyperparameters."
      ]
    },
    {
      "cell_type": "markdown",
      "metadata": {
        "id": "kRK9D-uivGrp"
      },
      "source": [
        "## 3.  _hypertuning_ performance"
      ]
    },
    {
      "cell_type": "markdown",
      "metadata": {
        "id": "mYUZ3pilvGrp"
      },
      "source": [
        "\n",
        "Once the previous function is defined, the Tuner is instantiated to perform _hypertuning_. The _Keras Tuner_ has four _tuners_ available - `RandomSearch`, `Hyperband`, `BayesianOptimization` and `Sklearn`. In this tutorial, `Hyperband` is used : (https://arxiv.org/pdf/1603.06560.pdf). You can check the documention for mor einformation on the others.\n",
        "\n",
        "To instantiate the Hyperband _tuner_, you must specify the _hypermodel_, the objective to optimize and the maximum number of epochs to train (max_epochs)."
      ]
    },
    {
      "cell_type": "code",
      "execution_count": null,
      "metadata": {
        "id": "3dKmzXnDvGrp"
      },
      "outputs": [],
      "source": [
        "tuner = kt.Hyperband(\n",
        "    model_builder,\n",
        "    objective = 'val_accuracy',\n",
        "    max_epochs = 10,\n",
        "    factor = 3,\n",
        "    directory = 'test_dir',\n",
        "    project_name = 'hp_tuning'\n",
        ")"
      ]
    },
    {
      "cell_type": "code",
      "execution_count": null,
      "metadata": {
        "colab": {
          "base_uri": "https://localhost:8080/"
        },
        "id": "UvMWPhg6vGrq",
        "outputId": "d2a5a146-3c5d-425b-e814-31d1aff17be8"
      },
      "outputs": [
        {
          "output_type": "stream",
          "name": "stdout",
          "text": [
            "Trial 30 Complete [00h 01m 06s]\n",
            "val_accuracy: 0.6431000232696533\n",
            "\n",
            "Best val_accuracy So Far: 0.847100019454956\n",
            "Total elapsed time: 00h 25m 17s\n"
          ]
        }
      ],
      "source": [
        "# tuner execution to search for the hyperparameters\n",
        "tuner.search(\n",
        "    img_train,\n",
        "    label_train,\n",
        "    epochs = 10,\n",
        "    validation_data = (img_test, label_test) # here it should technically be the validation set, for teaching purposes only we will use the test\n",
        ")"
      ]
    },
    {
      "cell_type": "code",
      "execution_count": null,
      "metadata": {
        "colab": {
          "base_uri": "https://localhost:8080/"
        },
        "id": "wVkpm-1KvGrq",
        "outputId": "9646944f-1eed-45f8-a605-4cac2b510a6b"
      },
      "outputs": [
        {
          "output_type": "stream",
          "name": "stdout",
          "text": [
            "Units: 160\n",
            "Learning rate: 0.001\n"
          ]
        }
      ],
      "source": [
        "# get the best hyperparameters\n",
        "best_hps = tuner.get_best_hyperparameters(num_trials=1)[0]\n",
        "\n",
        "print(\"Units:\", best_hps.get('units'))\n",
        "print(\"Learning rate:\", best_hps.get('learning_rate'))"
      ]
    },
    {
      "cell_type": "markdown",
      "metadata": {
        "id": "gBO3iNt0vGrq"
      },
      "source": [
        "## 5. Model training"
      ]
    },
    {
      "cell_type": "code",
      "execution_count": null,
      "metadata": {
        "colab": {
          "base_uri": "https://localhost:8080/"
        },
        "id": "sCZQFYH5vGrq",
        "outputId": "f803a1bd-0227-44a7-8751-a7182f0d6aaf"
      },
      "outputs": [
        {
          "output_type": "stream",
          "name": "stdout",
          "text": [
            "Epoch 1/10\n",
            "1875/1875 [==============================] - 9s 5ms/step - loss: 1.7329 - accuracy: 0.6700 - val_loss: 1.5311 - val_accuracy: 0.7030\n",
            "Epoch 2/10\n",
            "1875/1875 [==============================] - 7s 4ms/step - loss: 1.4705 - accuracy: 0.7147 - val_loss: 1.4786 - val_accuracy: 0.7114\n",
            "Epoch 3/10\n",
            "1875/1875 [==============================] - 8s 4ms/step - loss: 1.4312 - accuracy: 0.7210 - val_loss: 1.4517 - val_accuracy: 0.7158\n",
            "Epoch 4/10\n",
            "1875/1875 [==============================] - 9s 5ms/step - loss: 1.4102 - accuracy: 0.7237 - val_loss: 1.4362 - val_accuracy: 0.7172\n",
            "Epoch 5/10\n",
            "1875/1875 [==============================] - 8s 4ms/step - loss: 1.3969 - accuracy: 0.7254 - val_loss: 1.4331 - val_accuracy: 0.7151\n",
            "Epoch 6/10\n",
            "1875/1875 [==============================] - 9s 5ms/step - loss: 1.3867 - accuracy: 0.7277 - val_loss: 1.4267 - val_accuracy: 0.7181\n",
            "Epoch 7/10\n",
            "1875/1875 [==============================] - 9s 5ms/step - loss: 1.3802 - accuracy: 0.7277 - val_loss: 1.4213 - val_accuracy: 0.7185\n",
            "Epoch 8/10\n",
            "1875/1875 [==============================] - 7s 4ms/step - loss: 1.3732 - accuracy: 0.7284 - val_loss: 1.4184 - val_accuracy: 0.7180\n",
            "Epoch 9/10\n",
            "1875/1875 [==============================] - 8s 5ms/step - loss: 1.3688 - accuracy: 0.7299 - val_loss: 1.4132 - val_accuracy: 0.7185\n",
            "Epoch 10/10\n",
            "1875/1875 [==============================] - 8s 4ms/step - loss: 1.3644 - accuracy: 0.7303 - val_loss: 1.4098 - val_accuracy: 0.7189\n"
          ]
        }
      ],
      "source": [
        "model = tuner.hypermodel.build(best_hps) # we use the tuner to get the model with the best hyperparameters\n",
        "\n",
        "history = model.fit(\n",
        "    img_train,\n",
        "    label_train,\n",
        "    epochs = 10,\n",
        "    validation_data = (img_test, label_test)\n",
        ")"
      ]
    },
    {
      "cell_type": "code",
      "execution_count": null,
      "metadata": {
        "colab": {
          "base_uri": "https://localhost:8080/",
          "height": 619
        },
        "id": "1WAoYE0ovGrr",
        "outputId": "7fafddc1-b391-46e7-e3c0-223d28e8ad25"
      },
      "outputs": [
        {
          "output_type": "display_data",
          "data": {
            "text/plain": [
              "<Figure size 1000x700 with 1 Axes>"
            ],
            "image/png": "[encoded data removed]"
          },
          "metadata": {}
        }
      ],
      "source": [
        "import pandas as pd\n",
        "\n",
        "pd.DataFrame(history.history)[['accuracy', 'val_accuracy']].plot(figsize=(10, 7))\n",
        "plt.grid(True)\n",
        "plt.xlabel(\"epochs\")\n",
        "plt.show()"
      ]
    },
    {
      "cell_type": "code",
      "execution_count": null,
      "metadata": {
        "id": "-BNw2WLDvGrr"
      },
      "outputs": [],
      "source": []
    }
  ],
  "metadata": {
    "kernelspec": {
      "display_name": "Python 3",
      "language": "python",
      "name": "python3"
    },
    "language_info": {
      "codemirror_mode": {
        "name": "ipython",
        "version": 3
      },
      "file_extension": ".py",
      "mimetype": "text/x-python",
      "name": "python",
      "nbconvert_exporter": "python",
      "pygments_lexer": "ipython3",
      "version": "3.8.5"
    },
    "colab": {
      "provenance": []
    }
  },
  "nbformat": 4,
  "nbformat_minor": 0
}