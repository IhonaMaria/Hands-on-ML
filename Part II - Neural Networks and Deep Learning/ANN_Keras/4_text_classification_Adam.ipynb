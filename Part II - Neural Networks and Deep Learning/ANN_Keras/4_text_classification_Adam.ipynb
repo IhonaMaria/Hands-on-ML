{
  "cells": [
    {
      "cell_type": "markdown",
      "metadata": {
        "id": "omPL0a3WG7P9"
      },
      "source": [
        "#Optimizing function 4: Adam"
      ]
    },
    {
      "cell_type": "markdown",
      "metadata": {
        "id": "O7lprUTDG7P_"
      },
      "source": [
        "## Conjunto de datos"
      ]
    },
    {
      "cell_type": "markdown",
      "metadata": {
        "id": "iTl1jKJyG7P_"
      },
      "source": [
        "This is a data set of 11,228 Reuters news stories, tagged into 46 topics. There are 46 theme categories into which a story can be categorized into (so it's not a binary classification).\n",
        "\n",
        "Each news item is encoded as a list of word indexes (integers). For convenience, words are indexed by overall frequency in the data set, so that, for example, the integer \"3\" encodes the third most frequent word in the data. This allows quick filtering operations such as: \"consider only the 10,000 most common words, but eliminate the 20 most common words.\" **Note:** Here, it has been used the same dataset as a previous example. For more insights on the dataset and the processing steps, please take a look at the following notbook that is in the same folder: *Text_classification(mini-Batch Gradient Descent).ipynb*"
      ]
    },
    {
      "cell_type": "markdown",
      "metadata": {
        "id": "acP3skmxG7QA"
      },
      "source": [
        "## Importing and visualizing dataset"
      ]
    },
    {
      "cell_type": "code",
      "execution_count": null,
      "metadata": {
        "id": "ZyAlOAz4G7QA"
      },
      "outputs": [],
      "source": [
        "from tensorflow.keras.datasets import reuters"
      ]
    },
    {
      "cell_type": "code",
      "execution_count": null,
      "metadata": {
        "colab": {
          "base_uri": "https://localhost:8080/"
        },
        "id": "y1vj1f6yG7QA",
        "outputId": "874d7fef-c80d-4e80-8762-3e057aede46f"
      },
      "outputs": [
        {
          "output_type": "stream",
          "name": "stdout",
          "text": [
            "Downloading data from https://storage.googleapis.com/tensorflow/tf-keras-datasets/reuters.npz\n",
            "2110848/2110848 [==============================] - 0s 0us/step\n"
          ]
        }
      ],
      "source": [
        "(train_data, train_labels), (test_data, test_labels) = reuters.load_data(num_words=10000)"
      ]
    },
    {
      "cell_type": "code",
      "execution_count": null,
      "metadata": {
        "colab": {
          "base_uri": "https://localhost:8080/"
        },
        "id": "YXpLtjQfG7QB",
        "outputId": "2f447825-30ff-4250-e206-795d2122b61c"
      },
      "outputs": [
        {
          "output_type": "stream",
          "name": "stdout",
          "text": [
            "Downloading data from https://storage.googleapis.com/tensorflow/tf-keras-datasets/reuters_word_index.json\n",
            "550378/550378 [==============================] - 0s 0us/step\n"
          ]
        }
      ],
      "source": [
        "word_index = reuters.get_word_index()\n"
      ]
    },
    {
      "cell_type": "code",
      "execution_count": null,
      "metadata": {
        "colab": {
          "base_uri": "https://localhost:8080/"
        },
        "id": "EA4SayR-G7QB",
        "outputId": "979caf71-021a-42b9-ef22-bd1e7f614b92"
      },
      "outputs": [
        {
          "output_type": "stream",
          "name": "stdout",
          "text": [
            "Trainning data: 8982\n",
            "Testing data: 2246\n"
          ]
        }
      ],
      "source": [
        "print(\"Trainning data:\", len(train_data))\n",
        "print(\"Testing data:\", len(test_data))"
      ]
    },
    {
      "cell_type": "code",
      "execution_count": null,
      "metadata": {
        "colab": {
          "base_uri": "https://localhost:8080/"
        },
        "id": "i0mN192lG7QB",
        "outputId": "fd15400e-0e95-4569-eb93-587f2ca3470d"
      },
      "outputs": [
        {
          "output_type": "stream",
          "name": "stdout",
          "text": [
            "[1, 2, 2, 8, 43, 10, 447, 5, 25, 207, 270, 5, 3095, 111, 16, 369, 186, 90, 67, 7, 89, 5, 19, 102, 6, 19, 124, 15, 90, 67, 84, 22, 482, 26, 7, 48, 4, 49, 8, 864, 39, 209, 154, 6, 151, 6, 83, 11, 15, 22, 155, 11, 15, 7, 48, 9, 4579, 1005, 504, 6, 258, 6, 272, 11, 15, 22, 134, 44, 11, 15, 16, 8, 197, 1245, 90, 67, 52, 29, 209, 30, 32, 132, 6, 109, 15, 17, 12]\n"
          ]
        }
      ],
      "source": [
        "print(train_data[0])"
      ]
    },
    {
      "cell_type": "code",
      "execution_count": null,
      "metadata": {
        "id": "p5-sx9Y4G7QB"
      },
      "outputs": [],
      "source": [
        "reversed_word_index = {v: k for k, v in word_index.items()}\n",
        "' '.join([reversed_word_index.get(i - 3, '(' + str(i) + ')') for i in train_data[0]])"
      ]
    },
    {
      "cell_type": "code",
      "execution_count": null,
      "metadata": {
        "id": "BC_3I8REG7QC"
      },
      "outputs": [],
      "source": [
        "train_labels"
      ]
    },
    {
      "cell_type": "markdown",
      "metadata": {
        "id": "D08vyg-KG7QC"
      },
      "source": [
        "## Preprocessing"
      ]
    },
    {
      "cell_type": "code",
      "execution_count": null,
      "metadata": {
        "id": "yFvoDfdkG7QC"
      },
      "outputs": [],
      "source": [
        "import numpy as np\n",
        "\n",
        "def vectorize(seqs, dim=10000):\n",
        "    results = np.zeros((len(seqs), dim))\n",
        "    for i, seq in enumerate(seqs):\n",
        "        results[i, seq] = 1.\n",
        "    return results"
      ]
    },
    {
      "cell_type": "code",
      "execution_count": null,
      "metadata": {
        "id": "5Fi2-2cbG7QC"
      },
      "outputs": [],
      "source": [
        "X_train = vectorize(train_data, 10000)\n",
        "X_test = vectorize(test_data, 10000)"
      ]
    },
    {
      "cell_type": "code",
      "execution_count": null,
      "metadata": {
        "id": "9w2BtzBYG7QC"
      },
      "outputs": [],
      "source": [
        "from tensorflow.keras.utils import to_categorical\n",
        "\n",
        "Y_train = to_categorical(train_labels)\n",
        "Y_test = to_categorical(test_labels)"
      ]
    },
    {
      "cell_type": "code",
      "execution_count": null,
      "metadata": {
        "colab": {
          "base_uri": "https://localhost:8080/"
        },
        "id": "y1gN6LmWG7QC",
        "outputId": "098079b8-de60-4389-91f7-8368b3497b74"
      },
      "outputs": [
        {
          "output_type": "execute_result",
          "data": {
            "text/plain": [
              "3"
            ]
          },
          "metadata": {},
          "execution_count": 9
        }
      ],
      "source": [
        "train_labels[0]"
      ]
    },
    {
      "cell_type": "code",
      "execution_count": null,
      "metadata": {
        "colab": {
          "base_uri": "https://localhost:8080/"
        },
        "id": "UyGU3WNNG7QD",
        "outputId": "017d3899-abdd-42af-d484-1f7b35e269be"
      },
      "outputs": [
        {
          "output_type": "execute_result",
          "data": {
            "text/plain": [
              "array([0., 0., 0., 1., 0., 0., 0., 0., 0., 0., 0., 0., 0., 0., 0., 0., 0.,\n",
              "       0., 0., 0., 0., 0., 0., 0., 0., 0., 0., 0., 0., 0., 0., 0., 0., 0.,\n",
              "       0., 0., 0., 0., 0., 0., 0., 0., 0., 0., 0., 0.], dtype=float32)"
            ]
          },
          "metadata": {},
          "execution_count": 10
        }
      ],
      "source": [
        "Y_train[0]"
      ]
    },
    {
      "cell_type": "code",
      "execution_count": null,
      "metadata": {
        "id": "fuijNDDqG7QD"
      },
      "outputs": [],
      "source": [
        "from sklearn.model_selection import train_test_split\n",
        "\n",
        "X_test, X_val, Y_test, Y_val = train_test_split(X_test, Y_test, test_size=0.5)"
      ]
    },
    {
      "cell_type": "markdown",
      "metadata": {
        "id": "C-ZYEmyxG7QD"
      },
      "source": [
        "## Neural network construction"
      ]
    },
    {
      "cell_type": "code",
      "execution_count": null,
      "metadata": {
        "id": "h8dDIB8DG7QD"
      },
      "outputs": [],
      "source": [
        "from tensorflow.keras import models\n",
        "from tensorflow.keras import layers\n",
        "\n",
        "model = models.Sequential()\n",
        "model.add(layers.Dense(512, activation='relu'))\n",
        "model.add(layers.Dense(46, activation='softmax'))"
      ]
    },
    {
      "cell_type": "code",
      "execution_count": null,
      "metadata": {
        "id": "xBFxhmQ3G7QD"
      },
      "outputs": [],
      "source": [
        "from tensorflow.keras import optimizers\n",
        "\n",
        "opt_func = optimizers.Adam()"
      ]
    },
    {
      "cell_type": "code",
      "execution_count": null,
      "metadata": {
        "id": "nJtkit3YG7QD"
      },
      "outputs": [],
      "source": [
        "model.compile(\n",
        "    optimizer=opt_func,\n",
        "    loss='categorical_crossentropy',\n",
        "    metrics=['accuracy', 'Precision']\n",
        ")"
      ]
    },
    {
      "cell_type": "code",
      "execution_count": null,
      "metadata": {
        "colab": {
          "base_uri": "https://localhost:8080/"
        },
        "id": "v042mrg6G7QD",
        "outputId": "03315381-8d56-446f-f43c-0f29c62b71fc"
      },
      "outputs": [
        {
          "output_type": "execute_result",
          "data": {
            "text/plain": [
              "280.6875"
            ]
          },
          "metadata": {},
          "execution_count": 15
        }
      ],
      "source": [
        "len(X_train) / 32"
      ]
    },
    {
      "cell_type": "code",
      "execution_count": null,
      "metadata": {
        "colab": {
          "base_uri": "https://localhost:8080/"
        },
        "id": "YHOkLtIqG7QE",
        "outputId": "60f30e9f-c215-4e09-9e24-4b854101be00"
      },
      "outputs": [
        {
          "output_type": "stream",
          "name": "stdout",
          "text": [
            "Epoch 1/30\n",
            "281/281 [==============================] - 25s 84ms/step - loss: 1.1216 - accuracy: 0.7595 - precision: 0.8862 - val_loss: 0.8115 - val_accuracy: 0.8068 - val_precision: 0.8810\n",
            "Epoch 2/30\n",
            "281/281 [==============================] - 23s 83ms/step - loss: 0.3350 - accuracy: 0.9241 - precision: 0.9391 - val_loss: 0.8387 - val_accuracy: 0.8094 - val_precision: 0.8627\n",
            "Epoch 3/30\n",
            "281/281 [==============================] - 24s 85ms/step - loss: 0.2382 - accuracy: 0.9441 - precision: 0.9477 - val_loss: 0.8728 - val_accuracy: 0.8005 - val_precision: 0.8459\n",
            "Epoch 4/30\n",
            "281/281 [==============================] - 23s 82ms/step - loss: 0.1949 - accuracy: 0.9493 - precision: 0.9518 - val_loss: 0.8908 - val_accuracy: 0.8032 - val_precision: 0.8408\n",
            "Epoch 5/30\n",
            "281/281 [==============================] - 23s 83ms/step - loss: 0.1728 - accuracy: 0.9501 - precision: 0.9510 - val_loss: 0.8700 - val_accuracy: 0.8094 - val_precision: 0.8500\n",
            "Epoch 6/30\n",
            "281/281 [==============================] - 22s 78ms/step - loss: 0.1620 - accuracy: 0.9515 - precision: 0.9522 - val_loss: 0.9203 - val_accuracy: 0.7988 - val_precision: 0.8266\n",
            "Epoch 7/30\n",
            "281/281 [==============================] - 23s 82ms/step - loss: 0.1467 - accuracy: 0.9521 - precision: 0.9527 - val_loss: 0.9179 - val_accuracy: 0.8005 - val_precision: 0.8346\n",
            "Epoch 8/30\n",
            "281/281 [==============================] - 23s 81ms/step - loss: 0.1396 - accuracy: 0.9518 - precision: 0.9531 - val_loss: 0.9812 - val_accuracy: 0.7961 - val_precision: 0.8277\n",
            "Epoch 9/30\n",
            "281/281 [==============================] - 27s 96ms/step - loss: 0.1345 - accuracy: 0.9532 - precision: 0.9539 - val_loss: 0.9223 - val_accuracy: 0.8077 - val_precision: 0.8475\n",
            "Epoch 10/30\n",
            "281/281 [==============================] - 25s 89ms/step - loss: 0.1294 - accuracy: 0.9512 - precision: 0.9525 - val_loss: 0.9770 - val_accuracy: 0.7907 - val_precision: 0.8234\n",
            "Epoch 11/30\n",
            "281/281 [==============================] - 26s 93ms/step - loss: 0.1234 - accuracy: 0.9497 - precision: 0.9517 - val_loss: 0.9927 - val_accuracy: 0.7961 - val_precision: 0.8263\n",
            "Epoch 12/30\n",
            "281/281 [==============================] - 27s 95ms/step - loss: 0.1156 - accuracy: 0.9522 - precision: 0.9536 - val_loss: 0.9766 - val_accuracy: 0.8005 - val_precision: 0.8370\n",
            "Epoch 13/30\n",
            "281/281 [==============================] - 24s 85ms/step - loss: 0.1118 - accuracy: 0.9531 - precision: 0.9553 - val_loss: 1.0544 - val_accuracy: 0.7925 - val_precision: 0.8241\n",
            "Epoch 14/30\n",
            "281/281 [==============================] - 23s 80ms/step - loss: 0.1072 - accuracy: 0.9541 - precision: 0.9555 - val_loss: 1.1193 - val_accuracy: 0.7801 - val_precision: 0.8114\n",
            "Epoch 15/30\n",
            "281/281 [==============================] - 23s 81ms/step - loss: 0.1094 - accuracy: 0.9519 - precision: 0.9536 - val_loss: 1.0695 - val_accuracy: 0.7961 - val_precision: 0.8278\n",
            "Epoch 16/30\n",
            "281/281 [==============================] - 27s 96ms/step - loss: 0.1059 - accuracy: 0.9527 - precision: 0.9543 - val_loss: 1.0660 - val_accuracy: 0.7988 - val_precision: 0.8249\n",
            "Epoch 17/30\n",
            "281/281 [==============================] - 24s 84ms/step - loss: 0.1000 - accuracy: 0.9541 - precision: 0.9559 - val_loss: 1.0930 - val_accuracy: 0.7907 - val_precision: 0.8188\n",
            "Epoch 18/30\n",
            "281/281 [==============================] - 22s 78ms/step - loss: 0.0944 - accuracy: 0.9517 - precision: 0.9545 - val_loss: 1.1281 - val_accuracy: 0.7943 - val_precision: 0.8147\n",
            "Epoch 19/30\n",
            "281/281 [==============================] - 22s 79ms/step - loss: 0.0924 - accuracy: 0.9541 - precision: 0.9561 - val_loss: 1.1778 - val_accuracy: 0.7872 - val_precision: 0.8110\n",
            "Epoch 20/30\n",
            "281/281 [==============================] - 23s 81ms/step - loss: 0.0898 - accuracy: 0.9535 - precision: 0.9554 - val_loss: 1.1458 - val_accuracy: 0.7916 - val_precision: 0.8201\n",
            "Epoch 21/30\n",
            "281/281 [==============================] - 24s 84ms/step - loss: 0.0896 - accuracy: 0.9541 - precision: 0.9566 - val_loss: 1.2108 - val_accuracy: 0.7934 - val_precision: 0.8176\n",
            "Epoch 22/30\n",
            "281/281 [==============================] - 23s 82ms/step - loss: 0.0899 - accuracy: 0.9548 - precision: 0.9573 - val_loss: 1.2544 - val_accuracy: 0.7925 - val_precision: 0.8202\n",
            "Epoch 23/30\n",
            "281/281 [==============================] - 23s 83ms/step - loss: 0.0899 - accuracy: 0.9541 - precision: 0.9559 - val_loss: 1.2578 - val_accuracy: 0.7872 - val_precision: 0.8178\n",
            "Epoch 24/30\n",
            "281/281 [==============================] - 22s 80ms/step - loss: 0.0938 - accuracy: 0.9531 - precision: 0.9548 - val_loss: 1.2905 - val_accuracy: 0.7872 - val_precision: 0.8151\n",
            "Epoch 25/30\n",
            "281/281 [==============================] - 22s 79ms/step - loss: 0.0853 - accuracy: 0.9536 - precision: 0.9563 - val_loss: 1.3555 - val_accuracy: 0.7890 - val_precision: 0.8139\n",
            "Epoch 26/30\n",
            "281/281 [==============================] - 23s 83ms/step - loss: 0.0904 - accuracy: 0.9531 - precision: 0.9550 - val_loss: 1.3319 - val_accuracy: 0.7845 - val_precision: 0.8133\n",
            "Epoch 27/30\n",
            "281/281 [==============================] - 23s 82ms/step - loss: 0.0879 - accuracy: 0.9537 - precision: 0.9561 - val_loss: 1.3649 - val_accuracy: 0.7863 - val_precision: 0.8103\n",
            "Epoch 28/30\n",
            "281/281 [==============================] - 23s 82ms/step - loss: 0.0817 - accuracy: 0.9540 - precision: 0.9575 - val_loss: 1.3236 - val_accuracy: 0.7925 - val_precision: 0.8277\n",
            "Epoch 29/30\n",
            "281/281 [==============================] - 23s 82ms/step - loss: 0.0776 - accuracy: 0.9550 - precision: 0.9574 - val_loss: 1.3740 - val_accuracy: 0.7854 - val_precision: 0.8145\n",
            "Epoch 30/30\n",
            "281/281 [==============================] - 22s 79ms/step - loss: 0.0758 - accuracy: 0.9547 - precision: 0.9583 - val_loss: 1.4643 - val_accuracy: 0.7934 - val_precision: 0.8225\n"
          ]
        }
      ],
      "source": [
        "history = model.fit(\n",
        "    X_train,\n",
        "    Y_train,\n",
        "    epochs=30,\n",
        "    batch_size=32,\n",
        "    validation_data=(X_val, Y_val))"
      ]
    },
    {
      "cell_type": "code",
      "execution_count": null,
      "metadata": {
        "colab": {
          "base_uri": "https://localhost:8080/",
          "height": 542
        },
        "id": "vDtoPsMgG7QE",
        "outputId": "06114d11-c01f-488c-fb32-ba379081140f"
      },
      "outputs": [
        {
          "output_type": "display_data",
          "data": {
            "text/plain": [
              "<Figure size 1000x600 with 1 Axes>"
            ],
            "image/png": "[encoded data removed]"
          },
          "metadata": {}
        }
      ],
      "source": [
        "import pandas as pd\n",
        "import matplotlib.pyplot as plt\n",
        "\n",
        "pd.DataFrame(history.history)[['loss', 'val_loss']].plot(figsize=(10, 6))\n",
        "plt.grid(True)\n",
        "plt.xlabel(\"epochs\")\n",
        "plt.ylabel(\"loss\")\n",
        "plt.show()"
      ]
    },
    {
      "cell_type": "markdown",
      "source": [
        "Overfitting is produced. From the begining the error from the validation set raises. We are doing a lot of optimization of the parameters per epoch and it is an algorithm that quickly finds the  optimal solution so it ends up overfitting (since the first epoch). If we increase the mini-batch size we will reduce the overfitting."
      ],
      "metadata": {
        "id": "ULF3rloiIm-D"
      }
    },
    {
      "cell_type": "code",
      "execution_count": null,
      "metadata": {
        "colab": {
          "base_uri": "https://localhost:8080/",
          "height": 542
        },
        "id": "1m_PR2RQG7QE",
        "outputId": "91b3387c-1a0d-4d06-fe4b-a25714bf8f39"
      },
      "outputs": [
        {
          "output_type": "display_data",
          "data": {
            "text/plain": [
              "<Figure size 1000x600 with 1 Axes>"
            ],
            "image/png": "[encoded data removed]"
          },
          "metadata": {}
        }
      ],
      "source": [
        "import pandas as pd\n",
        "import matplotlib.pyplot as plt\n",
        "\n",
        "pd.DataFrame(history.history)[['accuracy', 'val_accuracy']].plot(figsize=(10, 6))\n",
        "plt.grid(True)\n",
        "plt.xlabel(\"epochs\")\n",
        "plt.ylabel(\"accuracy\")\n",
        "plt.show()"
      ]
    },
    {
      "cell_type": "markdown",
      "metadata": {
        "id": "rcMjpvYCG7QE"
      },
      "source": [
        "### Prediction with the test set"
      ]
    },
    {
      "cell_type": "code",
      "execution_count": null,
      "metadata": {
        "colab": {
          "base_uri": "https://localhost:8080/"
        },
        "id": "xq0znFX-G7QE",
        "outputId": "271d397c-2784-4bf2-a830-5f6ed64d9605"
      },
      "outputs": [
        {
          "output_type": "stream",
          "name": "stdout",
          "text": [
            "36/36 [==============================] - 0s 11ms/step - loss: 1.6525 - accuracy: 0.7934 - precision: 0.8184\n"
          ]
        }
      ],
      "source": [
        "error, accuracy, precision = model.evaluate(X_test, Y_test)"
      ]
    },
    {
      "cell_type": "code",
      "execution_count": null,
      "metadata": {
        "colab": {
          "base_uri": "https://localhost:8080/"
        },
        "id": "2LA7mii4G7QE",
        "outputId": "a8493efc-99f8-4da5-cee5-463ffce12062"
      },
      "outputs": [
        {
          "output_type": "stream",
          "name": "stdout",
          "text": [
            "Error:  1.6524670124053955\n",
            "Accuracy:  0.7934104800224304\n",
            "Precision:  0.8183520436286926\n"
          ]
        }
      ],
      "source": [
        "print(\"Error: \", error)\n",
        "print(\"Accuracy: \", accuracy)\n",
        "print(\"Precision: \", precision)"
      ]
    },
    {
      "cell_type": "code",
      "execution_count": null,
      "metadata": {
        "id": "T5e4Td03G7QE"
      },
      "outputs": [],
      "source": []
    }
  ],
  "metadata": {
    "kernelspec": {
      "display_name": "Python 3",
      "language": "python",
      "name": "python3"
    },
    "language_info": {
      "codemirror_mode": {
        "name": "ipython",
        "version": 3
      },
      "file_extension": ".py",
      "mimetype": "text/x-python",
      "name": "python",
      "nbconvert_exporter": "python",
      "pygments_lexer": "ipython3",
      "version": "3.8.5"
    },
    "colab": {
      "provenance": []
    }
  },
  "nbformat": 4,
  "nbformat_minor": 0
}